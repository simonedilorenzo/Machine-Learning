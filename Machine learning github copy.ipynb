{
  "cells": [
    {
      "cell_type": "markdown",
      "metadata": {
        "collapsed": false,
        "id": "rte5sgXiKjcq"
      },
      "source": [
        "# Predicting Future Stock Prices using Machine Learning Algorithms\n",
        "\n",
        "In this project I will apply different machine learning algorithms in order to predict whether tomorrow's closing value of a stock will be higher or lower than today's closing value."
      ]
    },
    {
      "cell_type": "code",
      "execution_count": 1,
      "metadata": {
        "ExecuteTime": {
          "end_time": "2023-06-15T12:36:11.136245900Z",
          "start_time": "2023-06-15T12:36:07.877957900Z"
        },
        "id": "H9eEbSuwKjc3"
      },
      "outputs": [],
      "source": [
        "#importing all the main libraries we will use in this section\n",
        "import pandas as pd\n",
        "import numpy as np\n",
        "import matplotlib.pyplot as plt\n",
        "import matplotlib.cm as cm\n",
        "import seaborn as sns\n",
        "import re\n",
        "import pickle\n",
        "import random\n",
        "from sklearn.preprocessing import StandardScaler, MinMaxScaler, RobustScaler, MaxAbsScaler, PowerTransformer\n",
        "from sklearn.model_selection import train_test_split\n",
        "from sklearn.ensemble import RandomForestClassifier\n",
        "from sklearn.linear_model import LogisticRegression\n",
        "from sklearn.model_selection import cross_val_predict\n",
        "from sklearn.model_selection import cross_val_score\n",
        "from sklearn.metrics import classification_report\n",
        "from sklearn.model_selection import KFold\n",
        "from sklearn.ensemble import GradientBoostingClassifier\n",
        "import nltk\n",
        "from nltk.tokenize import RegexpTokenizer\n",
        "from nltk.probability import FreqDist\n",
        "from nltk.stem import WordNetLemmatizer\n",
        "from nltk.sentiment import SentimentIntensityAnalyzer"
      ]
    },
    {
      "cell_type": "markdown",
      "metadata": {
        "id": "CNzY1EbYKjc5"
      },
      "source": [
        "## Custom Functions"
      ]
    },
    {
      "cell_type": "code",
      "execution_count": null,
      "metadata": {
        "ExecuteTime": {
          "end_time": "2023-06-15T12:36:11.579062400Z",
          "start_time": "2023-06-15T12:36:11.519221300Z"
        },
        "id": "FEhJ0xFvKjc6"
      },
      "outputs": [],
      "source": [
        "'''\n",
        "The function \"process_tweets\" is used to process the data in order to do a sentiment analysis.\n",
        "The function returns the dataset with two additional columns: \"compound,\" which contains the sentiment scores, and \"sentiment,\n",
        "\"which has three categorical variables: positive, neutral, and negative.\n",
        "\n",
        "- input:\n",
        "    df [pd.Dataframe]: the dataframe must include at least 3 columns called: 'Date', 'Stock Name', 'Tweet'.\n",
        "'''\n",
        "def preprocess_tweets(df):\n",
        "  #uncomment if you don't have the package already installed\n",
        "   # nltk.download('stopwords')\n",
        "   # nltk.download('punkt')\n",
        "   # nltk.download('wordnet')\n",
        "   # nltk.download('omw-1.4')\n",
        "   # nltk.download('vader_lexicon')\n",
        "\n",
        "    df.Date = df.Date.dt.tz_localize(None).dt.normalize()\n",
        "    df['Tweet'] = df['Tweet'].astype(str)\n",
        "    #step 2: concatenate all tweets of the same day on a unique row\n",
        "    df = df.groupby(['Stock Name', pd.Grouper(freq='1d', key='Date')]).agg({'Tweet': ' '.join}).reset_index()\n",
        "    #we \"build\" the tokenizer\n",
        "    regexp = RegexpTokenizer('\\w+')\n",
        "    #we apply the tokenizer to the tweets\n",
        "    df['text_token'] = df['Tweet'].apply(regexp.tokenize)\n",
        "\n",
        "    #clean the tweets from all the stopwords\n",
        "    stopwords = nltk.corpus.stopwords.words(\"english\")\n",
        "    l = [word.capitalize() for word in stopwords]\n",
        "    my_stopwords = ['https'] + l\n",
        "    stopwords.extend(my_stopwords)\n",
        "    df['text_token'] = df['text_token'].apply(lambda x: [item for item in x if item not in stopwords])\n",
        "    df [\"text_string\"] = df['text_token'].apply(lambda x: ' '.join([item for item in x if len(item) > 2]))\n",
        "\n",
        "    #eliminating the words that appear less than 2 times\n",
        "    all_words = ' '.join([word for word in df['text_string']])\n",
        "    tokenized_words = nltk.tokenize.word_tokenize(all_words)\n",
        "    fdist = FreqDist(tokenized_words)\n",
        "    df[\"text_string_fdist\"] = df['text_token'].apply(lambda x: ' '.join([item for item in x if fdist[item] >= 2]))\n",
        "\n",
        "\n",
        "    #lemmatization\n",
        "    wordnet_lem = WordNetLemmatizer()\n",
        "    df['text_string_lem'] =  df['text_string_fdist'].apply(wordnet_lem.lemmatize)\n",
        "\n",
        "    #sentiment analysis\n",
        "    analyzer = SentimentIntensityAnalyzer()\n",
        "    df['polarity'] = df['text_string_lem'].apply(lambda x: analyzer.polarity_scores(x))\n",
        "    df = pd.concat([df.drop(['polarity'], axis=1),df['polarity'].apply(pd.Series)], axis=1)\n",
        "    df['sentiment'] = df['compound'].apply(lambda x: 'positive' if x >= 0.5 else 'neutral' if 0.5 > x >= 0 else 'negative')\n",
        "\n",
        "    return df"
      ]
    },
    {
      "cell_type": "code",
      "execution_count": null,
      "metadata": {
        "ExecuteTime": {
          "end_time": "2023-06-15T12:36:11.615962400Z",
          "start_time": "2023-06-15T12:36:11.531188800Z"
        },
        "id": "760nm-ORKjc7"
      },
      "outputs": [],
      "source": [
        "'''\n",
        "df = dataframe from which features and targets are extracted\n",
        "type [string] = choose btw 'Just_Close' and 'Twitter_sentiment'\n",
        "split [int] = how many times we randomly extract feature from the dataframe\n",
        "        remember that we extract the same proportion of data from each stock\n",
        "        to know the leanght of the feature and target vector moliply split for 20\n",
        "\n",
        "Options: Just_Close or Twitter_sentiment\n",
        "\n",
        "#1 'Just_Close': the feature vector will contain only split*10 closing values\n",
        "#2 'Twitter_sentiment': the feature vector will contain split*10 percent change values and split*10 twitter sentiment scores\n",
        "\n",
        "'''\n",
        "def extract_features_targets(df, type, split, random_seed=None):\n",
        "    if random_seed is not None:\n",
        "        random.seed(random_seed)\n",
        "    # Group the DataFrame by 'Stock Name'\n",
        "    grouped = df.groupby('Stock Name')\n",
        "\n",
        "    feature_vectors = []\n",
        "    targets = []\n",
        "    if type == 'Just_Close':\n",
        "        for stock in list(grouped.groups.keys()):\n",
        "            for iterations in range(split):\n",
        "                # stock_name = random.choice(list(grouped.groups.keys()))\n",
        "\n",
        "                # Get the indices for the selected stock name\n",
        "                stock_indices = grouped.groups[stock]\n",
        "\n",
        "                # Randomly select a start index for the 11-day period\n",
        "                start_index = random.choice(stock_indices[:-10])\n",
        "\n",
        "                # Extract the 11-day period\n",
        "                selected_period = training.iloc[start_index:start_index + 11]\n",
        "\n",
        "                # Extract the 'Close' and 'compound' values\n",
        "                close_values = selected_period['Close'].values\n",
        "\n",
        "                # Create the feature vector with all 10-day periods\n",
        "                feature_vector = close_values[:-1]\n",
        "\n",
        "                # Calculate the target value (1 if 'Close' on the 11th day is higher, 0 otherwise)\n",
        "                target = 1 if close_values[-1] > close_values[-2] else 0\n",
        "\n",
        "                feature_vectors.append(feature_vector)\n",
        "                targets.append(target)\n",
        "\n",
        "    elif type == 'Twitter_sentiment':\n",
        "\n",
        "        for stock in list(grouped.groups.keys()):\n",
        "            for iterations in range(split):\n",
        "\n",
        "                # Get the indices for the selected stock name\n",
        "                stock_indices = grouped.groups[stock]\n",
        "\n",
        "                # Randomly select a start index for the 11-day period\n",
        "                start_index = random.choice(stock_indices[:-10])\n",
        "\n",
        "                # Extract the 11-day period\n",
        "                selected_period = df.iloc[start_index:start_index + 11]\n",
        "\n",
        "                # Extract the 'Close' and 'compound' values\n",
        "                close_values = selected_period['percentage_change'].values\n",
        "                compound_values = selected_period['compound'].values\n",
        "\n",
        "                # Create the feature vector with tuples\n",
        "                feature_vector = [(close, sentiment) for close, sentiment in zip(close_values[:-1], compound_values[:-1])]\n",
        "\n",
        "                # Calculate the target value (1 if 'Close' on the 11th day is higher, 0 otherwise)\n",
        "                target = 1 if close_values[-1] > 0 else 0\n",
        "\n",
        "                feature_vectors.append(feature_vector)\n",
        "                targets.append(target)\n",
        "\n",
        "    return np.array(feature_vectors), np.array(targets)\n"
      ]
    },
    {
      "cell_type": "code",
      "execution_count": null,
      "metadata": {
        "ExecuteTime": {
          "end_time": "2023-06-15T12:36:11.617957300Z",
          "start_time": "2023-06-15T12:36:11.565098400Z"
        },
        "id": "rEpIJIV6Kjc8"
      },
      "outputs": [],
      "source": [
        "'''\n",
        "the function 'extract_features_pivot' takes as input a pivot table structured as follows: index= date, columns = stock name, and values = close.\n",
        "It returns a feature vector of non-overlapping (*) 10 day periods and uses the 11th day to build the target vector.\n",
        "\n",
        "(*) except the last period because we don't have a precise number to extract unique 11days periods so the last one is just the last 11 day available so it will share some data\n",
        "with the second-last vector.\n",
        "'''\n",
        "\n",
        "\n",
        "def extract_features_pivot(pivot_table):\n",
        "    feature_vectors = []\n",
        "    target_vectors = []\n",
        "\n",
        "    for stock_index in pivot_table.columns:\n",
        "        stock_values = pivot_table[stock_index].values\n",
        "\n",
        "        # Extract non-overlapping 11-day periods\n",
        "        for i in range(0, len(stock_values) - 10, 11):\n",
        "            feature_vector = stock_values[i:i+10]\n",
        "            target_value = stock_values[i+10]\n",
        "            target_label = 1 if target_value > stock_values[i+9] else 0\n",
        "\n",
        "            feature_vectors.append(feature_vector)\n",
        "            target_vectors.append(target_label)\n",
        "\n",
        "        # Extract the last 11-day period if not already included\n",
        "        last_period_start = len(stock_values) - 11\n",
        "        feature_vector = stock_values[last_period_start:last_period_start+10]\n",
        "        target_value = stock_values[-1]\n",
        "        target_label = 1 if target_value > stock_values[-2] else 0\n",
        "\n",
        "        feature_vectors.append(feature_vector)\n",
        "        target_vectors.append(target_label)\n",
        "\n",
        "    feature_vectors = np.array(feature_vectors)\n",
        "    target_vectors = np.array(target_vectors)\n",
        "\n",
        "    return feature_vectors, target_vectors\n"
      ]
    },
    {
      "cell_type": "markdown",
      "metadata": {
        "id": "Dsu9C_P1Kjc8"
      },
      "source": [
        "## Building the Dataframes"
      ]
    },
    {
      "cell_type": "code",
      "execution_count": null,
      "metadata": {
        "id": "fCS2z5yGKjc9"
      },
      "outputs": [],
      "source": [
        "training = pd.read_csv('clustering_files/stock_values_train.csv')\n",
        "#selecting only the column we care about\n",
        "training = training[['Date', 'Stock Name', 'Close']]\n",
        "\n",
        "training['percentage_change'] = training.groupby('Stock Name')['Close'].pct_change()\n",
        "\n",
        "# Print the DataFrame with percentage change\n",
        "training = training.fillna(0.0)\n",
        "\n",
        "\n",
        "twitter = pd.read_csv('clustering_files/stock_tweets_train.csv')\n",
        "twitter = twitter.drop(columns='Unnamed: 0')\n",
        "\n",
        "training.Date = pd.to_datetime(training.Date)\n",
        "twitter.Date = pd.to_datetime(twitter.Date)"
      ]
    },
    {
      "cell_type": "code",
      "execution_count": null,
      "metadata": {
        "ExecuteTime": {
          "end_time": "2023-06-15T12:36:38.936123300Z",
          "start_time": "2023-06-15T12:36:11.579062400Z"
        },
        "id": "xaIGaXviKjc9",
        "outputId": "b22c5332-74cb-45d0-d4a2-33dd34a8105e"
      },
      "outputs": [
        {
          "name": "stdout",
          "output_type": "stream",
          "text": [
            "0\n"
          ]
        },
        {
          "data": {
            "text/html": [
              "<div>\n",
              "<style scoped>\n",
              "    .dataframe tbody tr th:only-of-type {\n",
              "        vertical-align: middle;\n",
              "    }\n",
              "\n",
              "    .dataframe tbody tr th {\n",
              "        vertical-align: top;\n",
              "    }\n",
              "\n",
              "    .dataframe thead th {\n",
              "        text-align: right;\n",
              "    }\n",
              "</style>\n",
              "<table border=\"1\" class=\"dataframe\">\n",
              "  <thead>\n",
              "    <tr style=\"text-align: right;\">\n",
              "      <th></th>\n",
              "      <th>Date</th>\n",
              "      <th>Stock Name</th>\n",
              "      <th>Close</th>\n",
              "      <th>percentage_change</th>\n",
              "      <th>compound</th>\n",
              "      <th>sentiment</th>\n",
              "    </tr>\n",
              "  </thead>\n",
              "  <tbody>\n",
              "    <tr>\n",
              "      <th>0</th>\n",
              "      <td>2021-09-30</td>\n",
              "      <td>AMD</td>\n",
              "      <td>102.900002</td>\n",
              "      <td>0.000000</td>\n",
              "      <td>0.95440</td>\n",
              "      <td>positive</td>\n",
              "    </tr>\n",
              "    <tr>\n",
              "      <th>1</th>\n",
              "      <td>2021-10-01</td>\n",
              "      <td>AMD</td>\n",
              "      <td>102.618749</td>\n",
              "      <td>-0.002733</td>\n",
              "      <td>0.90290</td>\n",
              "      <td>positive</td>\n",
              "    </tr>\n",
              "    <tr>\n",
              "      <th>2</th>\n",
              "      <td>2021-10-04</td>\n",
              "      <td>AMD</td>\n",
              "      <td>101.456120</td>\n",
              "      <td>-0.011330</td>\n",
              "      <td>0.96380</td>\n",
              "      <td>positive</td>\n",
              "    </tr>\n",
              "    <tr>\n",
              "      <th>3</th>\n",
              "      <td>2021-10-05</td>\n",
              "      <td>AMD</td>\n",
              "      <td>101.618748</td>\n",
              "      <td>0.001603</td>\n",
              "      <td>0.93370</td>\n",
              "      <td>positive</td>\n",
              "    </tr>\n",
              "    <tr>\n",
              "      <th>4</th>\n",
              "      <td>2021-10-06</td>\n",
              "      <td>AMD</td>\n",
              "      <td>102.495418</td>\n",
              "      <td>0.008627</td>\n",
              "      <td>0.95255</td>\n",
              "      <td>NaN</td>\n",
              "    </tr>\n",
              "    <tr>\n",
              "      <th>...</th>\n",
              "      <td>...</td>\n",
              "      <td>...</td>\n",
              "      <td>...</td>\n",
              "      <td>...</td>\n",
              "      <td>...</td>\n",
              "      <td>...</td>\n",
              "    </tr>\n",
              "    <tr>\n",
              "      <th>3775</th>\n",
              "      <td>2022-06-24</td>\n",
              "      <td>ZS</td>\n",
              "      <td>160.449950</td>\n",
              "      <td>0.045028</td>\n",
              "      <td>0.00000</td>\n",
              "      <td>neutral</td>\n",
              "    </tr>\n",
              "    <tr>\n",
              "      <th>3776</th>\n",
              "      <td>2022-06-27</td>\n",
              "      <td>ZS</td>\n",
              "      <td>161.961968</td>\n",
              "      <td>0.009424</td>\n",
              "      <td>0.28595</td>\n",
              "      <td>NaN</td>\n",
              "    </tr>\n",
              "    <tr>\n",
              "      <th>3777</th>\n",
              "      <td>2022-06-28</td>\n",
              "      <td>ZS</td>\n",
              "      <td>159.145180</td>\n",
              "      <td>-0.017392</td>\n",
              "      <td>0.57190</td>\n",
              "      <td>positive</td>\n",
              "    </tr>\n",
              "    <tr>\n",
              "      <th>3778</th>\n",
              "      <td>2022-06-29</td>\n",
              "      <td>ZS</td>\n",
              "      <td>157.467107</td>\n",
              "      <td>-0.010544</td>\n",
              "      <td>0.45595</td>\n",
              "      <td>NaN</td>\n",
              "    </tr>\n",
              "    <tr>\n",
              "      <th>3779</th>\n",
              "      <td>2022-06-30</td>\n",
              "      <td>ZS</td>\n",
              "      <td>154.284262</td>\n",
              "      <td>-0.020213</td>\n",
              "      <td>0.34000</td>\n",
              "      <td>neutral</td>\n",
              "    </tr>\n",
              "  </tbody>\n",
              "</table>\n",
              "<p>3780 rows × 6 columns</p>\n",
              "</div>"
            ],
            "text/plain": [
              "            Date Stock Name       Close  percentage_change  compound sentiment\n",
              "0     2021-09-30        AMD  102.900002           0.000000   0.95440  positive\n",
              "1     2021-10-01        AMD  102.618749          -0.002733   0.90290  positive\n",
              "2     2021-10-04        AMD  101.456120          -0.011330   0.96380  positive\n",
              "3     2021-10-05        AMD  101.618748           0.001603   0.93370  positive\n",
              "4     2021-10-06        AMD  102.495418           0.008627   0.95255       NaN\n",
              "...          ...        ...         ...                ...       ...       ...\n",
              "3775  2022-06-24         ZS  160.449950           0.045028   0.00000   neutral\n",
              "3776  2022-06-27         ZS  161.961968           0.009424   0.28595       NaN\n",
              "3777  2022-06-28         ZS  159.145180          -0.017392   0.57190  positive\n",
              "3778  2022-06-29         ZS  157.467107          -0.010544   0.45595       NaN\n",
              "3779  2022-06-30         ZS  154.284262          -0.020213   0.34000   neutral\n",
              "\n",
              "[3780 rows x 6 columns]"
            ]
          },
          "execution_count": 6,
          "metadata": {},
          "output_type": "execute_result"
        }
      ],
      "source": [
        "cat_tweet = preprocess_tweets(twitter)\n",
        "training['Date'] = training['Date'].astype(str)\n",
        "cat_tweet['Date'] = cat_tweet['Date'].astype(str)\n",
        "cat_tweet.drop(columns = cat_tweet.iloc[:, 2:10], inplace=True)\n",
        "\n",
        "concat_df = pd.merge(training, cat_tweet, on=['Date', 'Stock Name'], how='left')\n",
        "\n",
        "groups = concat_df.groupby('Stock Name', group_keys=False)\n",
        "\n",
        "concat_df['compound'] = groups['compound'].apply(lambda x: x.fillna((x.shift() + x.shift(-1)) / 2))\n",
        "\n",
        "concat_df['compound'] = groups['compound'].transform(lambda x: x.fillna(x.mean()))\n",
        "\n",
        "print(concat_df['compound'].isna().sum())\n",
        "\n",
        "concat_df\n"
      ]
    },
    {
      "cell_type": "code",
      "execution_count": null,
      "metadata": {
        "ExecuteTime": {
          "end_time": "2023-06-15T12:36:39.038995500Z",
          "start_time": "2023-06-15T12:36:38.939116Z"
        },
        "id": "f5J-8xA5Kjc_",
        "outputId": "53ddae21-3279-4b06-95c9-7db8b63c310b"
      },
      "outputs": [
        {
          "data": {
            "text/html": [
              "<div>\n",
              "<style scoped>\n",
              "    .dataframe tbody tr th:only-of-type {\n",
              "        vertical-align: middle;\n",
              "    }\n",
              "\n",
              "    .dataframe tbody tr th {\n",
              "        vertical-align: top;\n",
              "    }\n",
              "\n",
              "    .dataframe thead th {\n",
              "        text-align: right;\n",
              "    }\n",
              "</style>\n",
              "<table border=\"1\" class=\"dataframe\">\n",
              "  <thead>\n",
              "    <tr style=\"text-align: right;\">\n",
              "      <th>Stock Name</th>\n",
              "      <th>AMD</th>\n",
              "      <th>AMZN</th>\n",
              "      <th>BA</th>\n",
              "      <th>BX</th>\n",
              "      <th>COST</th>\n",
              "      <th>ENPH</th>\n",
              "      <th>F</th>\n",
              "      <th>GOOG</th>\n",
              "      <th>INTC</th>\n",
              "      <th>META</th>\n",
              "      <th>MSFT</th>\n",
              "      <th>NFLX</th>\n",
              "      <th>NIO</th>\n",
              "      <th>NOC</th>\n",
              "      <th>PG</th>\n",
              "      <th>PYPL</th>\n",
              "      <th>TSLA</th>\n",
              "      <th>TSM</th>\n",
              "      <th>VZ</th>\n",
              "      <th>ZS</th>\n",
              "    </tr>\n",
              "    <tr>\n",
              "      <th>Date</th>\n",
              "      <th></th>\n",
              "      <th></th>\n",
              "      <th></th>\n",
              "      <th></th>\n",
              "      <th></th>\n",
              "      <th></th>\n",
              "      <th></th>\n",
              "      <th></th>\n",
              "      <th></th>\n",
              "      <th></th>\n",
              "      <th></th>\n",
              "      <th></th>\n",
              "      <th></th>\n",
              "      <th></th>\n",
              "      <th></th>\n",
              "      <th></th>\n",
              "      <th></th>\n",
              "      <th></th>\n",
              "      <th></th>\n",
              "      <th></th>\n",
              "    </tr>\n",
              "  </thead>\n",
              "  <tbody>\n",
              "    <tr>\n",
              "      <th>2021-09-30</th>\n",
              "      <td>102.900002</td>\n",
              "      <td>164.251999</td>\n",
              "      <td>219.940002</td>\n",
              "      <td>116.339996</td>\n",
              "      <td>449.350006</td>\n",
              "      <td>149.970001</td>\n",
              "      <td>14.160000</td>\n",
              "      <td>133.265503</td>\n",
              "      <td>53.279999</td>\n",
              "      <td>339.390015</td>\n",
              "      <td>281.920013</td>\n",
              "      <td>610.340027</td>\n",
              "      <td>35.630001</td>\n",
              "      <td>360.149994</td>\n",
              "      <td>139.800003</td>\n",
              "      <td>260.209991</td>\n",
              "      <td>258.493347</td>\n",
              "      <td>111.650002</td>\n",
              "      <td>54.009998</td>\n",
              "      <td>262.220001</td>\n",
              "    </tr>\n",
              "    <tr>\n",
              "      <th>2021-10-01</th>\n",
              "      <td>102.618749</td>\n",
              "      <td>164.196371</td>\n",
              "      <td>223.727501</td>\n",
              "      <td>115.971249</td>\n",
              "      <td>448.712494</td>\n",
              "      <td>153.338751</td>\n",
              "      <td>14.160000</td>\n",
              "      <td>135.263622</td>\n",
              "      <td>53.642500</td>\n",
              "      <td>341.652512</td>\n",
              "      <td>286.407509</td>\n",
              "      <td>612.096275</td>\n",
              "      <td>35.473751</td>\n",
              "      <td>360.631256</td>\n",
              "      <td>139.662502</td>\n",
              "      <td>262.984993</td>\n",
              "      <td>258.439178</td>\n",
              "      <td>111.593749</td>\n",
              "      <td>54.191249</td>\n",
              "      <td>262.807503</td>\n",
              "    </tr>\n",
              "    <tr>\n",
              "      <th>2021-10-04</th>\n",
              "      <td>101.456120</td>\n",
              "      <td>161.794650</td>\n",
              "      <td>223.759385</td>\n",
              "      <td>113.409386</td>\n",
              "      <td>444.338780</td>\n",
              "      <td>149.099592</td>\n",
              "      <td>14.256939</td>\n",
              "      <td>134.499019</td>\n",
              "      <td>53.554490</td>\n",
              "      <td>333.783889</td>\n",
              "      <td>284.725099</td>\n",
              "      <td>607.633878</td>\n",
              "      <td>34.415716</td>\n",
              "      <td>363.202051</td>\n",
              "      <td>139.217345</td>\n",
              "      <td>258.916116</td>\n",
              "      <td>259.495725</td>\n",
              "      <td>110.280610</td>\n",
              "      <td>54.348775</td>\n",
              "      <td>257.222042</td>\n",
              "    </tr>\n",
              "    <tr>\n",
              "      <th>2021-10-05</th>\n",
              "      <td>101.618748</td>\n",
              "      <td>161.452441</td>\n",
              "      <td>224.062975</td>\n",
              "      <td>114.053049</td>\n",
              "      <td>445.212498</td>\n",
              "      <td>148.323127</td>\n",
              "      <td>14.272132</td>\n",
              "      <td>135.270151</td>\n",
              "      <td>53.736251</td>\n",
              "      <td>333.405260</td>\n",
              "      <td>286.579378</td>\n",
              "      <td>620.122903</td>\n",
              "      <td>34.164927</td>\n",
              "      <td>366.270963</td>\n",
              "      <td>139.269117</td>\n",
              "      <td>259.483156</td>\n",
              "      <td>259.817844</td>\n",
              "      <td>109.811581</td>\n",
              "      <td>54.422867</td>\n",
              "      <td>257.809339</td>\n",
              "    </tr>\n",
              "    <tr>\n",
              "      <th>2021-10-06</th>\n",
              "      <td>102.495418</td>\n",
              "      <td>162.167246</td>\n",
              "      <td>224.465053</td>\n",
              "      <td>113.973657</td>\n",
              "      <td>447.002704</td>\n",
              "      <td>150.603173</td>\n",
              "      <td>14.206148</td>\n",
              "      <td>136.173973</td>\n",
              "      <td>53.841971</td>\n",
              "      <td>333.507079</td>\n",
              "      <td>289.411876</td>\n",
              "      <td>628.353764</td>\n",
              "      <td>33.945926</td>\n",
              "      <td>371.063227</td>\n",
              "      <td>140.102256</td>\n",
              "      <td>261.468254</td>\n",
              "      <td>260.294428</td>\n",
              "      <td>109.607042</td>\n",
              "      <td>54.469333</td>\n",
              "      <td>260.602825</td>\n",
              "    </tr>\n",
              "    <tr>\n",
              "      <th>...</th>\n",
              "      <td>...</td>\n",
              "      <td>...</td>\n",
              "      <td>...</td>\n",
              "      <td>...</td>\n",
              "      <td>...</td>\n",
              "      <td>...</td>\n",
              "      <td>...</td>\n",
              "      <td>...</td>\n",
              "      <td>...</td>\n",
              "      <td>...</td>\n",
              "      <td>...</td>\n",
              "      <td>...</td>\n",
              "      <td>...</td>\n",
              "      <td>...</td>\n",
              "      <td>...</td>\n",
              "      <td>...</td>\n",
              "      <td>...</td>\n",
              "      <td>...</td>\n",
              "      <td>...</td>\n",
              "      <td>...</td>\n",
              "    </tr>\n",
              "    <tr>\n",
              "      <th>2022-06-24</th>\n",
              "      <td>84.918345</td>\n",
              "      <td>112.396722</td>\n",
              "      <td>137.552647</td>\n",
              "      <td>95.112174</td>\n",
              "      <td>472.612724</td>\n",
              "      <td>195.662709</td>\n",
              "      <td>11.731471</td>\n",
              "      <td>114.307803</td>\n",
              "      <td>37.952229</td>\n",
              "      <td>163.625922</td>\n",
              "      <td>259.744565</td>\n",
              "      <td>183.274268</td>\n",
              "      <td>22.923327</td>\n",
              "      <td>459.528521</td>\n",
              "      <td>140.972566</td>\n",
              "      <td>75.103074</td>\n",
              "      <td>237.702735</td>\n",
              "      <td>85.463265</td>\n",
              "      <td>50.951882</td>\n",
              "      <td>160.449950</td>\n",
              "    </tr>\n",
              "    <tr>\n",
              "      <th>2022-06-27</th>\n",
              "      <td>85.415009</td>\n",
              "      <td>112.726034</td>\n",
              "      <td>138.019588</td>\n",
              "      <td>96.215306</td>\n",
              "      <td>476.267634</td>\n",
              "      <td>199.865625</td>\n",
              "      <td>11.854883</td>\n",
              "      <td>115.233681</td>\n",
              "      <td>38.223338</td>\n",
              "      <td>165.971556</td>\n",
              "      <td>261.802745</td>\n",
              "      <td>185.620560</td>\n",
              "      <td>22.933996</td>\n",
              "      <td>462.445116</td>\n",
              "      <td>141.883539</td>\n",
              "      <td>75.437846</td>\n",
              "      <td>240.589640</td>\n",
              "      <td>85.621959</td>\n",
              "      <td>50.955129</td>\n",
              "      <td>161.961968</td>\n",
              "    </tr>\n",
              "    <tr>\n",
              "      <th>2022-06-28</th>\n",
              "      <td>83.561005</td>\n",
              "      <td>110.595621</td>\n",
              "      <td>138.291752</td>\n",
              "      <td>95.665182</td>\n",
              "      <td>473.204575</td>\n",
              "      <td>196.179373</td>\n",
              "      <td>11.836930</td>\n",
              "      <td>114.168810</td>\n",
              "      <td>38.046002</td>\n",
              "      <td>163.854930</td>\n",
              "      <td>259.673651</td>\n",
              "      <td>183.212339</td>\n",
              "      <td>22.704398</td>\n",
              "      <td>463.335075</td>\n",
              "      <td>141.498123</td>\n",
              "      <td>73.990707</td>\n",
              "      <td>237.419116</td>\n",
              "      <td>85.109174</td>\n",
              "      <td>50.757077</td>\n",
              "      <td>159.145180</td>\n",
              "    </tr>\n",
              "    <tr>\n",
              "      <th>2022-06-29</th>\n",
              "      <td>81.332602</td>\n",
              "      <td>109.925372</td>\n",
              "      <td>138.355050</td>\n",
              "      <td>93.827109</td>\n",
              "      <td>471.858743</td>\n",
              "      <td>191.563623</td>\n",
              "      <td>11.710158</td>\n",
              "      <td>113.403886</td>\n",
              "      <td>37.743602</td>\n",
              "      <td>163.888959</td>\n",
              "      <td>259.908195</td>\n",
              "      <td>181.271403</td>\n",
              "      <td>22.366639</td>\n",
              "      <td>462.725044</td>\n",
              "      <td>141.778873</td>\n",
              "      <td>72.982425</td>\n",
              "      <td>233.847472</td>\n",
              "      <td>84.525505</td>\n",
              "      <td>50.830246</td>\n",
              "      <td>157.467107</td>\n",
              "    </tr>\n",
              "    <tr>\n",
              "      <th>2022-06-30</th>\n",
              "      <td>79.387562</td>\n",
              "      <td>108.439223</td>\n",
              "      <td>137.701030</td>\n",
              "      <td>92.788267</td>\n",
              "      <td>474.827246</td>\n",
              "      <td>193.034176</td>\n",
              "      <td>11.478095</td>\n",
              "      <td>111.791331</td>\n",
              "      <td>37.610161</td>\n",
              "      <td>162.833376</td>\n",
              "      <td>258.676911</td>\n",
              "      <td>178.710840</td>\n",
              "      <td>22.107983</td>\n",
              "      <td>469.063029</td>\n",
              "      <td>142.583321</td>\n",
              "      <td>71.725453</td>\n",
              "      <td>230.097814</td>\n",
              "      <td>83.415303</td>\n",
              "      <td>50.798147</td>\n",
              "      <td>154.284262</td>\n",
              "    </tr>\n",
              "  </tbody>\n",
              "</table>\n",
              "<p>189 rows × 20 columns</p>\n",
              "</div>"
            ],
            "text/plain": [
              "Stock Name         AMD        AMZN          BA          BX        COST  \\\n",
              "Date                                                                     \n",
              "2021-09-30  102.900002  164.251999  219.940002  116.339996  449.350006   \n",
              "2021-10-01  102.618749  164.196371  223.727501  115.971249  448.712494   \n",
              "2021-10-04  101.456120  161.794650  223.759385  113.409386  444.338780   \n",
              "2021-10-05  101.618748  161.452441  224.062975  114.053049  445.212498   \n",
              "2021-10-06  102.495418  162.167246  224.465053  113.973657  447.002704   \n",
              "...                ...         ...         ...         ...         ...   \n",
              "2022-06-24   84.918345  112.396722  137.552647   95.112174  472.612724   \n",
              "2022-06-27   85.415009  112.726034  138.019588   96.215306  476.267634   \n",
              "2022-06-28   83.561005  110.595621  138.291752   95.665182  473.204575   \n",
              "2022-06-29   81.332602  109.925372  138.355050   93.827109  471.858743   \n",
              "2022-06-30   79.387562  108.439223  137.701030   92.788267  474.827246   \n",
              "\n",
              "Stock Name        ENPH          F        GOOG       INTC        META  \\\n",
              "Date                                                                   \n",
              "2021-09-30  149.970001  14.160000  133.265503  53.279999  339.390015   \n",
              "2021-10-01  153.338751  14.160000  135.263622  53.642500  341.652512   \n",
              "2021-10-04  149.099592  14.256939  134.499019  53.554490  333.783889   \n",
              "2021-10-05  148.323127  14.272132  135.270151  53.736251  333.405260   \n",
              "2021-10-06  150.603173  14.206148  136.173973  53.841971  333.507079   \n",
              "...                ...        ...         ...        ...         ...   \n",
              "2022-06-24  195.662709  11.731471  114.307803  37.952229  163.625922   \n",
              "2022-06-27  199.865625  11.854883  115.233681  38.223338  165.971556   \n",
              "2022-06-28  196.179373  11.836930  114.168810  38.046002  163.854930   \n",
              "2022-06-29  191.563623  11.710158  113.403886  37.743602  163.888959   \n",
              "2022-06-30  193.034176  11.478095  111.791331  37.610161  162.833376   \n",
              "\n",
              "Stock Name        MSFT        NFLX        NIO         NOC          PG  \\\n",
              "Date                                                                    \n",
              "2021-09-30  281.920013  610.340027  35.630001  360.149994  139.800003   \n",
              "2021-10-01  286.407509  612.096275  35.473751  360.631256  139.662502   \n",
              "2021-10-04  284.725099  607.633878  34.415716  363.202051  139.217345   \n",
              "2021-10-05  286.579378  620.122903  34.164927  366.270963  139.269117   \n",
              "2021-10-06  289.411876  628.353764  33.945926  371.063227  140.102256   \n",
              "...                ...         ...        ...         ...         ...   \n",
              "2022-06-24  259.744565  183.274268  22.923327  459.528521  140.972566   \n",
              "2022-06-27  261.802745  185.620560  22.933996  462.445116  141.883539   \n",
              "2022-06-28  259.673651  183.212339  22.704398  463.335075  141.498123   \n",
              "2022-06-29  259.908195  181.271403  22.366639  462.725044  141.778873   \n",
              "2022-06-30  258.676911  178.710840  22.107983  469.063029  142.583321   \n",
              "\n",
              "Stock Name        PYPL        TSLA         TSM         VZ          ZS  \n",
              "Date                                                                   \n",
              "2021-09-30  260.209991  258.493347  111.650002  54.009998  262.220001  \n",
              "2021-10-01  262.984993  258.439178  111.593749  54.191249  262.807503  \n",
              "2021-10-04  258.916116  259.495725  110.280610  54.348775  257.222042  \n",
              "2021-10-05  259.483156  259.817844  109.811581  54.422867  257.809339  \n",
              "2021-10-06  261.468254  260.294428  109.607042  54.469333  260.602825  \n",
              "...                ...         ...         ...        ...         ...  \n",
              "2022-06-24   75.103074  237.702735   85.463265  50.951882  160.449950  \n",
              "2022-06-27   75.437846  240.589640   85.621959  50.955129  161.961968  \n",
              "2022-06-28   73.990707  237.419116   85.109174  50.757077  159.145180  \n",
              "2022-06-29   72.982425  233.847472   84.525505  50.830246  157.467107  \n",
              "2022-06-30   71.725453  230.097814   83.415303  50.798147  154.284262  \n",
              "\n",
              "[189 rows x 20 columns]"
            ]
          },
          "execution_count": 7,
          "metadata": {},
          "output_type": "execute_result"
        }
      ],
      "source": [
        "pivot = pd.pivot(training, index='Date', columns='Stock Name', values='Close')\n",
        "\n",
        "pivot"
      ]
    },
    {
      "cell_type": "markdown",
      "metadata": {
        "id": "of4nFqRjKjc_"
      },
      "source": [
        "\n",
        "# Training The Models"
      ]
    },
    {
      "cell_type": "code",
      "execution_count": null,
      "metadata": {
        "id": "Pn3CjrmUKjc_"
      },
      "outputs": [],
      "source": [
        "# !pip install xgboost\n",
        "from xgboost import XGBClassifier\n",
        "from sklearn.svm import SVC\n",
        "from sklearn.naive_bayes import MultinomialNB, GaussianNB, BernoulliNB\n",
        "from sklearn.pipeline import Pipeline\n",
        "from sklearn import metrics\n",
        "from sklearn.metrics import ConfusionMatrixDisplay\n",
        "from sklearn.experimental import enable_halving_search_cv\n",
        "from sklearn.model_selection import HalvingGridSearchCV\n",
        "import seaborn as sns\n",
        "import matplotlib.pyplot as plt\n",
        "%matplotlib inline"
      ]
    },
    {
      "cell_type": "code",
      "execution_count": null,
      "metadata": {
        "id": "KDQiSvkCKjc_"
      },
      "outputs": [],
      "source": [
        "'''\n",
        "The function \"fit_and_print\" is used to plot a confusion matrix and print a classification report of the model we have trained\n",
        "\n",
        "- input:\n",
        "    pipeline [pipeline/model] is the model or pipeline we used in our gridsearch cross validation\n",
        "    name [string] is the title of the plot\n",
        "'''\n",
        "\n",
        "def fit_and_print(pipeline, name):\n",
        "\n",
        "    pipeline.fit(X_train, y_train)\n",
        "    y_pred = pipeline.predict(X_test)\n",
        "    score = metrics.f1_score(y_test, y_pred, average='macro')\n",
        "\n",
        "    print(metrics.classification_report(y_test, y_pred, digits=3))\n",
        "\n",
        "    ConfusionMatrixDisplay.from_predictions(y_test,\n",
        "                                            y_pred,\n",
        "                                            cmap=plt.cm.Purples)\n",
        "\n",
        "    plt.tight_layout()\n",
        "    plt.title(name)\n",
        "    plt.ylabel('True Label')\n",
        "    plt.xlabel('Predicted Label')\n",
        "    plt.tight_layout()\n",
        "    plt.show;"
      ]
    },
    {
      "cell_type": "markdown",
      "metadata": {
        "id": "OUTETJGpKjdA"
      },
      "source": [
        "I have considered three possible scenarios to select my feature vectors:\n",
        "1. Closing values, randomly selecting 10days periods but equally proportionate between the 20 stocks for n split times;\n",
        "2. Percentage change and tweet sentiment score, taken randomly as point 1 for n split times;\n",
        "3. Closing values, taken in subsequent non-overlapping periods from each of the 20 stock. In this way we are sure to take every value available just one time.\n",
        "\n",
        "While point 1 and 2 allow us to create feature vectors of the size I want, point 3 have a fixed size setted by the training dataset. When I choose a high split number, Point 3 actually doesn't perform as well as the other two alternatives. So, I didn't developed it further.\n",
        "\n",
        "Using additional splits has the drawback of increasing the likelihood that the training and testing data will be similar, which increases the danger of overfitting. The results found might lead you to believe that the tested ensable models are overfitting because they achieved almost perfect scores (close to 100%).\n",
        "However, I evaluate my model by testing the models with never seen before data and the the results were still outstanding.\n",
        "\n",
        "### Model Trained\n",
        "We decided to build 6 models:\n",
        "1. Random Forest Classifier\n",
        "2. Gradient Boosting Classifier\n",
        "3. XGBoost Classifier\n",
        "4. Logistic Regression\n",
        "5. Support Vector Machine\n",
        "6. 3 Naïve Bayes Classifiers: Multinomial, Bernulli, Gaussian\n",
        "\n",
        "To train and evaluate the different models I implemented pipelines for each one of them. The pipeline included the scaling and the fitting of the model. I applied gridsearch cross-validation to the pipeloine in order to try to find the best hyperparameters in order to improve the accuracy of the models.\n"
      ]
    },
    {
      "cell_type": "markdown",
      "metadata": {
        "id": "_yTk8KptKjdA"
      },
      "source": [
        "## Basic Model: Closing Values\n",
        "Basic models will use as feature vector only closing values (Scenario 1)"
      ]
    },
    {
      "cell_type": "code",
      "execution_count": null,
      "metadata": {
        "id": "C23255OwKjdA",
        "outputId": "9fa4006a-623c-45ee-d21f-15f89ce086ad"
      },
      "outputs": [
        {
          "name": "stdout",
          "output_type": "stream",
          "text": [
            "(20000, 10) (20000,)\n"
          ]
        }
      ],
      "source": [
        "\n",
        "#1 'Just_Close'\n",
        "feature_vectors, targets = extract_features_targets(training, 'Just_Close', split=1000, random_seed=1)\n",
        "\n",
        "print(feature_vectors.shape,targets.shape)"
      ]
    },
    {
      "cell_type": "markdown",
      "metadata": {
        "id": "6r4Z3rspKjdA"
      },
      "source": [
        "### 1. Random Forest Classifier (Basic)"
      ]
    },
    {
      "cell_type": "code",
      "execution_count": null,
      "metadata": {
        "id": "Zkurx9uUKjdB",
        "outputId": "10bc7c11-a91e-484f-c57b-c48413ad2e33"
      },
      "outputs": [
        {
          "name": "stdout",
          "output_type": "stream",
          "text": [
            "n_iterations: 5\n",
            "n_required_iterations: 6\n",
            "n_possible_iterations: 5\n",
            "min_resources_: 74\n",
            "max_resources_: 18000\n",
            "aggressive_elimination: False\n",
            "factor: 3\n",
            "----------\n",
            "iter: 0\n",
            "n_candidates: 385\n",
            "n_resources: 74\n",
            "Fitting 5 folds for each of 385 candidates, totalling 1925 fits\n",
            "----------\n",
            "iter: 1\n",
            "n_candidates: 129\n",
            "n_resources: 222\n",
            "Fitting 5 folds for each of 129 candidates, totalling 645 fits\n",
            "----------\n",
            "iter: 2\n",
            "n_candidates: 43\n",
            "n_resources: 666\n",
            "Fitting 5 folds for each of 43 candidates, totalling 215 fits\n",
            "----------\n",
            "iter: 3\n",
            "n_candidates: 15\n",
            "n_resources: 1998\n",
            "Fitting 5 folds for each of 15 candidates, totalling 75 fits\n",
            "----------\n",
            "iter: 4\n",
            "n_candidates: 5\n",
            "n_resources: 5994\n",
            "Fitting 5 folds for each of 5 candidates, totalling 25 fits\n",
            "Best parameters: {'classifier': RandomForestClassifier(criterion='entropy', min_samples_leaf=4,\n",
            "                       n_estimators=1500, random_state=0), 'classifier__bootstrap': True, 'classifier__criterion': 'entropy', 'classifier__max_depth': None, 'classifier__max_features': 'sqrt', 'classifier__min_samples_leaf': 4, 'classifier__n_estimators': 1500, 'preprocessing': None}\n",
            "Best cross-validation score:0.88\n",
            "Best estimator:\n",
            "Pipeline(steps=[('preprocessing', None),\n",
            "                ('classifier',\n",
            "                 RandomForestClassifier(criterion='entropy', min_samples_leaf=4,\n",
            "                                        n_estimators=1500, random_state=0))])\n",
            "Test-set score: 0.99\n",
            "-----------------------------------------------------------------\n",
            "              precision    recall  f1-score   support\n",
            "\n",
            "           0      0.995     0.995     0.995      1043\n",
            "           1      0.995     0.995     0.995       957\n",
            "\n",
            "    accuracy                          0.995      2000\n",
            "   macro avg      0.995     0.995     0.995      2000\n",
            "weighted avg      0.995     0.995     0.995      2000\n",
            "\n"
          ]
        },
        {
          "data": {
            "image/png": "[encoded data removed]",
            "text/plain": [
              "<Figure size 640x480 with 2 Axes>"
            ]
          },
          "metadata": {},
          "output_type": "display_data"
        }
      ],
      "source": [
        "#Building the pipeline for the random forest classifier\n",
        "pipe_rf = Pipeline([(\"preprocessing\", None), (\"classifier\", RandomForestClassifier(n_estimators=1000, random_state=0))])\n",
        "\n",
        "param_grid_rf = [{'classifier': [RandomForestClassifier(random_state=0)],\n",
        "                 'preprocessing': [None],\n",
        "                 'classifier__n_estimators':[500, 1000, 1500],\n",
        "                 'classifier__max_depth': [2,5,10, None],\n",
        "                 'classifier__criterion': ['gini', 'entropy'],  # Split quality measure\n",
        "                 'classifier__min_samples_leaf': [1, 2, 4, 6],  # Minimum number of samples required to be at a leaf node\n",
        "                 'classifier__max_features': ['sqrt', 'log2'],  # Number of features to consider when looking for the best split\n",
        "                 'classifier__bootstrap': [True, False]}, # Whether bootstrap samples are used when building trees\n",
        "\n",
        "                 {'classifier': [RandomForestClassifier(n_estimators=1000, random_state=0)],\n",
        "                 'preprocessing': [None]}]\n",
        "\n",
        "\n",
        "\n",
        "#performing the gridsearch cross validation to find the best model\n",
        "\n",
        "X_train, X_test, y_train, y_test = train_test_split(feature_vectors, targets, test_size=0.1, random_state=0)\n",
        "\n",
        "kf = KFold(n_splits=5, shuffle=True, random_state=0)\n",
        "grid_search = HalvingGridSearchCV(pipe_rf, param_grid_rf, cv=kf, n_jobs=-1, verbose=1)\n",
        "\n",
        "\n",
        "grid_search.fit(X_train, y_train)\n",
        "\n",
        "print(\"Best parameters: {}\".format(grid_search.best_params_))\n",
        "\n",
        "print(\"Best cross-validation score:{:.2f}\".format(grid_search.best_score_))\n",
        "\n",
        "print(\"Best estimator:\\n{}\".format(grid_search.best_estimator_))\n",
        "\n",
        "print(\"Test-set score: {:.2f}\".format(grid_search.score(X_test, y_test)))\n",
        "\n",
        "print('-----------------------------------------------------------------')\n",
        "\n",
        "# Training the best model on the entire dataset\n",
        "\n",
        "pipe_rf = grid_search.best_estimator_\n",
        "pipe_rf.fit(feature_vectors, targets)\n",
        "\n",
        "fit_and_print(pipe_rf, 'Random Forest Classifier (Basic)')"
      ]
    },
    {
      "cell_type": "markdown",
      "metadata": {
        "id": "iy8WmgDUKjdB"
      },
      "source": [
        "### 2. Gradient Boosting Classifier (Basic)"
      ]
    },
    {
      "cell_type": "code",
      "execution_count": null,
      "metadata": {
        "id": "0WZQdlbvKjdB",
        "outputId": "f916d807-1e53-4ac2-a35e-568dd81ddba1"
      },
      "outputs": [
        {
          "name": "stdout",
          "output_type": "stream",
          "text": [
            "n_iterations: 5\n",
            "n_required_iterations: 6\n",
            "n_possible_iterations: 5\n",
            "min_resources_: 74\n",
            "max_resources_: 18000\n",
            "aggressive_elimination: False\n",
            "factor: 3\n",
            "----------\n",
            "iter: 0\n",
            "n_candidates: 500\n",
            "n_resources: 74\n",
            "Fitting 5 folds for each of 500 candidates, totalling 2500 fits\n",
            "----------\n",
            "iter: 1\n",
            "n_candidates: 167\n",
            "n_resources: 222\n",
            "Fitting 5 folds for each of 167 candidates, totalling 835 fits\n",
            "----------\n",
            "iter: 2\n",
            "n_candidates: 56\n",
            "n_resources: 666\n",
            "Fitting 5 folds for each of 56 candidates, totalling 280 fits\n",
            "----------\n",
            "iter: 3\n",
            "n_candidates: 19\n",
            "n_resources: 1998\n",
            "Fitting 5 folds for each of 19 candidates, totalling 95 fits\n",
            "----------\n",
            "iter: 4\n",
            "n_candidates: 7\n",
            "n_resources: 5994\n",
            "Fitting 5 folds for each of 7 candidates, totalling 35 fits\n",
            "Best parameters: {'classifier': GradientBoostingClassifier(learning_rate=0.05, max_depth=5, n_estimators=1000,\n",
            "                           random_state=0), 'classifier__learning_rate': 0.05, 'classifier__max_depth': 5, 'classifier__n_estimators': 1000, 'preprocessing': PowerTransformer()}\n",
            "Best cross-validation score:0.90\n",
            "Best estimator:\n",
            "Pipeline(steps=[('preprocessing', PowerTransformer()),\n",
            "                ('classifier',\n",
            "                 GradientBoostingClassifier(learning_rate=0.05, max_depth=5,\n",
            "                                            n_estimators=1000,\n",
            "                                            random_state=0))])\n",
            "Test-set score: 0.99\n",
            "-----------------------------------------------------------------\n",
            "              precision    recall  f1-score   support\n",
            "\n",
            "           0      0.991     0.995     0.993      1043\n",
            "           1      0.995     0.991     0.993       957\n",
            "\n",
            "    accuracy                          0.993      2000\n",
            "   macro avg      0.993     0.993     0.993      2000\n",
            "weighted avg      0.993     0.993     0.993      2000\n",
            "\n"
          ]
        },
        {
          "data": {
            "image/png": "[encoded data removed]",
            "text/plain": [
              "<Figure size 640x480 with 2 Axes>"
            ]
          },
          "metadata": {},
          "output_type": "display_data"
        }
      ],
      "source": [
        "#Building the pipeline for the random forest classifier\n",
        "pipe_gb = Pipeline([(\"preprocessing\", StandardScaler()), (\"classifier\", GradientBoostingClassifier(random_state=0))])\n",
        "\n",
        "# parameters dictionary for the grid search\n",
        "\n",
        "param_grid_gb = {'classifier': [GradientBoostingClassifier(random_state=0)],\n",
        "                 'preprocessing': [StandardScaler(), MinMaxScaler(), RobustScaler(), MaxAbsScaler(), PowerTransformer()],\n",
        "                 'classifier__n_estimators':[100, 250, 500,1000],\n",
        "                 'classifier__max_depth': [1, 2, 3, 4, 5],\n",
        "                 'classifier__learning_rate': [0.1, 0.05, 0.01 ,0.001, 0.0001],\n",
        "                 }\n",
        "\n",
        "#performing the gridsearch cross validation to find the best model\n",
        "\n",
        "X_train, X_test, y_train, y_test = train_test_split(feature_vectors, targets, test_size=0.1, random_state=0)\n",
        "\n",
        "kf = KFold(n_splits=5, shuffle=True, random_state=0)\n",
        "\n",
        "grid_search = HalvingGridSearchCV(pipe_gb, param_grid_gb, cv=kf, n_jobs=-1, verbose=1)\n",
        "\n",
        "grid_search.fit(X_train, y_train)\n",
        "\n",
        "print(\"Best parameters: {}\".format(grid_search.best_params_))\n",
        "\n",
        "print(\"Best cross-validation score:{:.2f}\".format(grid_search.best_score_))\n",
        "\n",
        "print(\"Best estimator:\\n{}\".format(grid_search.best_estimator_))\n",
        "\n",
        "print(\"Test-set score: {:.2f}\".format(grid_search.score(X_test, y_test)))\n",
        "\n",
        "print('-----------------------------------------------------------------')\n",
        "\n",
        "# Training the best model on the entire dataset\n",
        "\n",
        "pipe_gb = grid_search.best_estimator_\n",
        "pipe_gb.fit(feature_vectors, targets)\n",
        "\n",
        "fit_and_print(pipe_gb, 'Gradient Boost Classifier (Basic)')"
      ]
    },
    {
      "cell_type": "markdown",
      "metadata": {
        "id": "ZRvfPwu7KjdC"
      },
      "source": [
        "### 3. XGBoost Classifier (Basic)"
      ]
    },
    {
      "cell_type": "code",
      "execution_count": null,
      "metadata": {
        "id": "h9VasU6WKjdC",
        "outputId": "b2565114-57da-42de-eba0-b889c2707ac1"
      },
      "outputs": [
        {
          "name": "stdout",
          "output_type": "stream",
          "text": [
            "n_iterations: 7\n",
            "n_required_iterations: 9\n",
            "n_possible_iterations: 7\n",
            "min_resources_: 20\n",
            "max_resources_: 18000\n",
            "aggressive_elimination: False\n",
            "factor: 3\n",
            "----------\n",
            "iter: 0\n",
            "n_candidates: 17280\n",
            "n_resources: 20\n",
            "Fitting 5 folds for each of 17280 candidates, totalling 86400 fits\n",
            "----------\n",
            "iter: 1\n",
            "n_candidates: 5760\n",
            "n_resources: 60\n",
            "Fitting 5 folds for each of 5760 candidates, totalling 28800 fits\n",
            "----------\n",
            "iter: 2\n",
            "n_candidates: 1920\n",
            "n_resources: 180\n",
            "Fitting 5 folds for each of 1920 candidates, totalling 9600 fits\n",
            "----------\n",
            "iter: 3\n",
            "n_candidates: 640\n",
            "n_resources: 540\n",
            "Fitting 5 folds for each of 640 candidates, totalling 3200 fits\n",
            "----------\n",
            "iter: 4\n",
            "n_candidates: 214\n",
            "n_resources: 1620\n",
            "Fitting 5 folds for each of 214 candidates, totalling 1070 fits\n",
            "----------\n",
            "iter: 5\n",
            "n_candidates: 72\n",
            "n_resources: 4860\n",
            "Fitting 5 folds for each of 72 candidates, totalling 360 fits\n",
            "----------\n",
            "iter: 6\n",
            "n_candidates: 24\n",
            "n_resources: 14580\n",
            "Fitting 5 folds for each of 24 candidates, totalling 120 fits\n",
            "Best parameters: {'classifier': XGBClassifier(base_score=None, booster=None, callbacks=None,\n",
            "              colsample_bylevel=None, colsample_bynode=None,\n",
            "              colsample_bytree=None, early_stopping_rounds=None,\n",
            "              enable_categorical=False, eval_metric=None, feature_types=None,\n",
            "              gamma=None, gpu_id=None, grow_policy=None, importance_type=None,\n",
            "              interaction_constraints=None, learning_rate=0.05, max_bin=None,\n",
            "              max_cat_threshold=None, max_cat_to_onehot=None,\n",
            "              max_delta_step=None, max_depth=5, max_leaves=None,\n",
            "              min_child_weight=None, missing=nan, monotone_constraints=None,\n",
            "              n_estimators=1000, n_jobs=None, num_parallel_tree=None,\n",
            "              predictor=None, random_state=0, ...), 'classifier__learning_rate': 0.05, 'classifier__max_depth': 5, 'classifier__n_estimators': 1000, 'classifier__reg_alpha': 1.0, 'classifier__reg_lambda': 1.0, 'classifier__subsample': 1.0, 'preprocessing': PowerTransformer()}\n",
            "Best cross-validation score:0.95\n",
            "Best estimator:\n",
            "Pipeline(steps=[('preprocessing', PowerTransformer()),\n",
            "                ('classifier',\n",
            "                 XGBClassifier(base_score=None, booster=None, callbacks=None,\n",
            "                               colsample_bylevel=None, colsample_bynode=None,\n",
            "                               colsample_bytree=None,\n",
            "                               early_stopping_rounds=None,\n",
            "                               enable_categorical=False, eval_metric=None,\n",
            "                               feature_types=None, gamma=None, gpu_id=None,\n",
            "                               grow_policy=None, importance_type=None,\n",
            "                               interaction_constraints=None, learning_rate=0.05,\n",
            "                               max_bin=None, max_cat_threshold=None,\n",
            "                               max_cat_to_onehot=None, max_delta_step=None,\n",
            "                               max_depth=5, max_leaves=None,\n",
            "                               min_child_weight=None, missing=nan,\n",
            "                               monotone_constraints=None, n_estimators=1000,\n",
            "                               n_jobs=None, num_parallel_tree=None,\n",
            "                               predictor=None, random_state=0, ...))])\n",
            "Test-set score: 0.97\n",
            "-----------------------------------------------------------------\n",
            "              precision    recall  f1-score   support\n",
            "\n",
            "           0      0.971     0.978     0.974      1043\n",
            "           1      0.976     0.968     0.972       957\n",
            "\n",
            "    accuracy                          0.973      2000\n",
            "   macro avg      0.973     0.973     0.973      2000\n",
            "weighted avg      0.973     0.973     0.973      2000\n",
            "\n"
          ]
        },
        {
          "data": {
            "image/png": "[encoded data removed]",
            "text/plain": [
              "<Figure size 640x480 with 2 Axes>"
            ]
          },
          "metadata": {},
          "output_type": "display_data"
        }
      ],
      "source": [
        "#Building the pipeline for the random forest classifier\n",
        "pipe_xgb = Pipeline([(\"preprocessing\", StandardScaler()), (\"classifier\", XGBClassifier(random_state=0))])\n",
        "\n",
        "# parameters dictionary for the grid search\n",
        "\n",
        "param_grid_xgb = {'classifier': [XGBClassifier(random_state=0)],\n",
        "                 'preprocessing': [StandardScaler(), MinMaxScaler(), RobustScaler(), MaxAbsScaler(), PowerTransformer(), None],\n",
        "                 'classifier__n_estimators':[100, 250, 500,1000],\n",
        "                 'classifier__max_depth': [1, 2, 3, 5],\n",
        "                 'classifier__learning_rate': [0.1, 0.05, 0.01 ,0.001, 0.0001],\n",
        "                 'classifier__subsample': [0.8, 0.9, 1.0],\n",
        "                 'classifier__reg_lambda':[0.1, 1.0, 10.0],\n",
        "                 'classifier__reg_alpha':[0.0,0.001, 0.1, 1.0]\n",
        "                 }\n",
        "\n",
        "#performing the gridsearch cross validation to find the best model\n",
        "\n",
        "X_train, X_test, y_train, y_test = train_test_split(feature_vectors, targets, test_size=0.1, random_state=0)\n",
        "\n",
        "kf = KFold(n_splits=5, shuffle=True, random_state=0)\n",
        "\n",
        "grid_search = HalvingGridSearchCV(pipe_xgb, param_grid_xgb, cv=kf, n_jobs=-1, verbose=1)\n",
        "\n",
        "grid_search.fit(X_train, y_train)\n",
        "\n",
        "print(\"Best parameters: {}\".format(grid_search.best_params_))\n",
        "\n",
        "print(\"Best cross-validation score:{:.2f}\".format(grid_search.best_score_))\n",
        "\n",
        "print(\"Best estimator:\\n{}\".format(grid_search.best_estimator_))\n",
        "\n",
        "print(\"Test-set score: {:.2f}\".format(grid_search.score(X_test, y_test)))\n",
        "\n",
        "print('-----------------------------------------------------------------')\n",
        "\n",
        "# Training the best model on the entire dataset\n",
        "\n",
        "pipe_xgb = grid_search.best_estimator_\n",
        "pipe_xgb.fit(feature_vectors, targets)\n",
        "\n",
        "#confusion matrix and classification report\n",
        "fit_and_print(pipe_xgb, 'XGBoost Classifier (Basic)')"
      ]
    },
    {
      "cell_type": "markdown",
      "metadata": {
        "id": "Hov34GlNKjdC"
      },
      "source": [
        "### 4. Logistic Regression (Basic)"
      ]
    },
    {
      "cell_type": "code",
      "execution_count": null,
      "metadata": {
        "id": "cht5cPxSKjdC",
        "outputId": "2b234a34-9169-4a7b-de2e-8fb075361694"
      },
      "outputs": [
        {
          "name": "stdout",
          "output_type": "stream",
          "text": [
            "n_iterations: 5\n",
            "n_required_iterations: 6\n",
            "n_possible_iterations: 5\n",
            "min_resources_: 74\n",
            "max_resources_: 18000\n",
            "aggressive_elimination: False\n",
            "factor: 3\n",
            "----------\n",
            "iter: 0\n",
            "n_candidates: 550\n",
            "n_resources: 74\n",
            "Fitting 5 folds for each of 550 candidates, totalling 2750 fits\n",
            "----------\n",
            "iter: 1\n",
            "n_candidates: 184\n",
            "n_resources: 222\n",
            "Fitting 5 folds for each of 184 candidates, totalling 920 fits\n",
            "----------\n",
            "iter: 2\n",
            "n_candidates: 62\n",
            "n_resources: 666\n",
            "Fitting 5 folds for each of 62 candidates, totalling 310 fits\n",
            "----------\n",
            "iter: 3\n",
            "n_candidates: 21\n",
            "n_resources: 1998\n",
            "Fitting 5 folds for each of 21 candidates, totalling 105 fits\n",
            "----------\n",
            "iter: 4\n",
            "n_candidates: 7\n",
            "n_resources: 5994\n",
            "Fitting 5 folds for each of 7 candidates, totalling 35 fits\n",
            "Best parameters: {'classifier': LogisticRegression(C=1000, max_iter=21000, random_state=0, solver='newton-cg'), 'classifier__C': 1000, 'classifier__penalty': 'l2', 'preprocessing': PowerTransformer()}\n",
            "Best cross-validation score:0.72\n",
            "Best estimator:\n",
            "Pipeline(steps=[('preprocessing', PowerTransformer()),\n",
            "                ('classifier',\n",
            "                 LogisticRegression(C=1000, max_iter=21000, random_state=0,\n",
            "                                    solver='newton-cg'))])\n",
            "Test-set score: 0.72\n",
            "-----------------------------------------------------------------\n",
            "              precision    recall  f1-score   support\n",
            "\n",
            "           0      0.721     0.744     0.732      1043\n",
            "           1      0.711     0.687     0.699       957\n",
            "\n",
            "    accuracy                          0.717      2000\n",
            "   macro avg      0.716     0.715     0.715      2000\n",
            "weighted avg      0.716     0.717     0.716      2000\n",
            "\n"
          ]
        },
        {
          "data": {
            "image/png": "[encoded data removed]",
            "text/plain": [
              "<Figure size 640x480 with 2 Axes>"
            ]
          },
          "metadata": {},
          "output_type": "display_data"
        }
      ],
      "source": [
        "#Building the pipeline for the random forest classifier\n",
        "max_iter = len(feature_vectors)+1000\n",
        "pipe_logit = Pipeline([(\"preprocessing\", StandardScaler()), (\"classifier\", LogisticRegression(random_state=0))])\n",
        "\n",
        "# parameters dictionary for the grid search\n",
        "param_grid_logit = [\n",
        "    {\n",
        "        'classifier': [LogisticRegression(max_iter=max_iter, solver='liblinear', random_state=0)],\n",
        "        'preprocessing': [StandardScaler(), MinMaxScaler(), RobustScaler(), MaxAbsScaler(), PowerTransformer()],\n",
        "        'classifier__C': [0.00001, 0.0001, 0.001, 0.01, 0.1, 1, 10, 100, 500, 1000, 10000],\n",
        "        'classifier__penalty': ['l1', 'l2'],\n",
        "    },\n",
        "    {\n",
        "        'classifier': [LogisticRegression(max_iter=max_iter, solver='lbfgs', random_state=0)],\n",
        "        'preprocessing': [StandardScaler(), MinMaxScaler(), RobustScaler(), MaxAbsScaler(), PowerTransformer()],\n",
        "        'classifier__C': [0.00001, 0.0001, 0.001, 0.01, 0.1, 1, 10, 100, 500, 1000, 10000],\n",
        "        'classifier__penalty': [None, 'l2'],\n",
        "    },\n",
        "    {\n",
        "        'classifier': [LogisticRegression(max_iter=max_iter, solver='saga', random_state=0)],\n",
        "        'preprocessing': [StandardScaler(), MinMaxScaler(), RobustScaler(), PowerTransformer(), MaxAbsScaler()],\n",
        "        'classifier__C': [0.00001, 0.0001, 0.001, 0.01, 0.1, 1, 10, 100, 500, 1000, 10000],\n",
        "        'classifier__penalty': ['l2','l1'],\n",
        "    },\n",
        "    {\n",
        "        'classifier': [LogisticRegression(max_iter=max_iter, solver='newton-cg', random_state=0)],\n",
        "        'preprocessing': [StandardScaler(), MinMaxScaler(), RobustScaler(), MaxAbsScaler(), PowerTransformer()],\n",
        "        'classifier__C': [0.00001, 0.0001, 0.001, 0.01, 0.1, 1, 10, 100, 500, 1000, 10000],\n",
        "        'classifier__penalty': ['l2', None],\n",
        "    },\n",
        "    {\n",
        "        'classifier': [LogisticRegression(max_iter=max_iter, solver='sag', random_state=0)],\n",
        "        'preprocessing': [StandardScaler(), MinMaxScaler(), RobustScaler(), MaxAbsScaler(), PowerTransformer()],\n",
        "        'classifier__C': [0.00001, 0.0001, 0.001, 0.01, 0.1, 1, 10, 100, 500, 1000, 10000],\n",
        "        'classifier__penalty': ['l2', None],\n",
        "    }\n",
        "]\n",
        "\n",
        "\n",
        "X_train, X_test, y_train, y_test = train_test_split(feature_vectors, targets, test_size=0.1, random_state=0)\n",
        "\n",
        "kf = KFold(n_splits=5, shuffle=True, random_state=0)\n",
        "grid_search = HalvingGridSearchCV(pipe_logit, param_grid_logit, cv=kf, n_jobs=-1, verbose=2, error_score='raise')\n",
        "\n",
        "grid_search.fit(X_train, y_train)\n",
        "\n",
        "print(\"Best parameters: {}\".format(grid_search.best_params_))\n",
        "\n",
        "print(\"Best cross-validation score:{:.2f}\".format(grid_search.best_score_))\n",
        "\n",
        "print(\"Best estimator:\\n{}\".format(grid_search.best_estimator_))\n",
        "\n",
        "print(\"Test-set score: {:.2f}\".format(grid_search.score(X_test, y_test)))\n",
        "\n",
        "print('-----------------------------------------------------------------')\n",
        "\n",
        "# Training the best model on the entire dataset\n",
        "\n",
        "pipe_logit = grid_search.best_estimator_\n",
        "pipe_logit.fit(feature_vectors, targets)\n",
        "\n",
        "#confusion matrix and classification report\n",
        "fit_and_print(pipe_logit, 'Logistic Regression (Basic)')"
      ]
    },
    {
      "cell_type": "markdown",
      "metadata": {
        "id": "RXFqjYkGKjdD"
      },
      "source": [
        "### 5. Support Vector Machine (Basic)"
      ]
    },
    {
      "cell_type": "code",
      "execution_count": null,
      "metadata": {
        "id": "YzxjgiGvKjdD",
        "outputId": "e6c60d32-a7fb-4338-fbbd-7ab87dcb45c7"
      },
      "outputs": [
        {
          "name": "stdout",
          "output_type": "stream",
          "text": [
            "n_iterations: 7\n",
            "n_required_iterations: 7\n",
            "n_possible_iterations: 7\n",
            "min_resources_: 24\n",
            "max_resources_: 18000\n",
            "aggressive_elimination: False\n",
            "factor: 3\n",
            "----------\n",
            "iter: 0\n",
            "n_candidates: 960\n",
            "n_resources: 24\n",
            "Fitting 5 folds for each of 960 candidates, totalling 4800 fits\n",
            "----------\n",
            "iter: 1\n",
            "n_candidates: 320\n",
            "n_resources: 72\n",
            "Fitting 5 folds for each of 320 candidates, totalling 1600 fits\n",
            "----------\n",
            "iter: 2\n",
            "n_candidates: 107\n",
            "n_resources: 216\n",
            "Fitting 5 folds for each of 107 candidates, totalling 535 fits\n",
            "----------\n",
            "iter: 3\n",
            "n_candidates: 36\n",
            "n_resources: 648\n",
            "Fitting 5 folds for each of 36 candidates, totalling 180 fits\n",
            "----------\n",
            "iter: 4\n",
            "n_candidates: 12\n",
            "n_resources: 1944\n",
            "Fitting 5 folds for each of 12 candidates, totalling 60 fits\n",
            "----------\n",
            "iter: 5\n",
            "n_candidates: 4\n",
            "n_resources: 5832\n",
            "Fitting 5 folds for each of 4 candidates, totalling 20 fits\n",
            "----------\n",
            "iter: 6\n",
            "n_candidates: 2\n",
            "n_resources: 17496\n",
            "Fitting 5 folds for each of 2 candidates, totalling 10 fits\n",
            "Best parameters: {'classifier': SVC(C=10, gamma=0.001, kernel='linear', random_state=0), 'classifier__C': 10, 'classifier__class_weight': None, 'classifier__gamma': 0.001, 'preprocessing': StandardScaler()}\n",
            "Best cross-validation score:0.68\n",
            "Best estimator:\n",
            "Pipeline(steps=[('preprocessing', StandardScaler()),\n",
            "                ('classifier',\n",
            "                 SVC(C=10, gamma=0.001, kernel='linear', random_state=0))])\n",
            "Test-set score: 0.67\n",
            "-----------------------------------------------------------------\n",
            "              precision    recall  f1-score   support\n",
            "\n",
            "           0      0.652     0.802     0.719      1043\n",
            "           1      0.712     0.533     0.610       957\n",
            "\n",
            "    accuracy                          0.673      2000\n",
            "   macro avg      0.682     0.668     0.665      2000\n",
            "weighted avg      0.681     0.673     0.667      2000\n",
            "\n"
          ]
        },
        {
          "data": {
            "image/png": "[encoded data removed]",
            "text/plain": [
              "<Figure size 640x480 with 2 Axes>"
            ]
          },
          "metadata": {},
          "output_type": "display_data"
        }
      ],
      "source": [
        "#Building the pipeline for the random forest classifier\n",
        "pipe_svm = Pipeline([(\"preprocessing\", StandardScaler()),(\"classifier\", SVC(kernel='linear', random_state=0))])\n",
        "\n",
        "# parameters dictionary for the grid search\n",
        "param_grid_svm =[{'classifier': [SVC(kernel = 'linear',random_state=0)],\n",
        "                 'preprocessing': [StandardScaler(), MinMaxScaler(), RobustScaler(), MaxAbsScaler(), PowerTransformer()],\n",
        "                 'classifier__C': [0.1, 1, 5, 10],\n",
        "                 'classifier__gamma': [0.0001, 0.0005, 0.001, 0.005],\n",
        "                 'classifier__class_weight':[None, 'balanced']\n",
        "                 },\n",
        "                 {'classifier': [SVC(kernel = 'rbf',random_state=0)],\n",
        "                 'preprocessing': [StandardScaler(), MinMaxScaler(), RobustScaler(), MaxAbsScaler(), PowerTransformer()],\n",
        "                 'classifier__C': [0.1, 1, 5, 10],\n",
        "                 'classifier__gamma': [0.0001, 0.001, 'scale', 'auto', 1],\n",
        "                 'classifier__class_weight':[None, 'balanced']\n",
        "                 },\n",
        "                 {'classifier': [SVC(kernel = 'poly',random_state=0)],\n",
        "                 'preprocessing': [StandardScaler(), MinMaxScaler(), RobustScaler(), MaxAbsScaler(), PowerTransformer()],\n",
        "                 'classifier__C': [0.1, 1, 5, 10],\n",
        "                 'classifier__gamma': [0.0001, 0.001, 'scale', 'auto', 1],\n",
        "                 'classifier__class_weight':[None, 'balanced'],\n",
        "                 'classifier__degree':[2,3,4]\n",
        "                 }]\n",
        "\n",
        "X_train, X_test, y_train, y_test = train_test_split(feature_vectors, targets, test_size=0.1, random_state=0)\n",
        "\n",
        "kf = KFold(n_splits=5, shuffle=True, random_state=0)\n",
        "grid_search = HalvingGridSearchCV(pipe_svm, param_grid_svm, cv=kf, n_jobs=-1, verbose=1)\n",
        "\n",
        "grid_search.fit(X_train, y_train)\n",
        "\n",
        "print(\"Best parameters: {}\".format(grid_search.best_params_))\n",
        "\n",
        "print(\"Best cross-validation score:{:.2f}\".format(grid_search.best_score_))\n",
        "\n",
        "print(\"Best estimator:\\n{}\".format(grid_search.best_estimator_))\n",
        "\n",
        "print(\"Test-set score: {:.2f}\".format(grid_search.score(X_test, y_test)))\n",
        "\n",
        "print('-----------------------------------------------------------------')\n",
        "\n",
        "# Training the best model on the entire dataset\n",
        "pipe_svm = grid_search.best_estimator_\n",
        "pipe_svm.fit(feature_vectors, targets)\n",
        "\n",
        "#confusion matrix and classification report\n",
        "fit_and_print(pipe_svm, 'Support Vector Machine (Basic)')\n"
      ]
    },
    {
      "cell_type": "markdown",
      "metadata": {
        "id": "f-oIG4pqKjdD"
      },
      "source": [
        "### 6. Naïve Bayes Classifiers: MultinomialNB, GaussianNB, BernoulliNB (Basic)"
      ]
    },
    {
      "cell_type": "code",
      "execution_count": null,
      "metadata": {
        "id": "zKaMJSXKKjdD",
        "outputId": "f2adbb13-03a2-4f10-d26c-045a56c145a7"
      },
      "outputs": [
        {
          "name": "stdout",
          "output_type": "stream",
          "text": [
            "Best parameters: {'classifier': MultinomialNB(alpha=100.0, fit_prior=False), 'classifier__alpha': 100.0, 'classifier__fit_prior': False, 'preprocessing': MinMaxScaler()}\n",
            "Best cross-validation score:0.59\n",
            "Best estimator:\n",
            "Pipeline(steps=[('preprocessing', MinMaxScaler()),\n",
            "                ('classifier', MultinomialNB(alpha=100.0, fit_prior=False))])\n",
            "Test-set score: 0.58\n",
            "-----------------------------------------------------------------\n",
            "              precision    recall  f1-score   support\n",
            "\n",
            "           0      0.613     0.542     0.575      1043\n",
            "           1      0.557     0.628     0.590       957\n",
            "\n",
            "    accuracy                          0.583      2000\n",
            "   macro avg      0.585     0.585     0.583      2000\n",
            "weighted avg      0.586     0.583     0.583      2000\n",
            "\n"
          ]
        },
        {
          "data": {
            "image/png": "[encoded data removed]",
            "text/plain": [
              "<Figure size 640x480 with 2 Axes>"
            ]
          },
          "metadata": {},
          "output_type": "display_data"
        }
      ],
      "source": [
        "#Building the pipeline for the random forest classifier\n",
        "pipe_nb = Pipeline([(\"preprocessing\", StandardScaler()), (\"classifier\", GaussianNB())])\n",
        "\n",
        "# parameters dictionary for the grid search\n",
        "param_grid_nb =[{'classifier': [MultinomialNB()],\n",
        "                'preprocessing': [MinMaxScaler()],\n",
        "                'classifier__alpha': [0.00001, 0.001, 0.1, 0.5, 1.0, 10.0, 100.0],\n",
        "                'classifier__fit_prior': [True, False]},\n",
        "                {'classifier': [GaussianNB()],\n",
        "                 'preprocessing': [StandardScaler(), MinMaxScaler(), RobustScaler(), MaxAbsScaler(), PowerTransformer()],\n",
        "                 'classifier__var_smoothing': [1e-09, 1e-08, 1e-07]},\n",
        "                {'classifier':[BernoulliNB()],\n",
        "                 'preprocessing': [StandardScaler(), MinMaxScaler(), RobustScaler(), MaxAbsScaler(), PowerTransformer()],\n",
        "                 'classifier__alpha': [0.00001, 0.001, 0.1, 0.5, 1.0, 10.0, 100.0],\n",
        "                 'classifier__binarize': [0.0, 0.5, 1.0],\n",
        "                 'classifier__fit_prior': [True, False]},\n",
        "                {'classifier': [MultinomialNB()],\n",
        "                'preprocessing': [MinMaxScaler()]},\n",
        "                {'classifier': [GaussianNB()],\n",
        "                'preprocessing': [StandardScaler(), MinMaxScaler(), RobustScaler(), MaxAbsScaler(), PowerTransformer()]},\n",
        "                {'classifier': [BernoulliNB()],\n",
        "                'preprocessing': [StandardScaler(), MinMaxScaler(), RobustScaler(), MaxAbsScaler(), PowerTransformer()]}\n",
        "                ]\n",
        "\n",
        "X_train, X_test, y_train, y_test = train_test_split(feature_vectors, targets, test_size=0.1, random_state=0)\n",
        "\n",
        "kf = KFold(n_splits=5, shuffle=True, random_state=0)\n",
        "grid_search = HalvingGridSearchCV(pipe_nb, param_grid_nb, cv=kf, n_jobs=-1)\n",
        "\n",
        "grid_search.fit(X_train, y_train)\n",
        "\n",
        "print(\"Best parameters: {}\".format(grid_search.best_params_))\n",
        "\n",
        "print(\"Best cross-validation score:{:.2f}\".format(grid_search.best_score_))\n",
        "\n",
        "print(\"Best estimator:\\n{}\".format(grid_search.best_estimator_))\n",
        "\n",
        "print(\"Test-set score: {:.2f}\".format(grid_search.score(X_test, y_test)))\n",
        "\n",
        "print('-----------------------------------------------------------------')\n",
        "\n",
        "# Training the best model on the entire dataset\n",
        "\n",
        "pipe_nb = grid_search.best_estimator_\n",
        "pipe_nb.fit(feature_vectors, targets)\n",
        "\n",
        "#confusion matrix and classification report\n",
        "fit_and_print(pipe_nb, 'Naïve Bayes Classifier (Basic)')\n"
      ]
    },
    {
      "cell_type": "markdown",
      "metadata": {
        "id": "D3tAulJDZvme"
      },
      "source": [
        "Looking at the training results, we can affirm that the ensable models (Random Forest Classifier, XGBoost Classifier, Gradient Boost Classifier) give better results."
      ]
    },
    {
      "cell_type": "markdown",
      "metadata": {
        "id": "bwjVjkJvKjdE"
      },
      "source": [
        "## Enhanced Models with Twitter Sentiment Score\n",
        "\n",
        "In the following section the models will be trained with both percentage changes and twitter sentiment scores (Senario 2)."
      ]
    },
    {
      "cell_type": "code",
      "execution_count": null,
      "metadata": {
        "id": "hITXXnJWKjdE",
        "outputId": "db5cc7ed-a289-461e-e5c5-1052e8feeb3c"
      },
      "outputs": [
        {
          "name": "stdout",
          "output_type": "stream",
          "text": [
            "(20000, 10, 2) (20000,)\n"
          ]
        }
      ],
      "source": [
        "#2 'Twitter_sentiment'\n",
        "feature_vectors, targets = extract_features_targets(concat_df, 'Twitter_sentiment', split=1000, random_seed = 2)\n",
        "\n",
        "print(feature_vectors.shape,targets.shape)"
      ]
    },
    {
      "cell_type": "markdown",
      "metadata": {
        "id": "LZ4eqc9bKjdE"
      },
      "source": [
        "### 1. Random Forest Classifier (Enhanced)"
      ]
    },
    {
      "cell_type": "code",
      "execution_count": null,
      "metadata": {
        "id": "-G3VC7qzKjdE",
        "outputId": "9af0f010-099b-4db0-d650-9b3fb4eaea63"
      },
      "outputs": [
        {
          "name": "stdout",
          "output_type": "stream",
          "text": [
            "n_iterations: 5\n",
            "n_required_iterations: 6\n",
            "n_possible_iterations: 5\n",
            "min_resources_: 74\n",
            "max_resources_: 18000\n",
            "aggressive_elimination: False\n",
            "factor: 3\n",
            "----------\n",
            "iter: 0\n",
            "n_candidates: 257\n",
            "n_resources: 74\n",
            "Fitting 5 folds for each of 257 candidates, totalling 1285 fits\n",
            "----------\n",
            "iter: 1\n",
            "n_candidates: 86\n",
            "n_resources: 222\n",
            "Fitting 5 folds for each of 86 candidates, totalling 430 fits\n",
            "----------\n",
            "iter: 2\n",
            "n_candidates: 29\n",
            "n_resources: 666\n",
            "Fitting 5 folds for each of 29 candidates, totalling 145 fits\n",
            "----------\n",
            "iter: 3\n",
            "n_candidates: 10\n",
            "n_resources: 1998\n",
            "Fitting 5 folds for each of 10 candidates, totalling 50 fits\n",
            "----------\n",
            "iter: 4\n",
            "n_candidates: 4\n",
            "n_resources: 5994\n",
            "Fitting 5 folds for each of 4 candidates, totalling 20 fits\n",
            "Best parameters: {'classifier': RandomForestClassifier(criterion='entropy', max_features='log2',\n",
            "                       n_estimators=1000, random_state=0), 'classifier__bootstrap': True, 'classifier__criterion': 'entropy', 'classifier__max_depth': None, 'classifier__max_features': 'log2', 'classifier__min_samples_leaf': 1, 'classifier__n_estimators': 1000, 'preprocessing': None}\n",
            "Best cross-validation score:0.93\n",
            "Best estimator:\n",
            "Pipeline(steps=[('preprocessing', None),\n",
            "                ('classifier',\n",
            "                 RandomForestClassifier(criterion='entropy',\n",
            "                                        max_features='log2', n_estimators=1000,\n",
            "                                        random_state=0))])\n",
            "Test-set score: 1.00\n",
            "-----------------------------------------------------------------\n"
          ]
        },
        {
          "data": {
            "text/html": [
              "<style>#sk-container-id-1 {color: black;background-color: white;}#sk-container-id-1 pre{padding: 0;}#sk-container-id-1 div.sk-toggleable {background-color: white;}#sk-container-id-1 label.sk-toggleable__label {cursor: pointer;display: block;width: 100%;margin-bottom: 0;padding: 0.3em;box-sizing: border-box;text-align: center;}#sk-container-id-1 label.sk-toggleable__label-arrow:before {content: \"▸\";float: left;margin-right: 0.25em;color: #696969;}#sk-container-id-1 label.sk-toggleable__label-arrow:hover:before {color: black;}#sk-container-id-1 div.sk-estimator:hover label.sk-toggleable__label-arrow:before {color: black;}#sk-container-id-1 div.sk-toggleable__content {max-height: 0;max-width: 0;overflow: hidden;text-align: left;background-color: #f0f8ff;}#sk-container-id-1 div.sk-toggleable__content pre {margin: 0.2em;color: black;border-radius: 0.25em;background-color: #f0f8ff;}#sk-container-id-1 input.sk-toggleable__control:checked~div.sk-toggleable__content {max-height: 200px;max-width: 100%;overflow: auto;}#sk-container-id-1 input.sk-toggleable__control:checked~label.sk-toggleable__label-arrow:before {content: \"▾\";}#sk-container-id-1 div.sk-estimator input.sk-toggleable__control:checked~label.sk-toggleable__label {background-color: #d4ebff;}#sk-container-id-1 div.sk-label input.sk-toggleable__control:checked~label.sk-toggleable__label {background-color: #d4ebff;}#sk-container-id-1 input.sk-hidden--visually {border: 0;clip: rect(1px 1px 1px 1px);clip: rect(1px, 1px, 1px, 1px);height: 1px;margin: -1px;overflow: hidden;padding: 0;position: absolute;width: 1px;}#sk-container-id-1 div.sk-estimator {font-family: monospace;background-color: #f0f8ff;border: 1px dotted black;border-radius: 0.25em;box-sizing: border-box;margin-bottom: 0.5em;}#sk-container-id-1 div.sk-estimator:hover {background-color: #d4ebff;}#sk-container-id-1 div.sk-parallel-item::after {content: \"\";width: 100%;border-bottom: 1px solid gray;flex-grow: 1;}#sk-container-id-1 div.sk-label:hover label.sk-toggleable__label {background-color: #d4ebff;}#sk-container-id-1 div.sk-serial::before {content: \"\";position: absolute;border-left: 1px solid gray;box-sizing: border-box;top: 0;bottom: 0;left: 50%;z-index: 0;}#sk-container-id-1 div.sk-serial {display: flex;flex-direction: column;align-items: center;background-color: white;padding-right: 0.2em;padding-left: 0.2em;position: relative;}#sk-container-id-1 div.sk-item {position: relative;z-index: 1;}#sk-container-id-1 div.sk-parallel {display: flex;align-items: stretch;justify-content: center;background-color: white;position: relative;}#sk-container-id-1 div.sk-item::before, #sk-container-id-1 div.sk-parallel-item::before {content: \"\";position: absolute;border-left: 1px solid gray;box-sizing: border-box;top: 0;bottom: 0;left: 50%;z-index: -1;}#sk-container-id-1 div.sk-parallel-item {display: flex;flex-direction: column;z-index: 1;position: relative;background-color: white;}#sk-container-id-1 div.sk-parallel-item:first-child::after {align-self: flex-end;width: 50%;}#sk-container-id-1 div.sk-parallel-item:last-child::after {align-self: flex-start;width: 50%;}#sk-container-id-1 div.sk-parallel-item:only-child::after {width: 0;}#sk-container-id-1 div.sk-dashed-wrapped {border: 1px dashed gray;margin: 0 0.4em 0.5em 0.4em;box-sizing: border-box;padding-bottom: 0.4em;background-color: white;}#sk-container-id-1 div.sk-label label {font-family: monospace;font-weight: bold;display: inline-block;line-height: 1.2em;}#sk-container-id-1 div.sk-label-container {text-align: center;}#sk-container-id-1 div.sk-container {/* jupyter's `normalize.less` sets `[hidden] { display: none; }` but bootstrap.min.css set `[hidden] { display: none !important; }` so we also need the `!important` here to be able to override the default hidden behavior on the sphinx rendered scikit-learn.org. See: https://github.com/scikit-learn/scikit-learn/issues/21755 */display: inline-block !important;position: relative;}#sk-container-id-1 div.sk-text-repr-fallback {display: none;}</style><div id=\"sk-container-id-1\" class=\"sk-top-container\"><div class=\"sk-text-repr-fallback\"><pre>Pipeline(steps=[(&#x27;preprocessing&#x27;, None),\n",
              "                (&#x27;classifier&#x27;,\n",
              "                 RandomForestClassifier(criterion=&#x27;entropy&#x27;,\n",
              "                                        max_features=&#x27;log2&#x27;, n_estimators=1000,\n",
              "                                        random_state=0))])</pre><b>In a Jupyter environment, please rerun this cell to show the HTML representation or trust the notebook. <br />On GitHub, the HTML representation is unable to render, please try loading this page with nbviewer.org.</b></div><div class=\"sk-container\" hidden><div class=\"sk-item sk-dashed-wrapped\"><div class=\"sk-label-container\"><div class=\"sk-label sk-toggleable\"><input class=\"sk-toggleable__control sk-hidden--visually\" id=\"sk-estimator-id-1\" type=\"checkbox\" ><label for=\"sk-estimator-id-1\" class=\"sk-toggleable__label sk-toggleable__label-arrow\">Pipeline</label><div class=\"sk-toggleable__content\"><pre>Pipeline(steps=[(&#x27;preprocessing&#x27;, None),\n",
              "                (&#x27;classifier&#x27;,\n",
              "                 RandomForestClassifier(criterion=&#x27;entropy&#x27;,\n",
              "                                        max_features=&#x27;log2&#x27;, n_estimators=1000,\n",
              "                                        random_state=0))])</pre></div></div></div><div class=\"sk-serial\"><div class=\"sk-item\"><div class=\"sk-estimator sk-toggleable\"><input class=\"sk-toggleable__control sk-hidden--visually\" id=\"sk-estimator-id-2\" type=\"checkbox\" ><label for=\"sk-estimator-id-2\" class=\"sk-toggleable__label sk-toggleable__label-arrow\">None</label><div class=\"sk-toggleable__content\"><pre>None</pre></div></div></div><div class=\"sk-item\"><div class=\"sk-estimator sk-toggleable\"><input class=\"sk-toggleable__control sk-hidden--visually\" id=\"sk-estimator-id-3\" type=\"checkbox\" ><label for=\"sk-estimator-id-3\" class=\"sk-toggleable__label sk-toggleable__label-arrow\">RandomForestClassifier</label><div class=\"sk-toggleable__content\"><pre>RandomForestClassifier(criterion=&#x27;entropy&#x27;, max_features=&#x27;log2&#x27;,\n",
              "                       n_estimators=1000, random_state=0)</pre></div></div></div></div></div></div></div>"
            ],
            "text/plain": [
              "Pipeline(steps=[('preprocessing', None),\n",
              "                ('classifier',\n",
              "                 RandomForestClassifier(criterion='entropy',\n",
              "                                        max_features='log2', n_estimators=1000,\n",
              "                                        random_state=0))])"
            ]
          },
          "execution_count": 38,
          "metadata": {},
          "output_type": "execute_result"
        }
      ],
      "source": [
        "#reshaping the vector in 2D so it can be scaled\n",
        "feature_vectors_re = feature_vectors.reshape(feature_vectors.shape[0], feature_vectors.shape[1] * feature_vectors.shape[2])\n",
        "\n",
        "#Building the pipeline for the Random Forest Classifier\n",
        "pipe_rf = Pipeline([(\"preprocessing\", None), (\"classifier\", RandomForestClassifier(n_estimators=1000, random_state=0))])\n",
        "\n",
        "param_grid_rf = [{'classifier': [RandomForestClassifier(random_state=0)],\n",
        "                 'preprocessing': [None],\n",
        "                 'classifier__n_estimators':[500, 1000, 1500],\n",
        "                 'classifier__max_depth': [2,5,10, None],\n",
        "                 'classifier__criterion': ['gini', 'entropy'],  # Split quality measure\n",
        "                 'classifier__min_samples_leaf': [1, 2, 4, 6],  # Minimum number of samples required to be at a leaf node\n",
        "                 'classifier__max_features': ['sqrt', 'log2'],  # Number of features to consider when looking for the best split\n",
        "                 'classifier__bootstrap': [True, False]}, # Whether bootstrap samples are used when building trees\n",
        "\n",
        "                 {'classifier': [RandomForestClassifier(n_estimators=1000, random_state=0)],\n",
        "                 'preprocessing': [None]}]\n",
        "\n",
        "\n",
        "\n",
        "#performing the gridsearch cross validation to find the best model\n",
        "\n",
        "X_train, X_test, y_train, y_test = train_test_split(feature_vectors_re, targets, test_size=0.1, random_state=0)\n",
        "\n",
        "kf = KFold(n_splits=5, shuffle=True, random_state=0)\n",
        "grid_search = HalvingGridSearchCV(pipe_rf, param_grid_rf, cv=kf, n_jobs=-1, verbose=1)\n",
        "\n",
        "\n",
        "grid_search.fit(X_train, y_train)\n",
        "\n",
        "print(\"Best parameters: {}\".format(grid_search.best_params_))\n",
        "\n",
        "print(\"Best cross-validation score:{:.2f}\".format(grid_search.best_score_))\n",
        "\n",
        "print(\"Best estimator:\\n{}\".format(grid_search.best_estimator_))\n",
        "\n",
        "print(\"Test-set score: {:.2f}\".format(grid_search.score(X_test, y_test)))\n",
        "\n",
        "print('-----------------------------------------------------------------')\n",
        "\n",
        "#training the best model on the entire dataset\n",
        "\n",
        "pipe_rf = grid_search.best_estimator_\n",
        "pipe_rf.fit(feature_vectors_re, targets)"
      ]
    },
    {
      "cell_type": "code",
      "execution_count": null,
      "metadata": {
        "id": "e4KLKLsUKjdE",
        "outputId": "ff7976f7-c218-4b2d-934e-1f670a93049f"
      },
      "outputs": [
        {
          "name": "stdout",
          "output_type": "stream",
          "text": [
            "              precision    recall  f1-score   support\n",
            "\n",
            "           0      0.997     0.997     0.997      1053\n",
            "           1      0.997     0.997     0.997       947\n",
            "\n",
            "    accuracy                          0.997      2000\n",
            "   macro avg      0.997     0.997     0.997      2000\n",
            "weighted avg      0.997     0.997     0.997      2000\n",
            "\n"
          ]
        },
        {
          "data": {
            "image/png": "[encoded data removed]",
            "text/plain": [
              "<Figure size 640x480 with 2 Axes>"
            ]
          },
          "metadata": {},
          "output_type": "display_data"
        }
      ],
      "source": [
        "fit_and_print(pipe_rf, 'Random Forest Classifier (Enhanced)')"
      ]
    },
    {
      "cell_type": "markdown",
      "metadata": {
        "collapsed": false,
        "id": "Grp5jmwkKjdF"
      },
      "source": [
        "### 2. Gradient Boosting Classifier (Enhanced)"
      ]
    },
    {
      "cell_type": "code",
      "execution_count": null,
      "metadata": {
        "ExecuteTime": {
          "end_time": "2023-06-14T16:34:41.551159400Z",
          "start_time": "2023-06-14T16:33:33.653864700Z"
        },
        "id": "fCMRc_J0KjdF",
        "outputId": "25e275e6-06aa-4f73-8fed-7081979d931d"
      },
      "outputs": [
        {
          "name": "stdout",
          "output_type": "stream",
          "text": [
            "n_iterations: 5\n",
            "n_required_iterations: 5\n",
            "n_possible_iterations: 5\n",
            "min_resources_: 222\n",
            "max_resources_: 18000\n",
            "aggressive_elimination: False\n",
            "factor: 3\n",
            "----------\n",
            "iter: 0\n",
            "n_candidates: 100\n",
            "n_resources: 222\n",
            "Fitting 5 folds for each of 100 candidates, totalling 500 fits\n",
            "----------\n",
            "iter: 1\n",
            "n_candidates: 34\n",
            "n_resources: 666\n",
            "Fitting 5 folds for each of 34 candidates, totalling 170 fits\n",
            "----------\n",
            "iter: 2\n",
            "n_candidates: 12\n",
            "n_resources: 1998\n",
            "Fitting 5 folds for each of 12 candidates, totalling 60 fits\n",
            "----------\n",
            "iter: 3\n",
            "n_candidates: 4\n",
            "n_resources: 5994\n",
            "Fitting 5 folds for each of 4 candidates, totalling 20 fits\n",
            "----------\n",
            "iter: 4\n",
            "n_candidates: 2\n",
            "n_resources: 17982\n",
            "Fitting 5 folds for each of 2 candidates, totalling 10 fits\n",
            "Best parameters: {'classifier': GradientBoostingClassifier(max_depth=5, n_estimators=1000, random_state=0), 'classifier__learning_rate': 0.1, 'classifier__max_depth': 5, 'classifier__n_estimators': 1000, 'preprocessing': None}\n",
            "Best cross-validation score:1.00\n",
            "Best estimator:\n",
            "Pipeline(steps=[('preprocessing', None),\n",
            "                ('classifier',\n",
            "                 GradientBoostingClassifier(max_depth=5, n_estimators=1000,\n",
            "                                            random_state=0))])\n",
            "Test-set score: 1.00\n",
            "-----------------------------------------------------------------\n"
          ]
        },
        {
          "data": {
            "text/html": [
              "<style>#sk-container-id-4 {color: black;background-color: white;}#sk-container-id-4 pre{padding: 0;}#sk-container-id-4 div.sk-toggleable {background-color: white;}#sk-container-id-4 label.sk-toggleable__label {cursor: pointer;display: block;width: 100%;margin-bottom: 0;padding: 0.3em;box-sizing: border-box;text-align: center;}#sk-container-id-4 label.sk-toggleable__label-arrow:before {content: \"▸\";float: left;margin-right: 0.25em;color: #696969;}#sk-container-id-4 label.sk-toggleable__label-arrow:hover:before {color: black;}#sk-container-id-4 div.sk-estimator:hover label.sk-toggleable__label-arrow:before {color: black;}#sk-container-id-4 div.sk-toggleable__content {max-height: 0;max-width: 0;overflow: hidden;text-align: left;background-color: #f0f8ff;}#sk-container-id-4 div.sk-toggleable__content pre {margin: 0.2em;color: black;border-radius: 0.25em;background-color: #f0f8ff;}#sk-container-id-4 input.sk-toggleable__control:checked~div.sk-toggleable__content {max-height: 200px;max-width: 100%;overflow: auto;}#sk-container-id-4 input.sk-toggleable__control:checked~label.sk-toggleable__label-arrow:before {content: \"▾\";}#sk-container-id-4 div.sk-estimator input.sk-toggleable__control:checked~label.sk-toggleable__label {background-color: #d4ebff;}#sk-container-id-4 div.sk-label input.sk-toggleable__control:checked~label.sk-toggleable__label {background-color: #d4ebff;}#sk-container-id-4 input.sk-hidden--visually {border: 0;clip: rect(1px 1px 1px 1px);clip: rect(1px, 1px, 1px, 1px);height: 1px;margin: -1px;overflow: hidden;padding: 0;position: absolute;width: 1px;}#sk-container-id-4 div.sk-estimator {font-family: monospace;background-color: #f0f8ff;border: 1px dotted black;border-radius: 0.25em;box-sizing: border-box;margin-bottom: 0.5em;}#sk-container-id-4 div.sk-estimator:hover {background-color: #d4ebff;}#sk-container-id-4 div.sk-parallel-item::after {content: \"\";width: 100%;border-bottom: 1px solid gray;flex-grow: 1;}#sk-container-id-4 div.sk-label:hover label.sk-toggleable__label {background-color: #d4ebff;}#sk-container-id-4 div.sk-serial::before {content: \"\";position: absolute;border-left: 1px solid gray;box-sizing: border-box;top: 0;bottom: 0;left: 50%;z-index: 0;}#sk-container-id-4 div.sk-serial {display: flex;flex-direction: column;align-items: center;background-color: white;padding-right: 0.2em;padding-left: 0.2em;position: relative;}#sk-container-id-4 div.sk-item {position: relative;z-index: 1;}#sk-container-id-4 div.sk-parallel {display: flex;align-items: stretch;justify-content: center;background-color: white;position: relative;}#sk-container-id-4 div.sk-item::before, #sk-container-id-4 div.sk-parallel-item::before {content: \"\";position: absolute;border-left: 1px solid gray;box-sizing: border-box;top: 0;bottom: 0;left: 50%;z-index: -1;}#sk-container-id-4 div.sk-parallel-item {display: flex;flex-direction: column;z-index: 1;position: relative;background-color: white;}#sk-container-id-4 div.sk-parallel-item:first-child::after {align-self: flex-end;width: 50%;}#sk-container-id-4 div.sk-parallel-item:last-child::after {align-self: flex-start;width: 50%;}#sk-container-id-4 div.sk-parallel-item:only-child::after {width: 0;}#sk-container-id-4 div.sk-dashed-wrapped {border: 1px dashed gray;margin: 0 0.4em 0.5em 0.4em;box-sizing: border-box;padding-bottom: 0.4em;background-color: white;}#sk-container-id-4 div.sk-label label {font-family: monospace;font-weight: bold;display: inline-block;line-height: 1.2em;}#sk-container-id-4 div.sk-label-container {text-align: center;}#sk-container-id-4 div.sk-container {/* jupyter's `normalize.less` sets `[hidden] { display: none; }` but bootstrap.min.css set `[hidden] { display: none !important; }` so we also need the `!important` here to be able to override the default hidden behavior on the sphinx rendered scikit-learn.org. See: https://github.com/scikit-learn/scikit-learn/issues/21755 */display: inline-block !important;position: relative;}#sk-container-id-4 div.sk-text-repr-fallback {display: none;}</style><div id=\"sk-container-id-4\" class=\"sk-top-container\"><div class=\"sk-text-repr-fallback\"><pre>Pipeline(steps=[(&#x27;preprocessing&#x27;, None),\n",
              "                (&#x27;classifier&#x27;,\n",
              "                 GradientBoostingClassifier(max_depth=5, n_estimators=1000,\n",
              "                                            random_state=0))])</pre><b>In a Jupyter environment, please rerun this cell to show the HTML representation or trust the notebook. <br />On GitHub, the HTML representation is unable to render, please try loading this page with nbviewer.org.</b></div><div class=\"sk-container\" hidden><div class=\"sk-item sk-dashed-wrapped\"><div class=\"sk-label-container\"><div class=\"sk-label sk-toggleable\"><input class=\"sk-toggleable__control sk-hidden--visually\" id=\"sk-estimator-id-10\" type=\"checkbox\" ><label for=\"sk-estimator-id-10\" class=\"sk-toggleable__label sk-toggleable__label-arrow\">Pipeline</label><div class=\"sk-toggleable__content\"><pre>Pipeline(steps=[(&#x27;preprocessing&#x27;, None),\n",
              "                (&#x27;classifier&#x27;,\n",
              "                 GradientBoostingClassifier(max_depth=5, n_estimators=1000,\n",
              "                                            random_state=0))])</pre></div></div></div><div class=\"sk-serial\"><div class=\"sk-item\"><div class=\"sk-estimator sk-toggleable\"><input class=\"sk-toggleable__control sk-hidden--visually\" id=\"sk-estimator-id-11\" type=\"checkbox\" ><label for=\"sk-estimator-id-11\" class=\"sk-toggleable__label sk-toggleable__label-arrow\">None</label><div class=\"sk-toggleable__content\"><pre>None</pre></div></div></div><div class=\"sk-item\"><div class=\"sk-estimator sk-toggleable\"><input class=\"sk-toggleable__control sk-hidden--visually\" id=\"sk-estimator-id-12\" type=\"checkbox\" ><label for=\"sk-estimator-id-12\" class=\"sk-toggleable__label sk-toggleable__label-arrow\">GradientBoostingClassifier</label><div class=\"sk-toggleable__content\"><pre>GradientBoostingClassifier(max_depth=5, n_estimators=1000, random_state=0)</pre></div></div></div></div></div></div></div>"
            ],
            "text/plain": [
              "Pipeline(steps=[('preprocessing', None),\n",
              "                ('classifier',\n",
              "                 GradientBoostingClassifier(max_depth=5, n_estimators=1000,\n",
              "                                            random_state=0))])"
            ]
          },
          "execution_count": 52,
          "metadata": {},
          "output_type": "execute_result"
        }
      ],
      "source": [
        "#reshaping the vector in 2D so it can be scaled\n",
        "feature_vectors_re = feature_vectors.reshape(feature_vectors.shape[0], feature_vectors.shape[1] * feature_vectors.shape[2])\n",
        "\n",
        "#Building the pipeline for the random forest classifier\n",
        "pipe_gb = Pipeline([(\"preprocessing\", None), (\"classifier\", GradientBoostingClassifier(random_state=0))])\n",
        "\n",
        "# parameters dictionary for the grid search\n",
        "\n",
        "param_grid_gb = {'classifier': [GradientBoostingClassifier(random_state=0)],\n",
        "                 'preprocessing': [None],\n",
        "                 'classifier__n_estimators':[100, 250, 500,1000],\n",
        "                 'classifier__max_depth': [1, 2, 3, 4, 5],\n",
        "                 'classifier__learning_rate': [0.1, 0.05, 0.01 ,0.001, 0.0001],\n",
        "                 }\n",
        "\n",
        "#performing the gridsearch cross validation to find the best model\n",
        "\n",
        "X_train, X_test, y_train, y_test = train_test_split(feature_vectors_re, targets, test_size=0.1, random_state=0)\n",
        "\n",
        "kf = KFold(n_splits=5, shuffle=True, random_state=0)\n",
        "\n",
        "grid_search = HalvingGridSearchCV(pipe_gb, param_grid_gb, cv=kf, n_jobs=-1, verbose=1)\n",
        "\n",
        "grid_search.fit(X_train, y_train)\n",
        "\n",
        "print(\"Best parameters: {}\".format(grid_search.best_params_))\n",
        "\n",
        "print(\"Best cross-validation score:{:.2f}\".format(grid_search.best_score_))\n",
        "\n",
        "print(\"Best estimator:\\n{}\".format(grid_search.best_estimator_))\n",
        "\n",
        "print(\"Test-set score: {:.2f}\".format(grid_search.score(X_test, y_test)))\n",
        "\n",
        "print('-----------------------------------------------------------------')\n",
        "\n",
        "# Training the best model on the entire dataset\n",
        "\n",
        "pipe_gb = grid_search.best_estimator_\n",
        "pipe_gb.fit(feature_vectors_re, targets)"
      ]
    },
    {
      "cell_type": "code",
      "execution_count": null,
      "metadata": {
        "id": "ZVqbNAh7KjdF",
        "outputId": "a53d93ec-7663-43a0-b527-fba8cf84023f"
      },
      "outputs": [
        {
          "name": "stdout",
          "output_type": "stream",
          "text": [
            "              precision    recall  f1-score   support\n",
            "\n",
            "           0      0.996     0.996     0.996      1053\n",
            "           1      0.996     0.996     0.996       947\n",
            "\n",
            "    accuracy                          0.996      2000\n",
            "   macro avg      0.996     0.996     0.996      2000\n",
            "weighted avg      0.996     0.996     0.996      2000\n",
            "\n"
          ]
        },
        {
          "data": {
            "image/png": "[encoded data removed]",
            "text/plain": [
              "<Figure size 640x480 with 2 Axes>"
            ]
          },
          "metadata": {},
          "output_type": "display_data"
        }
      ],
      "source": [
        "fit_and_print(pipe_gb, 'Gradient Boost Classifier (Enhanced)')"
      ]
    },
    {
      "cell_type": "markdown",
      "metadata": {
        "collapsed": false,
        "id": "xPLCvQ0yKjdF"
      },
      "source": [
        "### 3. XGBoost Classifier (Enhanced)"
      ]
    },
    {
      "cell_type": "code",
      "execution_count": null,
      "metadata": {
        "ExecuteTime": {
          "end_time": "2023-06-14T16:35:49.354622800Z",
          "start_time": "2023-06-14T16:34:41.768939100Z"
        },
        "id": "3udGQ3hJKjdF",
        "outputId": "d5bd8321-c177-473f-9dc6-4a46f6afba43"
      },
      "outputs": [
        {
          "name": "stdout",
          "output_type": "stream",
          "text": [
            "n_iterations: 7\n",
            "n_required_iterations: 8\n",
            "n_possible_iterations: 7\n",
            "min_resources_: 20\n",
            "max_resources_: 18000\n",
            "aggressive_elimination: False\n",
            "factor: 3\n",
            "----------\n",
            "iter: 0\n",
            "n_candidates: 2880\n",
            "n_resources: 20\n",
            "Fitting 5 folds for each of 2880 candidates, totalling 14400 fits\n",
            "----------\n",
            "iter: 1\n",
            "n_candidates: 960\n",
            "n_resources: 60\n",
            "Fitting 5 folds for each of 960 candidates, totalling 4800 fits\n",
            "----------\n",
            "iter: 2\n",
            "n_candidates: 320\n",
            "n_resources: 180\n",
            "Fitting 5 folds for each of 320 candidates, totalling 1600 fits\n",
            "----------\n",
            "iter: 3\n",
            "n_candidates: 107\n",
            "n_resources: 540\n",
            "Fitting 5 folds for each of 107 candidates, totalling 535 fits\n",
            "----------\n",
            "iter: 4\n",
            "n_candidates: 36\n",
            "n_resources: 1620\n",
            "Fitting 5 folds for each of 36 candidates, totalling 180 fits\n",
            "----------\n",
            "iter: 5\n",
            "n_candidates: 12\n",
            "n_resources: 4860\n",
            "Fitting 5 folds for each of 12 candidates, totalling 60 fits\n",
            "----------\n",
            "iter: 6\n",
            "n_candidates: 4\n",
            "n_resources: 14580\n",
            "Fitting 5 folds for each of 4 candidates, totalling 20 fits\n",
            "Best parameters: {'classifier': XGBClassifier(base_score=None, booster=None, callbacks=None,\n",
            "              colsample_bylevel=None, colsample_bynode=None,\n",
            "              colsample_bytree=None, early_stopping_rounds=None,\n",
            "              enable_categorical=False, eval_metric=None, feature_types=None,\n",
            "              gamma=None, gpu_id=None, grow_policy=None, importance_type=None,\n",
            "              interaction_constraints=None, learning_rate=0.1, max_bin=None,\n",
            "              max_cat_threshold=None, max_cat_to_onehot=None,\n",
            "              max_delta_step=None, max_depth=5, max_leaves=None,\n",
            "              min_child_weight=None, missing=nan, monotone_constraints=None,\n",
            "              n_estimators=1000, n_jobs=None, num_parallel_tree=None,\n",
            "              predictor=None, random_state=0, ...), 'classifier__learning_rate': 0.1, 'classifier__max_depth': 5, 'classifier__n_estimators': 1000, 'classifier__reg_alpha': 0.1, 'classifier__reg_lambda': 10.0, 'classifier__subsample': 0.9, 'preprocessing': None}\n",
            "Best cross-validation score:0.99\n",
            "Best estimator:\n",
            "Pipeline(steps=[('preprocessing', None),\n",
            "                ('classifier',\n",
            "                 XGBClassifier(base_score=None, booster=None, callbacks=None,\n",
            "                               colsample_bylevel=None, colsample_bynode=None,\n",
            "                               colsample_bytree=None,\n",
            "                               early_stopping_rounds=None,\n",
            "                               enable_categorical=False, eval_metric=None,\n",
            "                               feature_types=None, gamma=None, gpu_id=None,\n",
            "                               grow_policy=None, importance_type=None,\n",
            "                               interaction_constraints=None, learning_rate=0.1,\n",
            "                               max_bin=None, max_cat_threshold=None,\n",
            "                               max_cat_to_onehot=None, max_delta_step=None,\n",
            "                               max_depth=5, max_leaves=None,\n",
            "                               min_child_weight=None, missing=nan,\n",
            "                               monotone_constraints=None, n_estimators=1000,\n",
            "                               n_jobs=None, num_parallel_tree=None,\n",
            "                               predictor=None, random_state=0, ...))])\n",
            "Test-set score: 1.00\n",
            "-----------------------------------------------------------------\n"
          ]
        },
        {
          "data": {
            "text/html": [
              "<style>#sk-container-id-1 {color: black;background-color: white;}#sk-container-id-1 pre{padding: 0;}#sk-container-id-1 div.sk-toggleable {background-color: white;}#sk-container-id-1 label.sk-toggleable__label {cursor: pointer;display: block;width: 100%;margin-bottom: 0;padding: 0.3em;box-sizing: border-box;text-align: center;}#sk-container-id-1 label.sk-toggleable__label-arrow:before {content: \"▸\";float: left;margin-right: 0.25em;color: #696969;}#sk-container-id-1 label.sk-toggleable__label-arrow:hover:before {color: black;}#sk-container-id-1 div.sk-estimator:hover label.sk-toggleable__label-arrow:before {color: black;}#sk-container-id-1 div.sk-toggleable__content {max-height: 0;max-width: 0;overflow: hidden;text-align: left;background-color: #f0f8ff;}#sk-container-id-1 div.sk-toggleable__content pre {margin: 0.2em;color: black;border-radius: 0.25em;background-color: #f0f8ff;}#sk-container-id-1 input.sk-toggleable__control:checked~div.sk-toggleable__content {max-height: 200px;max-width: 100%;overflow: auto;}#sk-container-id-1 input.sk-toggleable__control:checked~label.sk-toggleable__label-arrow:before {content: \"▾\";}#sk-container-id-1 div.sk-estimator input.sk-toggleable__control:checked~label.sk-toggleable__label {background-color: #d4ebff;}#sk-container-id-1 div.sk-label input.sk-toggleable__control:checked~label.sk-toggleable__label {background-color: #d4ebff;}#sk-container-id-1 input.sk-hidden--visually {border: 0;clip: rect(1px 1px 1px 1px);clip: rect(1px, 1px, 1px, 1px);height: 1px;margin: -1px;overflow: hidden;padding: 0;position: absolute;width: 1px;}#sk-container-id-1 div.sk-estimator {font-family: monospace;background-color: #f0f8ff;border: 1px dotted black;border-radius: 0.25em;box-sizing: border-box;margin-bottom: 0.5em;}#sk-container-id-1 div.sk-estimator:hover {background-color: #d4ebff;}#sk-container-id-1 div.sk-parallel-item::after {content: \"\";width: 100%;border-bottom: 1px solid gray;flex-grow: 1;}#sk-container-id-1 div.sk-label:hover label.sk-toggleable__label {background-color: #d4ebff;}#sk-container-id-1 div.sk-serial::before {content: \"\";position: absolute;border-left: 1px solid gray;box-sizing: border-box;top: 0;bottom: 0;left: 50%;z-index: 0;}#sk-container-id-1 div.sk-serial {display: flex;flex-direction: column;align-items: center;background-color: white;padding-right: 0.2em;padding-left: 0.2em;position: relative;}#sk-container-id-1 div.sk-item {position: relative;z-index: 1;}#sk-container-id-1 div.sk-parallel {display: flex;align-items: stretch;justify-content: center;background-color: white;position: relative;}#sk-container-id-1 div.sk-item::before, #sk-container-id-1 div.sk-parallel-item::before {content: \"\";position: absolute;border-left: 1px solid gray;box-sizing: border-box;top: 0;bottom: 0;left: 50%;z-index: -1;}#sk-container-id-1 div.sk-parallel-item {display: flex;flex-direction: column;z-index: 1;position: relative;background-color: white;}#sk-container-id-1 div.sk-parallel-item:first-child::after {align-self: flex-end;width: 50%;}#sk-container-id-1 div.sk-parallel-item:last-child::after {align-self: flex-start;width: 50%;}#sk-container-id-1 div.sk-parallel-item:only-child::after {width: 0;}#sk-container-id-1 div.sk-dashed-wrapped {border: 1px dashed gray;margin: 0 0.4em 0.5em 0.4em;box-sizing: border-box;padding-bottom: 0.4em;background-color: white;}#sk-container-id-1 div.sk-label label {font-family: monospace;font-weight: bold;display: inline-block;line-height: 1.2em;}#sk-container-id-1 div.sk-label-container {text-align: center;}#sk-container-id-1 div.sk-container {/* jupyter's `normalize.less` sets `[hidden] { display: none; }` but bootstrap.min.css set `[hidden] { display: none !important; }` so we also need the `!important` here to be able to override the default hidden behavior on the sphinx rendered scikit-learn.org. See: https://github.com/scikit-learn/scikit-learn/issues/21755 */display: inline-block !important;position: relative;}#sk-container-id-1 div.sk-text-repr-fallback {display: none;}</style><div id=\"sk-container-id-1\" class=\"sk-top-container\"><div class=\"sk-text-repr-fallback\"><pre>Pipeline(steps=[(&#x27;preprocessing&#x27;, None),\n",
              "                (&#x27;classifier&#x27;,\n",
              "                 XGBClassifier(base_score=None, booster=None, callbacks=None,\n",
              "                               colsample_bylevel=None, colsample_bynode=None,\n",
              "                               colsample_bytree=None,\n",
              "                               early_stopping_rounds=None,\n",
              "                               enable_categorical=False, eval_metric=None,\n",
              "                               feature_types=None, gamma=None, gpu_id=None,\n",
              "                               grow_policy=None, importance_type=None,\n",
              "                               interaction_constraints=None, learning_rate=0.1,\n",
              "                               max_bin=None, max_cat_threshold=None,\n",
              "                               max_cat_to_onehot=None, max_delta_step=None,\n",
              "                               max_depth=5, max_leaves=None,\n",
              "                               min_child_weight=None, missing=nan,\n",
              "                               monotone_constraints=None, n_estimators=1000,\n",
              "                               n_jobs=None, num_parallel_tree=None,\n",
              "                               predictor=None, random_state=0, ...))])</pre><b>In a Jupyter environment, please rerun this cell to show the HTML representation or trust the notebook. <br />On GitHub, the HTML representation is unable to render, please try loading this page with nbviewer.org.</b></div><div class=\"sk-container\" hidden><div class=\"sk-item sk-dashed-wrapped\"><div class=\"sk-label-container\"><div class=\"sk-label sk-toggleable\"><input class=\"sk-toggleable__control sk-hidden--visually\" id=\"sk-estimator-id-1\" type=\"checkbox\" ><label for=\"sk-estimator-id-1\" class=\"sk-toggleable__label sk-toggleable__label-arrow\">Pipeline</label><div class=\"sk-toggleable__content\"><pre>Pipeline(steps=[(&#x27;preprocessing&#x27;, None),\n",
              "                (&#x27;classifier&#x27;,\n",
              "                 XGBClassifier(base_score=None, booster=None, callbacks=None,\n",
              "                               colsample_bylevel=None, colsample_bynode=None,\n",
              "                               colsample_bytree=None,\n",
              "                               early_stopping_rounds=None,\n",
              "                               enable_categorical=False, eval_metric=None,\n",
              "                               feature_types=None, gamma=None, gpu_id=None,\n",
              "                               grow_policy=None, importance_type=None,\n",
              "                               interaction_constraints=None, learning_rate=0.1,\n",
              "                               max_bin=None, max_cat_threshold=None,\n",
              "                               max_cat_to_onehot=None, max_delta_step=None,\n",
              "                               max_depth=5, max_leaves=None,\n",
              "                               min_child_weight=None, missing=nan,\n",
              "                               monotone_constraints=None, n_estimators=1000,\n",
              "                               n_jobs=None, num_parallel_tree=None,\n",
              "                               predictor=None, random_state=0, ...))])</pre></div></div></div><div class=\"sk-serial\"><div class=\"sk-item\"><div class=\"sk-estimator sk-toggleable\"><input class=\"sk-toggleable__control sk-hidden--visually\" id=\"sk-estimator-id-2\" type=\"checkbox\" ><label for=\"sk-estimator-id-2\" class=\"sk-toggleable__label sk-toggleable__label-arrow\">None</label><div class=\"sk-toggleable__content\"><pre>None</pre></div></div></div><div class=\"sk-item\"><div class=\"sk-estimator sk-toggleable\"><input class=\"sk-toggleable__control sk-hidden--visually\" id=\"sk-estimator-id-3\" type=\"checkbox\" ><label for=\"sk-estimator-id-3\" class=\"sk-toggleable__label sk-toggleable__label-arrow\">XGBClassifier</label><div class=\"sk-toggleable__content\"><pre>XGBClassifier(base_score=None, booster=None, callbacks=None,\n",
              "              colsample_bylevel=None, colsample_bynode=None,\n",
              "              colsample_bytree=None, early_stopping_rounds=None,\n",
              "              enable_categorical=False, eval_metric=None, feature_types=None,\n",
              "              gamma=None, gpu_id=None, grow_policy=None, importance_type=None,\n",
              "              interaction_constraints=None, learning_rate=0.1, max_bin=None,\n",
              "              max_cat_threshold=None, max_cat_to_onehot=None,\n",
              "              max_delta_step=None, max_depth=5, max_leaves=None,\n",
              "              min_child_weight=None, missing=nan, monotone_constraints=None,\n",
              "              n_estimators=1000, n_jobs=None, num_parallel_tree=None,\n",
              "              predictor=None, random_state=0, ...)</pre></div></div></div></div></div></div></div>"
            ],
            "text/plain": [
              "Pipeline(steps=[('preprocessing', None),\n",
              "                ('classifier',\n",
              "                 XGBClassifier(base_score=None, booster=None, callbacks=None,\n",
              "                               colsample_bylevel=None, colsample_bynode=None,\n",
              "                               colsample_bytree=None,\n",
              "                               early_stopping_rounds=None,\n",
              "                               enable_categorical=False, eval_metric=None,\n",
              "                               feature_types=None, gamma=None, gpu_id=None,\n",
              "                               grow_policy=None, importance_type=None,\n",
              "                               interaction_constraints=None, learning_rate=0.1,\n",
              "                               max_bin=None, max_cat_threshold=None,\n",
              "                               max_cat_to_onehot=None, max_delta_step=None,\n",
              "                               max_depth=5, max_leaves=None,\n",
              "                               min_child_weight=None, missing=nan,\n",
              "                               monotone_constraints=None, n_estimators=1000,\n",
              "                               n_jobs=None, num_parallel_tree=None,\n",
              "                               predictor=None, random_state=0, ...))])"
            ]
          },
          "execution_count": 12,
          "metadata": {},
          "output_type": "execute_result"
        }
      ],
      "source": [
        "#reshaping the vector in 2D so it can be scaled\n",
        "feature_vectors_re = feature_vectors.reshape(feature_vectors.shape[0], feature_vectors.shape[1] * feature_vectors.shape[2])\n",
        "\n",
        "\n",
        "#Building the pipeline for the random forest classifier\n",
        "pipe_xgb = Pipeline([(\"preprocessing\", None), (\"classifier\", XGBClassifier(random_state=0))])\n",
        "\n",
        "# parameters dictionary for the grid search\n",
        "\n",
        "param_grid_xgb = {'classifier': [XGBClassifier(random_state=0)],\n",
        "                 'preprocessing': [None],\n",
        "                 'classifier__n_estimators':[100, 250, 500,1000],\n",
        "                 'classifier__max_depth': [1, 2, 3, 5],\n",
        "                 'classifier__learning_rate': [0.1, 0.05, 0.01 ,0.001, 0.0001],\n",
        "                 'classifier__subsample': [0.8, 0.9, 1.0],\n",
        "                 'classifier__reg_lambda':[0.1, 1.0, 10.0],\n",
        "                 'classifier__reg_alpha':[0.0,0.001, 0.1, 1.0]\n",
        "                 }\n",
        "\n",
        "#performing the gridsearch cross validation to find the best model\n",
        "\n",
        "X_train, X_test, y_train, y_test = train_test_split(feature_vectors_re, targets, test_size=0.1, random_state=0)\n",
        "\n",
        "kf = KFold(n_splits=5, shuffle=True, random_state=0)\n",
        "\n",
        "grid_search = HalvingGridSearchCV(pipe_xgb, param_grid_xgb, cv=kf, n_jobs=-1, verbose=1)\n",
        "\n",
        "grid_search.fit(X_train, y_train)\n",
        "\n",
        "print(\"Best parameters: {}\".format(grid_search.best_params_))\n",
        "\n",
        "print(\"Best cross-validation score:{:.2f}\".format(grid_search.best_score_))\n",
        "\n",
        "print(\"Best estimator:\\n{}\".format(grid_search.best_estimator_))\n",
        "\n",
        "print(\"Test-set score: {:.2f}\".format(grid_search.score(X_test, y_test)))\n",
        "\n",
        "print('-----------------------------------------------------------------')\n",
        "\n",
        "# Training the best model on the entire dataset\n",
        "\n",
        "pipe_xgb = grid_search.best_estimator_\n",
        "pipe_xgb.fit(feature_vectors_re, targets)"
      ]
    },
    {
      "cell_type": "code",
      "execution_count": null,
      "metadata": {
        "id": "p_xxjqsgKjdF",
        "outputId": "2708dff4-91d7-4297-ec86-35a485b39a72"
      },
      "outputs": [
        {
          "name": "stdout",
          "output_type": "stream",
          "text": [
            "              precision    recall  f1-score   support\n",
            "\n",
            "           0      0.998     0.999     0.999      1053\n",
            "           1      0.999     0.998     0.998       947\n",
            "\n",
            "    accuracy                          0.999      2000\n",
            "   macro avg      0.999     0.998     0.998      2000\n",
            "weighted avg      0.999     0.999     0.998      2000\n",
            "\n"
          ]
        },
        {
          "data": {
            "image/png": "[encoded data removed]",
            "text/plain": [
              "<Figure size 640x480 with 2 Axes>"
            ]
          },
          "metadata": {},
          "output_type": "display_data"
        }
      ],
      "source": [
        "fit_and_print(pipe_xgb, 'XGBClassifier (Enhanced)')"
      ]
    },
    {
      "cell_type": "markdown",
      "metadata": {
        "collapsed": false,
        "id": "Na_glfHVKjdL"
      },
      "source": [
        "### 4. Logistic Regression (Enhanced)"
      ]
    },
    {
      "cell_type": "code",
      "execution_count": null,
      "metadata": {
        "ExecuteTime": {
          "end_time": "2023-06-14T14:09:00.064088500Z",
          "start_time": "2023-06-14T14:00:55.845086400Z"
        },
        "id": "uzy9p8zQKjdL",
        "outputId": "7fb9cc97-7d2e-4cf0-f54e-8ba24aecde7b"
      },
      "outputs": [
        {
          "name": "stdout",
          "output_type": "stream",
          "text": [
            "n_iterations: 5\n",
            "n_required_iterations: 5\n",
            "n_possible_iterations: 5\n",
            "min_resources_: 222\n",
            "max_resources_: 18000\n",
            "aggressive_elimination: False\n",
            "factor: 3\n",
            "----------\n",
            "iter: 0\n",
            "n_candidates: 110\n",
            "n_resources: 222\n",
            "Fitting 5 folds for each of 110 candidates, totalling 550 fits\n",
            "----------\n",
            "iter: 1\n",
            "n_candidates: 37\n",
            "n_resources: 666\n",
            "Fitting 5 folds for each of 37 candidates, totalling 185 fits\n",
            "----------\n",
            "iter: 2\n",
            "n_candidates: 13\n",
            "n_resources: 1998\n",
            "Fitting 5 folds for each of 13 candidates, totalling 65 fits\n",
            "----------\n",
            "iter: 3\n",
            "n_candidates: 5\n",
            "n_resources: 5994\n",
            "Fitting 5 folds for each of 5 candidates, totalling 25 fits\n",
            "----------\n",
            "iter: 4\n",
            "n_candidates: 2\n",
            "n_resources: 17982\n",
            "Fitting 5 folds for each of 2 candidates, totalling 10 fits\n",
            "Best parameters: {'classifier': LogisticRegression(C=100, max_iter=21000, penalty='l1', random_state=0,\n",
            "                   solver='liblinear'), 'classifier__C': 100, 'classifier__penalty': 'l1', 'preprocessing': None}\n",
            "Best cross-validation score:0.72\n",
            "Best estimator:\n",
            "Pipeline(steps=[('preprocessing', None),\n",
            "                ('classifier',\n",
            "                 LogisticRegression(C=100, max_iter=21000, penalty='l1',\n",
            "                                    random_state=0, solver='liblinear'))])\n",
            "Test-set score: 0.72\n",
            "-----------------------------------------------------------------\n"
          ]
        },
        {
          "data": {
            "text/html": [
              "<style>#sk-container-id-9 {color: black;background-color: white;}#sk-container-id-9 pre{padding: 0;}#sk-container-id-9 div.sk-toggleable {background-color: white;}#sk-container-id-9 label.sk-toggleable__label {cursor: pointer;display: block;width: 100%;margin-bottom: 0;padding: 0.3em;box-sizing: border-box;text-align: center;}#sk-container-id-9 label.sk-toggleable__label-arrow:before {content: \"▸\";float: left;margin-right: 0.25em;color: #696969;}#sk-container-id-9 label.sk-toggleable__label-arrow:hover:before {color: black;}#sk-container-id-9 div.sk-estimator:hover label.sk-toggleable__label-arrow:before {color: black;}#sk-container-id-9 div.sk-toggleable__content {max-height: 0;max-width: 0;overflow: hidden;text-align: left;background-color: #f0f8ff;}#sk-container-id-9 div.sk-toggleable__content pre {margin: 0.2em;color: black;border-radius: 0.25em;background-color: #f0f8ff;}#sk-container-id-9 input.sk-toggleable__control:checked~div.sk-toggleable__content {max-height: 200px;max-width: 100%;overflow: auto;}#sk-container-id-9 input.sk-toggleable__control:checked~label.sk-toggleable__label-arrow:before {content: \"▾\";}#sk-container-id-9 div.sk-estimator input.sk-toggleable__control:checked~label.sk-toggleable__label {background-color: #d4ebff;}#sk-container-id-9 div.sk-label input.sk-toggleable__control:checked~label.sk-toggleable__label {background-color: #d4ebff;}#sk-container-id-9 input.sk-hidden--visually {border: 0;clip: rect(1px 1px 1px 1px);clip: rect(1px, 1px, 1px, 1px);height: 1px;margin: -1px;overflow: hidden;padding: 0;position: absolute;width: 1px;}#sk-container-id-9 div.sk-estimator {font-family: monospace;background-color: #f0f8ff;border: 1px dotted black;border-radius: 0.25em;box-sizing: border-box;margin-bottom: 0.5em;}#sk-container-id-9 div.sk-estimator:hover {background-color: #d4ebff;}#sk-container-id-9 div.sk-parallel-item::after {content: \"\";width: 100%;border-bottom: 1px solid gray;flex-grow: 1;}#sk-container-id-9 div.sk-label:hover label.sk-toggleable__label {background-color: #d4ebff;}#sk-container-id-9 div.sk-serial::before {content: \"\";position: absolute;border-left: 1px solid gray;box-sizing: border-box;top: 0;bottom: 0;left: 50%;z-index: 0;}#sk-container-id-9 div.sk-serial {display: flex;flex-direction: column;align-items: center;background-color: white;padding-right: 0.2em;padding-left: 0.2em;position: relative;}#sk-container-id-9 div.sk-item {position: relative;z-index: 1;}#sk-container-id-9 div.sk-parallel {display: flex;align-items: stretch;justify-content: center;background-color: white;position: relative;}#sk-container-id-9 div.sk-item::before, #sk-container-id-9 div.sk-parallel-item::before {content: \"\";position: absolute;border-left: 1px solid gray;box-sizing: border-box;top: 0;bottom: 0;left: 50%;z-index: -1;}#sk-container-id-9 div.sk-parallel-item {display: flex;flex-direction: column;z-index: 1;position: relative;background-color: white;}#sk-container-id-9 div.sk-parallel-item:first-child::after {align-self: flex-end;width: 50%;}#sk-container-id-9 div.sk-parallel-item:last-child::after {align-self: flex-start;width: 50%;}#sk-container-id-9 div.sk-parallel-item:only-child::after {width: 0;}#sk-container-id-9 div.sk-dashed-wrapped {border: 1px dashed gray;margin: 0 0.4em 0.5em 0.4em;box-sizing: border-box;padding-bottom: 0.4em;background-color: white;}#sk-container-id-9 div.sk-label label {font-family: monospace;font-weight: bold;display: inline-block;line-height: 1.2em;}#sk-container-id-9 div.sk-label-container {text-align: center;}#sk-container-id-9 div.sk-container {/* jupyter's `normalize.less` sets `[hidden] { display: none; }` but bootstrap.min.css set `[hidden] { display: none !important; }` so we also need the `!important` here to be able to override the default hidden behavior on the sphinx rendered scikit-learn.org. See: https://github.com/scikit-learn/scikit-learn/issues/21755 */display: inline-block !important;position: relative;}#sk-container-id-9 div.sk-text-repr-fallback {display: none;}</style><div id=\"sk-container-id-9\" class=\"sk-top-container\"><div class=\"sk-text-repr-fallback\"><pre>Pipeline(steps=[(&#x27;preprocessing&#x27;, None),\n",
              "                (&#x27;classifier&#x27;,\n",
              "                 LogisticRegression(C=100, max_iter=21000, penalty=&#x27;l1&#x27;,\n",
              "                                    random_state=0, solver=&#x27;liblinear&#x27;))])</pre><b>In a Jupyter environment, please rerun this cell to show the HTML representation or trust the notebook. <br />On GitHub, the HTML representation is unable to render, please try loading this page with nbviewer.org.</b></div><div class=\"sk-container\" hidden><div class=\"sk-item sk-dashed-wrapped\"><div class=\"sk-label-container\"><div class=\"sk-label sk-toggleable\"><input class=\"sk-toggleable__control sk-hidden--visually\" id=\"sk-estimator-id-25\" type=\"checkbox\" ><label for=\"sk-estimator-id-25\" class=\"sk-toggleable__label sk-toggleable__label-arrow\">Pipeline</label><div class=\"sk-toggleable__content\"><pre>Pipeline(steps=[(&#x27;preprocessing&#x27;, None),\n",
              "                (&#x27;classifier&#x27;,\n",
              "                 LogisticRegression(C=100, max_iter=21000, penalty=&#x27;l1&#x27;,\n",
              "                                    random_state=0, solver=&#x27;liblinear&#x27;))])</pre></div></div></div><div class=\"sk-serial\"><div class=\"sk-item\"><div class=\"sk-estimator sk-toggleable\"><input class=\"sk-toggleable__control sk-hidden--visually\" id=\"sk-estimator-id-26\" type=\"checkbox\" ><label for=\"sk-estimator-id-26\" class=\"sk-toggleable__label sk-toggleable__label-arrow\">None</label><div class=\"sk-toggleable__content\"><pre>None</pre></div></div></div><div class=\"sk-item\"><div class=\"sk-estimator sk-toggleable\"><input class=\"sk-toggleable__control sk-hidden--visually\" id=\"sk-estimator-id-27\" type=\"checkbox\" ><label for=\"sk-estimator-id-27\" class=\"sk-toggleable__label sk-toggleable__label-arrow\">LogisticRegression</label><div class=\"sk-toggleable__content\"><pre>LogisticRegression(C=100, max_iter=21000, penalty=&#x27;l1&#x27;, random_state=0,\n",
              "                   solver=&#x27;liblinear&#x27;)</pre></div></div></div></div></div></div></div>"
            ],
            "text/plain": [
              "Pipeline(steps=[('preprocessing', None),\n",
              "                ('classifier',\n",
              "                 LogisticRegression(C=100, max_iter=21000, penalty='l1',\n",
              "                                    random_state=0, solver='liblinear'))])"
            ]
          },
          "execution_count": 61,
          "metadata": {},
          "output_type": "execute_result"
        }
      ],
      "source": [
        "#reshaping the vector in 2D so it can be scaled\n",
        "feature_vectors_re = feature_vectors.reshape(feature_vectors.shape[0], feature_vectors.shape[1] * feature_vectors.shape[2])\n",
        "\n",
        "#Building the pipeline for the random forest classifier\n",
        "max_iter = len(feature_vectors_re)+1000\n",
        "pipe_logit = Pipeline([(\"preprocessing\", None), (\"classifier\", LogisticRegression(random_state=0))])\n",
        "\n",
        "# parameters dictionary for the grid search\n",
        "param_grid_logit = [\n",
        "    {\n",
        "        'classifier': [LogisticRegression(max_iter=max_iter, solver='liblinear', random_state=0)],\n",
        "        'preprocessing': [None],\n",
        "        'classifier__C': [0.00001, 0.0001, 0.001, 0.01, 0.1, 1, 10, 100, 500, 1000, 10000],\n",
        "        'classifier__penalty': ['l1', 'l2'],\n",
        "    },\n",
        "    {\n",
        "        'classifier': [LogisticRegression(max_iter=max_iter, solver='lbfgs', random_state=0)],\n",
        "        'preprocessing': [None],\n",
        "        'classifier__C': [0.00001, 0.0001, 0.001, 0.01, 0.1, 1, 10, 100, 500, 1000, 10000],\n",
        "        'classifier__penalty': [None, 'l2'],\n",
        "    },\n",
        "    {\n",
        "        'classifier': [LogisticRegression(max_iter=max_iter, solver='saga', random_state=0)],\n",
        "        'preprocessing': [None],\n",
        "        'classifier__C': [0.00001, 0.0001, 0.001, 0.01, 0.1, 1, 10, 100, 500, 1000, 10000],\n",
        "        'classifier__penalty': ['l2','l1'],\n",
        "    },\n",
        "    {\n",
        "        'classifier': [LogisticRegression(max_iter=max_iter, solver='newton-cg', random_state=0)],\n",
        "        'preprocessing': [None],\n",
        "        'classifier__C': [0.00001, 0.0001, 0.001, 0.01, 0.1, 1, 10, 100, 500, 1000, 10000],\n",
        "        'classifier__penalty': ['l2', None],\n",
        "    },\n",
        "    {\n",
        "        'classifier': [LogisticRegression(max_iter=max_iter, solver='sag', random_state=0)],\n",
        "        'preprocessing': [None],\n",
        "        'classifier__C': [0.00001, 0.0001, 0.001, 0.01, 0.1, 1, 10, 100, 500, 1000, 10000],\n",
        "        'classifier__penalty': ['l2', None],\n",
        "    }\n",
        "]\n",
        "\n",
        "\n",
        "X_train, X_test, y_train, y_test = train_test_split(feature_vectors_re, targets, test_size=0.1, random_state=0)\n",
        "\n",
        "kf = KFold(n_splits=5, shuffle=True, random_state=0)\n",
        "grid_search = HalvingGridSearchCV(pipe_logit, param_grid_logit, cv=kf, n_jobs=-1, verbose=2, error_score='raise')\n",
        "\n",
        "grid_search.fit(X_train, y_train)\n",
        "\n",
        "print(\"Best parameters: {}\".format(grid_search.best_params_))\n",
        "\n",
        "print(\"Best cross-validation score:{:.2f}\".format(grid_search.best_score_))\n",
        "\n",
        "print(\"Best estimator:\\n{}\".format(grid_search.best_estimator_))\n",
        "\n",
        "print(\"Test-set score: {:.2f}\".format(grid_search.score(X_test, y_test)))\n",
        "\n",
        "print('-----------------------------------------------------------------')\n",
        "\n",
        "# Training the best model on the entire dataset\n",
        "\n",
        "pipe_logit = grid_search.best_estimator_\n",
        "pipe_logit.fit(feature_vectors_re, targets)"
      ]
    },
    {
      "cell_type": "code",
      "execution_count": null,
      "metadata": {
        "id": "hLK0ScSuKjdL",
        "outputId": "2367a392-e9be-415d-879d-7e7acaa43a08"
      },
      "outputs": [
        {
          "name": "stdout",
          "output_type": "stream",
          "text": [
            "              precision    recall  f1-score   support\n",
            "\n",
            "           0      0.744     0.707     0.725      1053\n",
            "           1      0.691     0.730     0.710       947\n",
            "\n",
            "    accuracy                          0.718      2000\n",
            "   macro avg      0.718     0.718     0.717      2000\n",
            "weighted avg      0.719     0.718     0.718      2000\n",
            "\n"
          ]
        },
        {
          "data": {
            "image/png": "[encoded data removed]",
            "text/plain": [
              "<Figure size 640x480 with 2 Axes>"
            ]
          },
          "metadata": {},
          "output_type": "display_data"
        }
      ],
      "source": [
        "fit_and_print(pipe_logit, 'Logistic Regression (Enhanced)')"
      ]
    },
    {
      "cell_type": "markdown",
      "metadata": {
        "collapsed": false,
        "id": "W93tzppZKjdL"
      },
      "source": [
        "### 5. Support Vector Machine (Enhanced)"
      ]
    },
    {
      "cell_type": "code",
      "execution_count": null,
      "metadata": {
        "ExecuteTime": {
          "start_time": "2023-06-14T16:36:04.566207400Z"
        },
        "id": "0nf3nNSIKjdM",
        "is_executing": true,
        "outputId": "73d98860-9bd7-482c-aae6-f8367d94adfe"
      },
      "outputs": [
        {
          "name": "stdout",
          "output_type": "stream",
          "text": [
            "n_iterations: 5\n",
            "n_required_iterations: 5\n",
            "n_possible_iterations: 5\n",
            "min_resources_: 222\n",
            "max_resources_: 18000\n",
            "aggressive_elimination: False\n",
            "factor: 3\n",
            "----------\n",
            "iter: 0\n",
            "n_candidates: 192\n",
            "n_resources: 222\n",
            "Fitting 5 folds for each of 192 candidates, totalling 960 fits\n",
            "----------\n",
            "iter: 1\n",
            "n_candidates: 64\n",
            "n_resources: 666\n",
            "Fitting 5 folds for each of 64 candidates, totalling 320 fits\n",
            "----------\n",
            "iter: 2\n",
            "n_candidates: 22\n",
            "n_resources: 1998\n",
            "Fitting 5 folds for each of 22 candidates, totalling 110 fits\n",
            "----------\n",
            "iter: 3\n",
            "n_candidates: 8\n",
            "n_resources: 5994\n",
            "Fitting 5 folds for each of 8 candidates, totalling 40 fits\n",
            "----------\n",
            "iter: 4\n",
            "n_candidates: 3\n",
            "n_resources: 17982\n",
            "Fitting 5 folds for each of 3 candidates, totalling 15 fits\n",
            "Best parameters: {'classifier': SVC(C=10, class_weight='balanced', gamma=0.0001, kernel='linear',\n",
            "    random_state=0), 'classifier__C': 10, 'classifier__class_weight': 'balanced', 'classifier__gamma': 0.0001, 'preprocessing': None}\n",
            "Best cross-validation score:0.71\n",
            "Best estimator:\n",
            "Pipeline(steps=[('preprocessing', None),\n",
            "                ('classifier',\n",
            "                 SVC(C=10, class_weight='balanced', gamma=0.0001,\n",
            "                     kernel='linear', random_state=0))])\n",
            "Test-set score: 0.71\n",
            "-----------------------------------------------------------------\n"
          ]
        },
        {
          "data": {
            "text/html": [
              "<style>#sk-container-id-2 {color: black;background-color: white;}#sk-container-id-2 pre{padding: 0;}#sk-container-id-2 div.sk-toggleable {background-color: white;}#sk-container-id-2 label.sk-toggleable__label {cursor: pointer;display: block;width: 100%;margin-bottom: 0;padding: 0.3em;box-sizing: border-box;text-align: center;}#sk-container-id-2 label.sk-toggleable__label-arrow:before {content: \"▸\";float: left;margin-right: 0.25em;color: #696969;}#sk-container-id-2 label.sk-toggleable__label-arrow:hover:before {color: black;}#sk-container-id-2 div.sk-estimator:hover label.sk-toggleable__label-arrow:before {color: black;}#sk-container-id-2 div.sk-toggleable__content {max-height: 0;max-width: 0;overflow: hidden;text-align: left;background-color: #f0f8ff;}#sk-container-id-2 div.sk-toggleable__content pre {margin: 0.2em;color: black;border-radius: 0.25em;background-color: #f0f8ff;}#sk-container-id-2 input.sk-toggleable__control:checked~div.sk-toggleable__content {max-height: 200px;max-width: 100%;overflow: auto;}#sk-container-id-2 input.sk-toggleable__control:checked~label.sk-toggleable__label-arrow:before {content: \"▾\";}#sk-container-id-2 div.sk-estimator input.sk-toggleable__control:checked~label.sk-toggleable__label {background-color: #d4ebff;}#sk-container-id-2 div.sk-label input.sk-toggleable__control:checked~label.sk-toggleable__label {background-color: #d4ebff;}#sk-container-id-2 input.sk-hidden--visually {border: 0;clip: rect(1px 1px 1px 1px);clip: rect(1px, 1px, 1px, 1px);height: 1px;margin: -1px;overflow: hidden;padding: 0;position: absolute;width: 1px;}#sk-container-id-2 div.sk-estimator {font-family: monospace;background-color: #f0f8ff;border: 1px dotted black;border-radius: 0.25em;box-sizing: border-box;margin-bottom: 0.5em;}#sk-container-id-2 div.sk-estimator:hover {background-color: #d4ebff;}#sk-container-id-2 div.sk-parallel-item::after {content: \"\";width: 100%;border-bottom: 1px solid gray;flex-grow: 1;}#sk-container-id-2 div.sk-label:hover label.sk-toggleable__label {background-color: #d4ebff;}#sk-container-id-2 div.sk-serial::before {content: \"\";position: absolute;border-left: 1px solid gray;box-sizing: border-box;top: 0;bottom: 0;left: 50%;z-index: 0;}#sk-container-id-2 div.sk-serial {display: flex;flex-direction: column;align-items: center;background-color: white;padding-right: 0.2em;padding-left: 0.2em;position: relative;}#sk-container-id-2 div.sk-item {position: relative;z-index: 1;}#sk-container-id-2 div.sk-parallel {display: flex;align-items: stretch;justify-content: center;background-color: white;position: relative;}#sk-container-id-2 div.sk-item::before, #sk-container-id-2 div.sk-parallel-item::before {content: \"\";position: absolute;border-left: 1px solid gray;box-sizing: border-box;top: 0;bottom: 0;left: 50%;z-index: -1;}#sk-container-id-2 div.sk-parallel-item {display: flex;flex-direction: column;z-index: 1;position: relative;background-color: white;}#sk-container-id-2 div.sk-parallel-item:first-child::after {align-self: flex-end;width: 50%;}#sk-container-id-2 div.sk-parallel-item:last-child::after {align-self: flex-start;width: 50%;}#sk-container-id-2 div.sk-parallel-item:only-child::after {width: 0;}#sk-container-id-2 div.sk-dashed-wrapped {border: 1px dashed gray;margin: 0 0.4em 0.5em 0.4em;box-sizing: border-box;padding-bottom: 0.4em;background-color: white;}#sk-container-id-2 div.sk-label label {font-family: monospace;font-weight: bold;display: inline-block;line-height: 1.2em;}#sk-container-id-2 div.sk-label-container {text-align: center;}#sk-container-id-2 div.sk-container {/* jupyter's `normalize.less` sets `[hidden] { display: none; }` but bootstrap.min.css set `[hidden] { display: none !important; }` so we also need the `!important` here to be able to override the default hidden behavior on the sphinx rendered scikit-learn.org. See: https://github.com/scikit-learn/scikit-learn/issues/21755 */display: inline-block !important;position: relative;}#sk-container-id-2 div.sk-text-repr-fallback {display: none;}</style><div id=\"sk-container-id-2\" class=\"sk-top-container\"><div class=\"sk-text-repr-fallback\"><pre>Pipeline(steps=[(&#x27;preprocessing&#x27;, None),\n",
              "                (&#x27;classifier&#x27;,\n",
              "                 SVC(C=10, class_weight=&#x27;balanced&#x27;, gamma=0.0001,\n",
              "                     kernel=&#x27;linear&#x27;, random_state=0))])</pre><b>In a Jupyter environment, please rerun this cell to show the HTML representation or trust the notebook. <br />On GitHub, the HTML representation is unable to render, please try loading this page with nbviewer.org.</b></div><div class=\"sk-container\" hidden><div class=\"sk-item sk-dashed-wrapped\"><div class=\"sk-label-container\"><div class=\"sk-label sk-toggleable\"><input class=\"sk-toggleable__control sk-hidden--visually\" id=\"sk-estimator-id-4\" type=\"checkbox\" ><label for=\"sk-estimator-id-4\" class=\"sk-toggleable__label sk-toggleable__label-arrow\">Pipeline</label><div class=\"sk-toggleable__content\"><pre>Pipeline(steps=[(&#x27;preprocessing&#x27;, None),\n",
              "                (&#x27;classifier&#x27;,\n",
              "                 SVC(C=10, class_weight=&#x27;balanced&#x27;, gamma=0.0001,\n",
              "                     kernel=&#x27;linear&#x27;, random_state=0))])</pre></div></div></div><div class=\"sk-serial\"><div class=\"sk-item\"><div class=\"sk-estimator sk-toggleable\"><input class=\"sk-toggleable__control sk-hidden--visually\" id=\"sk-estimator-id-5\" type=\"checkbox\" ><label for=\"sk-estimator-id-5\" class=\"sk-toggleable__label sk-toggleable__label-arrow\">None</label><div class=\"sk-toggleable__content\"><pre>None</pre></div></div></div><div class=\"sk-item\"><div class=\"sk-estimator sk-toggleable\"><input class=\"sk-toggleable__control sk-hidden--visually\" id=\"sk-estimator-id-6\" type=\"checkbox\" ><label for=\"sk-estimator-id-6\" class=\"sk-toggleable__label sk-toggleable__label-arrow\">SVC</label><div class=\"sk-toggleable__content\"><pre>SVC(C=10, class_weight=&#x27;balanced&#x27;, gamma=0.0001, kernel=&#x27;linear&#x27;,\n",
              "    random_state=0)</pre></div></div></div></div></div></div></div>"
            ],
            "text/plain": [
              "Pipeline(steps=[('preprocessing', None),\n",
              "                ('classifier',\n",
              "                 SVC(C=10, class_weight='balanced', gamma=0.0001,\n",
              "                     kernel='linear', random_state=0))])"
            ]
          },
          "execution_count": 23,
          "metadata": {},
          "output_type": "execute_result"
        }
      ],
      "source": [
        "#reshaping the vector in 2D so it can be scaled\n",
        "feature_vectors_re = feature_vectors.reshape(feature_vectors.shape[0], feature_vectors.shape[1] * feature_vectors.shape[2])\n",
        "\n",
        "\n",
        "#Building the pipeline for the random forest classifier\n",
        "pipe_svm = Pipeline([(\"preprocessing\", None),(\"classifier\", SVC(random_state=0))])\n",
        "\n",
        "# parameters dictionary for the grid search\n",
        "param_grid_svm =[{'classifier': [SVC(kernel = 'linear', random_state=0)],\n",
        "                 'preprocessing': [None],\n",
        "                 'classifier__C': [0.1, 1, 5, 10],\n",
        "                 'classifier__gamma': [0.0001, 0.0005, 0.001, 0.005],\n",
        "                 'classifier__class_weight':[None, 'balanced']\n",
        "                 },\n",
        "                 {'classifier': [SVC(kernel = 'rbf', random_state=0)],\n",
        "                 'preprocessing': [None],\n",
        "                 'classifier__C': [0.1, 1, 5, 10],\n",
        "                 'classifier__gamma': [0.0001, 0.001, 'scale', 'auto', 1],\n",
        "                 'classifier__class_weight':[None, 'balanced']\n",
        "                 },\n",
        "                 {'classifier': [SVC(kernel = 'poly', random_state=0)],\n",
        "                 'preprocessing': [None],\n",
        "                 'classifier__C': [0.1, 1, 5, 10],\n",
        "                 'classifier__gamma': [0.0001, 0.001, 'scale', 'auto', 1],\n",
        "                 'classifier__class_weight':[None, 'balanced'],\n",
        "                 'classifier__degree':[2,3,4]\n",
        "                 }]\n",
        "\n",
        "X_train, X_test, y_train, y_test = train_test_split(feature_vectors_re, targets, test_size=0.1, random_state=0)\n",
        "\n",
        "kf = KFold(n_splits=5, shuffle=True, random_state=0)\n",
        "grid_search = HalvingGridSearchCV(pipe_svm, param_grid_svm, cv=kf, n_jobs=-1, verbose=1)\n",
        "\n",
        "grid_search.fit(X_train, y_train)\n",
        "\n",
        "print(\"Best parameters: {}\".format(grid_search.best_params_))\n",
        "\n",
        "print(\"Best cross-validation score:{:.2f}\".format(grid_search.best_score_))\n",
        "\n",
        "print(\"Best estimator:\\n{}\".format(grid_search.best_estimator_))\n",
        "\n",
        "print(\"Test-set score: {:.2f}\".format(grid_search.score(X_test, y_test)))\n",
        "\n",
        "print('-----------------------------------------------------------------')\n",
        "\n",
        "# Training the best model on the entire dataset\n",
        "pipe_svm = grid_search.best_estimator_\n",
        "pipe_svm.fit(feature_vectors_re, targets)"
      ]
    },
    {
      "cell_type": "code",
      "execution_count": null,
      "metadata": {
        "id": "kpcG38nUKjdM",
        "outputId": "b19ed21a-2373-420e-d85a-2d585e92ce77"
      },
      "outputs": [
        {
          "name": "stdout",
          "output_type": "stream",
          "text": [
            "              precision    recall  f1-score   support\n",
            "\n",
            "           0      0.740     0.701     0.720      1053\n",
            "           1      0.686     0.727     0.706       947\n",
            "\n",
            "    accuracy                          0.713      2000\n",
            "   macro avg      0.713     0.714     0.713      2000\n",
            "weighted avg      0.715     0.713     0.713      2000\n",
            "\n"
          ]
        },
        {
          "data": {
            "image/png": "[encoded data removed]",
            "text/plain": [
              "<Figure size 640x480 with 2 Axes>"
            ]
          },
          "metadata": {},
          "output_type": "display_data"
        }
      ],
      "source": [
        "fit_and_print(pipe_svm, 'Support Vector Classifier (Enhanced)')"
      ]
    },
    {
      "cell_type": "markdown",
      "metadata": {
        "collapsed": false,
        "id": "uxGgfNOGKjdM"
      },
      "source": [
        "### 6. Naïve Bayes Classifiers: MultinomialNB, GaussianNB, BernoulliNB (Enhanced)"
      ]
    },
    {
      "cell_type": "code",
      "execution_count": null,
      "metadata": {
        "ExecuteTime": {
          "end_time": "2023-06-14T14:09:04.852993400Z",
          "start_time": "2023-06-14T14:09:00.064088500Z"
        },
        "id": "XwooQ63rKjdM",
        "outputId": "af1d8031-2b4d-423a-a016-b3a02b020fbb"
      },
      "outputs": [
        {
          "name": "stdout",
          "output_type": "stream",
          "text": [
            "Best parameters: {'classifier': BernoulliNB(alpha=0.1), 'classifier__alpha': 0.1, 'classifier__binarize': 0.0, 'classifier__fit_prior': True, 'preprocessing': None}\n",
            "Best cross-validation score:0.69\n",
            "Best estimator:\n",
            "Pipeline(steps=[('preprocessing', None),\n",
            "                ('classifier', BernoulliNB(alpha=0.1))])\n",
            "Test-set score: 0.68\n",
            "-----------------------------------------------------------------\n"
          ]
        },
        {
          "data": {
            "text/html": [
              "<style>#sk-container-id-21 {color: black;background-color: white;}#sk-container-id-21 pre{padding: 0;}#sk-container-id-21 div.sk-toggleable {background-color: white;}#sk-container-id-21 label.sk-toggleable__label {cursor: pointer;display: block;width: 100%;margin-bottom: 0;padding: 0.3em;box-sizing: border-box;text-align: center;}#sk-container-id-21 label.sk-toggleable__label-arrow:before {content: \"▸\";float: left;margin-right: 0.25em;color: #696969;}#sk-container-id-21 label.sk-toggleable__label-arrow:hover:before {color: black;}#sk-container-id-21 div.sk-estimator:hover label.sk-toggleable__label-arrow:before {color: black;}#sk-container-id-21 div.sk-toggleable__content {max-height: 0;max-width: 0;overflow: hidden;text-align: left;background-color: #f0f8ff;}#sk-container-id-21 div.sk-toggleable__content pre {margin: 0.2em;color: black;border-radius: 0.25em;background-color: #f0f8ff;}#sk-container-id-21 input.sk-toggleable__control:checked~div.sk-toggleable__content {max-height: 200px;max-width: 100%;overflow: auto;}#sk-container-id-21 input.sk-toggleable__control:checked~label.sk-toggleable__label-arrow:before {content: \"▾\";}#sk-container-id-21 div.sk-estimator input.sk-toggleable__control:checked~label.sk-toggleable__label {background-color: #d4ebff;}#sk-container-id-21 div.sk-label input.sk-toggleable__control:checked~label.sk-toggleable__label {background-color: #d4ebff;}#sk-container-id-21 input.sk-hidden--visually {border: 0;clip: rect(1px 1px 1px 1px);clip: rect(1px, 1px, 1px, 1px);height: 1px;margin: -1px;overflow: hidden;padding: 0;position: absolute;width: 1px;}#sk-container-id-21 div.sk-estimator {font-family: monospace;background-color: #f0f8ff;border: 1px dotted black;border-radius: 0.25em;box-sizing: border-box;margin-bottom: 0.5em;}#sk-container-id-21 div.sk-estimator:hover {background-color: #d4ebff;}#sk-container-id-21 div.sk-parallel-item::after {content: \"\";width: 100%;border-bottom: 1px solid gray;flex-grow: 1;}#sk-container-id-21 div.sk-label:hover label.sk-toggleable__label {background-color: #d4ebff;}#sk-container-id-21 div.sk-serial::before {content: \"\";position: absolute;border-left: 1px solid gray;box-sizing: border-box;top: 0;bottom: 0;left: 50%;z-index: 0;}#sk-container-id-21 div.sk-serial {display: flex;flex-direction: column;align-items: center;background-color: white;padding-right: 0.2em;padding-left: 0.2em;position: relative;}#sk-container-id-21 div.sk-item {position: relative;z-index: 1;}#sk-container-id-21 div.sk-parallel {display: flex;align-items: stretch;justify-content: center;background-color: white;position: relative;}#sk-container-id-21 div.sk-item::before, #sk-container-id-21 div.sk-parallel-item::before {content: \"\";position: absolute;border-left: 1px solid gray;box-sizing: border-box;top: 0;bottom: 0;left: 50%;z-index: -1;}#sk-container-id-21 div.sk-parallel-item {display: flex;flex-direction: column;z-index: 1;position: relative;background-color: white;}#sk-container-id-21 div.sk-parallel-item:first-child::after {align-self: flex-end;width: 50%;}#sk-container-id-21 div.sk-parallel-item:last-child::after {align-self: flex-start;width: 50%;}#sk-container-id-21 div.sk-parallel-item:only-child::after {width: 0;}#sk-container-id-21 div.sk-dashed-wrapped {border: 1px dashed gray;margin: 0 0.4em 0.5em 0.4em;box-sizing: border-box;padding-bottom: 0.4em;background-color: white;}#sk-container-id-21 div.sk-label label {font-family: monospace;font-weight: bold;display: inline-block;line-height: 1.2em;}#sk-container-id-21 div.sk-label-container {text-align: center;}#sk-container-id-21 div.sk-container {/* jupyter's `normalize.less` sets `[hidden] { display: none; }` but bootstrap.min.css set `[hidden] { display: none !important; }` so we also need the `!important` here to be able to override the default hidden behavior on the sphinx rendered scikit-learn.org. See: https://github.com/scikit-learn/scikit-learn/issues/21755 */display: inline-block !important;position: relative;}#sk-container-id-21 div.sk-text-repr-fallback {display: none;}</style><div id=\"sk-container-id-21\" class=\"sk-top-container\"><div class=\"sk-text-repr-fallback\"><pre>Pipeline(steps=[(&#x27;preprocessing&#x27;, None),\n",
              "                (&#x27;classifier&#x27;, BernoulliNB(alpha=0.1))])</pre><b>In a Jupyter environment, please rerun this cell to show the HTML representation or trust the notebook. <br />On GitHub, the HTML representation is unable to render, please try loading this page with nbviewer.org.</b></div><div class=\"sk-container\" hidden><div class=\"sk-item sk-dashed-wrapped\"><div class=\"sk-label-container\"><div class=\"sk-label sk-toggleable\"><input class=\"sk-toggleable__control sk-hidden--visually\" id=\"sk-estimator-id-61\" type=\"checkbox\" ><label for=\"sk-estimator-id-61\" class=\"sk-toggleable__label sk-toggleable__label-arrow\">Pipeline</label><div class=\"sk-toggleable__content\"><pre>Pipeline(steps=[(&#x27;preprocessing&#x27;, None),\n",
              "                (&#x27;classifier&#x27;, BernoulliNB(alpha=0.1))])</pre></div></div></div><div class=\"sk-serial\"><div class=\"sk-item\"><div class=\"sk-estimator sk-toggleable\"><input class=\"sk-toggleable__control sk-hidden--visually\" id=\"sk-estimator-id-62\" type=\"checkbox\" ><label for=\"sk-estimator-id-62\" class=\"sk-toggleable__label sk-toggleable__label-arrow\">None</label><div class=\"sk-toggleable__content\"><pre>None</pre></div></div></div><div class=\"sk-item\"><div class=\"sk-estimator sk-toggleable\"><input class=\"sk-toggleable__control sk-hidden--visually\" id=\"sk-estimator-id-63\" type=\"checkbox\" ><label for=\"sk-estimator-id-63\" class=\"sk-toggleable__label sk-toggleable__label-arrow\">BernoulliNB</label><div class=\"sk-toggleable__content\"><pre>BernoulliNB(alpha=0.1)</pre></div></div></div></div></div></div></div>"
            ],
            "text/plain": [
              "Pipeline(steps=[('preprocessing', None),\n",
              "                ('classifier', BernoulliNB(alpha=0.1))])"
            ]
          },
          "execution_count": 80,
          "metadata": {},
          "output_type": "execute_result"
        }
      ],
      "source": [
        "#reshaping the vector in 2D so it can be scaled\n",
        "feature_vectors_re = feature_vectors.reshape(feature_vectors.shape[0], feature_vectors.shape[1] * feature_vectors.shape[2])\n",
        "\n",
        "\n",
        "#building the pipeline for the random forest classifier\n",
        "pipe_nb = Pipeline([(\"preprocessing\", None), (\"classifier\", GaussianNB())])\n",
        "\n",
        "#parameters dictionary for the grid search\n",
        "param_grid_nb =[{'classifier': [MultinomialNB()],\n",
        "                'preprocessing': [MinMaxScaler()],\n",
        "                'classifier__alpha': [0.00001, 0.001, 0.1, 0.5, 1.0, 10.0, 100.0],\n",
        "                'classifier__fit_prior': [True, False]},\n",
        "                {'classifier': [GaussianNB()],\n",
        "                 'preprocessing': [None],\n",
        "                 'classifier__var_smoothing': [1e-09, 1e-08, 1e-07]},\n",
        "                {'classifier':[BernoulliNB()],\n",
        "                 'preprocessing': [None],\n",
        "                 'classifier__alpha': [0.00001, 0.001, 0.1, 0.5, 1.0, 10.0, 100.0],\n",
        "                 'classifier__binarize': [0.0, 0.5, 1.0],\n",
        "                 'classifier__fit_prior': [True, False]},\n",
        "                # {'classifier': [MultinomialNB()],\n",
        "                # 'preprocessing': [MinMaxScaler()]},\n",
        "                # {'classifier': [GaussianNB()],\n",
        "                # 'preprocessing': [None]},\n",
        "                # {'classifier': [BernoulliNB()],\n",
        "                # 'preprocessing': [None]}\n",
        "                ]\n",
        "\n",
        "X_train, X_test, y_train, y_test = train_test_split(feature_vectors_re, targets, test_size=0.1, random_state=0)\n",
        "\n",
        "kf = KFold(n_splits=5, shuffle=True, random_state=0)\n",
        "grid_search = HalvingGridSearchCV(pipe_nb, param_grid_nb, cv=kf, n_jobs=-1)\n",
        "\n",
        "grid_search.fit(X_train, y_train)\n",
        "\n",
        "print(\"Best parameters: {}\".format(grid_search.best_params_))\n",
        "\n",
        "print(\"Best cross-validation score:{:.2f}\".format(grid_search.best_score_))\n",
        "\n",
        "print(\"Best estimator:\\n{}\".format(grid_search.best_estimator_))\n",
        "\n",
        "print(\"Test-set score: {:.2f}\".format(grid_search.score(X_test, y_test)))\n",
        "\n",
        "print('-----------------------------------------------------------------')\n",
        "\n",
        "# Training the best model on the entire dataset\n",
        "\n",
        "pipe_nb = grid_search.best_estimator_\n",
        "pipe_nb.fit(feature_vectors_re, targets)\n"
      ]
    },
    {
      "cell_type": "code",
      "execution_count": null,
      "metadata": {
        "id": "xVmL86J_KjdM",
        "outputId": "b3103b0e-77ee-413d-d847-d1788bf19818"
      },
      "outputs": [
        {
          "name": "stdout",
          "output_type": "stream",
          "text": [
            "              precision    recall  f1-score   support\n",
            "\n",
            "           0      0.699     0.696     0.698      1053\n",
            "           1      0.664     0.667     0.666       947\n",
            "\n",
            "    accuracy                          0.682      2000\n",
            "   macro avg      0.682     0.682     0.682      2000\n",
            "weighted avg      0.683     0.682     0.683      2000\n",
            "\n"
          ]
        },
        {
          "data": {
            "image/png": "[encoded data removed]",
            "text/plain": [
              "<Figure size 640x480 with 2 Axes>"
            ]
          },
          "metadata": {},
          "output_type": "display_data"
        }
      ],
      "source": [
        "fit_and_print(pipe_nb, 'Naive Bayes Classifier')"
      ]
    },
    {
      "cell_type": "markdown",
      "metadata": {
        "id": "xRjx-yv6dQcv"
      },
      "source": [
        "Looking at these new results, we can state that they improved."
      ]
    },
    {
      "cell_type": "markdown",
      "metadata": {
        "id": "iq1407RCKjdN"
      },
      "source": [
        "# Testing\n",
        "\n",
        "To actually evaluate the effectiveness of my models I will test the models on never-before-seen data. In the following section I will use a test pickle file, provided by my university professor. The pickle file contains different dataframes of many stocks and thier related tweets. \n",
        "\n",
        "(The percentage next to the algorithm name is the score achieved by the model on the test platform)"
      ]
    },
    {
      "cell_type": "code",
      "execution_count": null,
      "metadata": {
        "id": "xA6GZ-RNKjdN"
      },
      "outputs": [],
      "source": [
        "'''\n",
        "The function \"extracting_test_vector\" is used to extract from each sample in the pickle file a feature vector\n",
        "with both percentage changes and twitter sentiment score and apply the model to make the prediction. The function will return a list of\n",
        "true and false values, True if the value predicted is higher than the day before, or False if the value predicted to be lower.\n",
        "\n",
        "- input:\n",
        "    sample_test [pickle file]: the file must be a list of tuples each containing in the first position a the percent changes values\n",
        "                                and in the second position a list of tweets related to the period of the pct_change values.\n",
        "'''\n",
        "\n",
        "def extracting_test_vector(sample_test):\n",
        "    predictions = []\n",
        "    for values, tweet in sample_test:\n",
        "        val = pd.DataFrame(values)\n",
        "        current_column_name = val.columns[0]\n",
        "        new_column_name = 'pct_change'\n",
        "        val = val.rename(columns={current_column_name: new_column_name})\n",
        "        val = val.reset_index()\n",
        "\n",
        "        tweet = tweet.reset_index()\n",
        "        tweet.Date = tweet.Date.dt.tz_localize(None).dt.normalize()\n",
        "        tweet = tweet[['Date', 'Stock Name', 'Tweet']]\n",
        "        #sentimentiment analysis\n",
        "        sentiment = preprocess_tweets(tweet)\n",
        "        sentiment = sentiment[['Date', 'compound']]\n",
        "\n",
        "        df = pd.merge(val, sentiment, on='Date', how='left')\n",
        "        df = df.fillna(0.0)\n",
        "        features = [(close, sentiment) for close, sentiment in zip(df['pct_change'].values[-10:], df['compound'].values[-10:])]\n",
        "\n",
        "        X = np.array(features)\n",
        "\n",
        "        X_re = X.reshape(X.shape[0] * X.shape[1])\n",
        "        y_pred = model.predict(X_re.reshape(1,-1))\n",
        "        predictions.extend(y_pred)\n",
        "\n",
        "    pred = (np.array(predictions) > 0).tolist()\n",
        "\n",
        "    return pred"
      ]
    },
    {
      "cell_type": "markdown",
      "metadata": {
        "collapsed": false,
        "id": "WMqIkTJhKjdN"
      },
      "source": [
        "## Random Forest"
      ]
    },
    {
      "cell_type": "markdown",
      "metadata": {
        "collapsed": false,
        "id": "MVPVQrziKjdN"
      },
      "source": [
        "### Just Closing values (82%)"
      ]
    },
    {
      "cell_type": "code",
      "execution_count": null,
      "metadata": {
        "ExecuteTime": {
          "end_time": "2023-06-14T14:29:24.366975400Z",
          "start_time": "2023-06-14T14:29:24.265835200Z"
        },
        "id": "avEhfeLCKjdN"
      },
      "outputs": [],
      "source": [
        "with open('test_samples_raw.pkl','rb') as f:\n",
        "    samples_test = pickle.load(f)"
      ]
    },
    {
      "cell_type": "code",
      "execution_count": null,
      "metadata": {
        "ExecuteTime": {
          "end_time": "2023-06-14T14:30:43.869477400Z",
          "start_time": "2023-06-14T14:29:27.343632400Z"
        },
        "id": "KQLqIEEJKjdO",
        "outputId": "f253731d-ad48-4648-fee9-2d2d48927ded"
      },
      "outputs": [
        {
          "name": "stdout",
          "output_type": "stream",
          "text": [
            "[True, False, False, False, False, True, True, True, False, False, True, False, True, False, False, True, False, False, True, False, False, False, True, True, True, False, False, True, True, False, True, False, False, False, False, False, False, True, False, False, False, True, True, True, True, True, True, False, False, False, True, False, False, False, True, True, True, False, False, True, True, True, False, False, True, True, False, True, False, True, True, False, True, True, True, False, False, False, True, True, False, False, True, True, False, False, False, True, True, True, True, False, False, False, False, True, True, False, False, False, False, True, False, True, False, False, False, True, True, False, True, True, False, False, False, False, False, False, True, False, True, False, False, True, False, False, False, False, False, False, False, False, True, False, True, False, False, True, False, False, True, False, False, False, True, True, False, True, True, False, True, False, False, True, True, False, True, True, True, False, False, False, False, False, False, False, False, True, True, True, False, True, True, False, False, True, False, True, True, False, True, True, False, False, True, True, False, True, False, False, False, True, True, True, False, False, True, False, False, True, True, False, False, False, True, True, False, True, True, False, True, False, False, False, True, True, False, False, False, False, False, False, False, True, False, True, False, False, False, False, True, True, True, False, False, False, False, False, False, True, False, True, False, True, True, True, False, True, True, True, True, False, False, True, False, True, True, False, False, False, False, False, False, True, False, False, True, False, False, True, True, True, False, True, False, True, True, False, True, False, False, True, True, False, True, True, True, False, False, True, False, True, True, False, True, False, False, True, True, False, True, False, True, True, True, False, True, False, False, False, False, False, False, False, False, False, False, False, False, False, False, False, True, False, True, False, True, False, True, True, False, False, True, True, False, False, True, False, False, True, True, True, True, False, False, False, False, False, False, True, True, False, True, True, True, True, False, False, True, False, False, False, True, True, False, True, True, False, False, True, False, False, False, True, False, False, True, False, True, True, False, True, True, False, True, False, True, True, False, False, False, False, False, False, True, True, True, False, False, True, False, True, False, False, False, False, False, False, False, True, False, False, False, False, False, False, True, False, False, False, False, False, False, False, True, False, False, True, True, False, True, False, False, False, True, True, True, False, False, True, True, False, False, False, True, False, True, True, True, True, False, False, False, True, False, False, False, False, True, False, True, True, True, False, True, True, True, False, False, True, False, False, False, True, True, True, False, False, True, True, False, True, True, False, True, True, False, False, True, True, False, True, True, True, False, False, True, True, False, False, True, False, False, False, False, False, True, False, False, False, False, False, True, True, True, True, False, True, False, False, True, False, True, False, True, True, True, True, False, True, False, True, False, True, False, True, True, True, True, False, True, True, True, False, False, False, False, True, True, False, False, True, True, False, True, True, False, False, False, True, True, True, True, False, True, False, False, False, False, False, False, False, True, False, False, False, False, False, False, True, False, True, False, False, True, True, False, True, True, False, False, False, False, False, True, False, False, True, False, True, True, True, True, True, False, False, False, True, True, False, False, False, False, False, False, True, True, True, False, False, False, True, True, False, False, True, False, False, True, True, True, False, True, True, False, True, True, False, True, False, True, True, True, True, True, False, True, False, True, False, False, False, True, True, False, False, False, False, True, True, True, True, False, False, False, True, True, False, False, False, False, True, False, False, True, True, False, True, False, False, False, True, False, True, False, True, False, False, True, False, True, True, True, False, False, False, True, False, True, True, True, False, False, True, False, True, False, False, False, False, True, False, False, False, False, False, False, True, True, False, False, True, True, False, True, False, False, False, False, True, True, False, True, True, True, True, False, True, True, False, True, True, True, True, False, False, True, False, False, False, False, False, True, False, True, True, False, False, True, True, False, False, True, False, True, False, False, False, False, False, False, False, True, False, False, True, True, True, False, False, False, False, False, True, True, True, True, True, True, True, True, False, True, False, True, True, True, True, False, True, True, False, False, True, True, False, False, False, True, True, False, True, False, False, True, False, False, False, True, True, False, False, False, False, True, False, True, False, False, True, True, False, False, True, True, True, False, True, True, False, True, False, True, False, False, False, True, False, True, False, False, False, True, False, False, False, False, True, False, False, False, True, False, True, True, False, False, False, True, False, True, False, False, False, True, False, False, True, False, False, False, True, False, False, True, False, True, False, True, True, False, True, True, False, False, False, False, False, False, False, True, False, True, True, False, True, False, True, False, False, False, True, True, False, False, True, True, False, False, True, False, True, False, True, True, True, False, False, False, False, False, True, True, False, False, False, False, True, False, False, True, False, False, True, False, False, False, False, False, False, False, False, False, True, False, False, True, False, False, False, True, False, False, False, True, True, False, False, True, False, False, False, True, True, True, True, True, False, False, True, True, True, True, True, True, False, True, False, True, True, False, True, False, True, False, True, False, False, True, False]\n"
          ]
        }
      ],
      "source": [
        "predictions= []\n",
        "model = pipe_rf\n",
        "for values, tweet in samples_test:\n",
        "\n",
        "    X= values['Close'].values[-10:].reshape(1,-1)\n",
        "\n",
        "    y_pred = model.predict(X)\n",
        "    predictions.extend(y_pred)\n",
        "\n",
        "pred_rand = (np.array(predictions) > 0).tolist()\n",
        "\n",
        "print(pred_rand)"
      ]
    },
    {
      "cell_type": "markdown",
      "metadata": {
        "collapsed": false,
        "id": "fl1CBvXdKjdO"
      },
      "source": [
        "### With Twitter Sentiment (86.8%)"
      ]
    },
    {
      "cell_type": "code",
      "execution_count": null,
      "metadata": {
        "id": "HQGeLj4cKjdO"
      },
      "outputs": [],
      "source": [
        "#for using twitter sentiment\n",
        "with open('test_samples (4).pkl', 'rb') as f:\n",
        "    samples_test = pickle.load(f)"
      ]
    },
    {
      "cell_type": "code",
      "execution_count": null,
      "metadata": {
        "id": "GoCL2b0AKjdO",
        "outputId": "277f2110-9ebc-4704-81c0-4ae0f3ba2aa6"
      },
      "outputs": [
        {
          "name": "stdout",
          "output_type": "stream",
          "text": [
            "[True, False, False, False, False, True, True, True, False, False, True, False, True, False, False, True, True, True, False, True, False, False, False, True, False, False, False, True, True, True, True, False, False, False, False, False, False, False, False, False, False, False, True, True, True, True, False, False, False, False, True, False, False, False, False, True, True, False, False, True, True, True, True, True, True, True, False, True, False, True, True, False, True, True, True, False, False, False, False, False, False, False, True, True, False, False, False, True, True, True, True, True, False, False, False, True, False, False, False, False, False, True, False, False, True, True, False, True, True, False, True, True, False, False, True, False, False, False, True, False, True, False, False, True, True, False, False, False, False, False, False, False, True, False, True, False, False, True, True, False, True, False, True, False, True, False, False, False, False, True, True, False, True, True, True, True, True, True, True, False, True, True, False, True, False, False, True, False, True, True, True, True, True, False, False, False, False, True, True, True, True, True, False, True, True, True, False, True, False, False, False, False, False, False, True, False, True, True, False, False, True, False, False, False, True, True, True, True, True, False, True, False, False, False, True, True, False, False, False, True, False, False, False, True, False, True, False, False, True, False, True, True, True, False, False, False, True, False, True, True, False, False, False, True, True, True, False, False, True, True, True, False, False, True, False, True, True, False, False, False, False, False, False, True, False, False, True, False, False, True, True, True, False, True, False, True, True, False, True, False, False, False, True, False, True, True, True, False, False, True, False, True, True, False, False, False, False, True, True, False, True, False, False, True, True, False, True, False, False, False, False, False, False, False, False, True, False, False, False, False, False, True, True, True, True, False, True, False, True, True, False, False, True, False, True, False, True, False, True, True, True, True, True, False, False, False, False, True, False, True, True, False, True, True, True, True, False, False, True, True, False, False, False, True, True, True, True, False, True, True, False, False, False, True, False, False, True, False, True, True, False, True, True, False, True, False, False, True, False, True, False, False, False, False, True, False, True, False, False, True, False, True, False, False, True, False, False, False, False, True, False, False, False, False, True, False, True, False, False, False, False, True, False, False, True, False, False, True, True, False, True, False, False, True, True, False, True, True, False, True, True, False, False, False, True, False, True, True, True, False, False, False, True, True, False, False, True, False, False, False, True, True, True, False, True, True, True, False, False, True, False, False, False, True, True, False, False, False, True, False, False, True, False, False, True, True, False, False, True, True, False, True, False, True, False, False, True, True, False, False, True, False, False, False, False, False, True, False, False, False, False, False, True, True, True, True, False, True, False, True, True, False, True, False, True, True, True, True, False, False, True, False, False, True, False, True, True, False, True, False, True, True, True, False, False, False, False, True, True, False, False, True, True, True, False, True, False, True, False, True, True, False, True, False, True, False, False, True, False, False, False, False, True, False, False, False, True, False, False, True, False, True, True, False, False, True, False, True, True, False, False, False, False, False, True, False, False, False, False, True, False, True, True, True, True, False, False, False, True, False, True, False, False, False, False, True, True, True, True, False, False, True, False, False, False, True, False, False, False, True, True, False, True, True, False, True, True, False, False, False, True, True, True, True, False, True, False, True, False, False, False, True, True, True, False, False, False, False, True, False, True, True, False, False, False, True, True, False, False, False, False, True, False, False, True, True, False, True, False, True, False, True, False, True, False, False, False, False, True, True, False, True, True, False, False, False, True, False, True, True, True, False, False, True, False, True, False, True, False, False, True, False, False, False, False, False, False, True, True, False, False, True, False, True, True, False, False, False, True, False, True, True, False, False, True, True, False, True, True, False, False, True, True, False, True, False, True, False, False, True, False, True, True, False, True, True, False, False, True, True, False, False, True, False, True, False, True, False, False, True, False, False, True, True, False, True, False, False, False, False, False, False, False, False, True, True, True, True, False, True, True, False, True, False, True, True, True, True, True, True, True, False, False, True, True, False, False, False, True, True, False, False, False, True, True, False, True, True, False, True, False, True, False, False, True, False, True, True, False, True, False, False, False, True, True, False, False, True, True, False, True, False, True, False, False, False, True, False, True, False, False, False, True, False, False, False, False, True, False, True, False, True, True, False, True, True, False, False, True, False, False, False, False, False, True, False, False, True, False, True, False, True, False, False, True, False, True, True, True, True, True, True, True, False, False, False, False, False, False, False, True, True, True, True, True, True, False, True, False, False, True, True, True, False, False, True, True, True, False, True, True, False, False, True, True, True, False, False, True, False, False, True, True, False, False, False, False, True, False, False, True, True, False, True, False, False, False, True, False, False, True, True, True, True, False, True, True, False, False, False, True, False, False, False, False, True, False, False, True, False, True, False, True, True, True, True, True, False, False, False, True, False, True, True, True, False, True, False, True, True, False, True, False, True, False, True, False, True, True, False]\n"
          ]
        }
      ],
      "source": [
        "#when using also twitter sentiment\n",
        "model = pipe_rf\n",
        "pred_rand = extracting_test_vector(samples_test)\n",
        "\n",
        "print(pred_rand)"
      ]
    },
    {
      "cell_type": "markdown",
      "metadata": {
        "collapsed": false,
        "id": "HahHws_VKjdO"
      },
      "source": [
        "## Gradient boost"
      ]
    },
    {
      "cell_type": "markdown",
      "metadata": {
        "collapsed": false,
        "id": "77yvqAAHKjdP"
      },
      "source": [
        "### Just closing values (83.3%)"
      ]
    },
    {
      "cell_type": "code",
      "execution_count": null,
      "metadata": {
        "ExecuteTime": {
          "end_time": "2023-06-14T14:30:43.985842Z",
          "start_time": "2023-06-14T14:30:43.869477400Z"
        },
        "id": "UmDDl2iJKjdP"
      },
      "outputs": [],
      "source": [
        "with open('test_samples_raw.pkl','rb') as f:\n",
        "    samples_test = pickle.load(f)"
      ]
    },
    {
      "cell_type": "code",
      "execution_count": null,
      "metadata": {
        "ExecuteTime": {
          "end_time": "2023-06-14T14:30:44.365827300Z",
          "start_time": "2023-06-14T14:30:43.992850700Z"
        },
        "id": "CozivkAIKjdP",
        "outputId": "bb16c7fe-ed38-4d25-c168-0beba2cebee7"
      },
      "outputs": [
        {
          "name": "stdout",
          "output_type": "stream",
          "text": [
            "[True, False, False, False, False, True, True, True, False, False, True, False, True, False, False, True, False, False, True, False, False, False, False, True, True, False, False, True, True, False, False, False, False, False, False, False, False, False, False, False, False, False, True, True, True, True, True, False, False, False, True, False, False, True, True, True, True, False, False, True, True, True, False, False, True, True, False, True, False, True, True, False, True, True, True, False, False, False, False, False, False, False, True, True, False, False, False, True, True, True, True, False, False, False, True, True, True, False, False, False, False, True, False, True, True, True, False, True, True, False, True, True, False, False, False, False, False, False, True, False, True, False, False, True, False, False, False, False, False, False, False, False, True, False, True, False, False, True, False, False, True, False, False, False, True, True, False, True, True, False, True, True, False, True, True, False, True, True, True, False, False, False, False, False, False, False, False, True, True, True, False, True, True, False, False, True, False, True, True, False, True, True, False, False, True, True, False, True, False, False, False, True, True, True, False, False, True, False, False, True, True, False, True, False, True, True, False, True, True, False, True, False, False, False, True, True, False, False, False, False, False, False, False, True, False, True, False, False, False, False, True, True, True, False, False, False, False, False, False, False, False, True, False, True, True, True, False, True, True, True, True, False, False, True, False, True, True, False, False, False, False, False, False, True, False, False, True, False, False, True, True, True, False, True, False, True, True, False, True, False, False, True, True, False, True, True, True, False, False, True, False, True, True, False, False, False, False, False, True, False, True, False, False, True, True, False, True, False, False, False, False, True, False, False, False, False, False, False, False, False, False, False, True, False, True, False, True, False, True, True, False, False, True, True, False, False, True, False, True, True, True, True, True, False, False, False, False, True, False, True, True, False, True, True, True, False, False, False, True, True, False, False, True, True, True, True, True, False, True, True, False, False, False, True, False, False, True, False, True, True, False, True, True, True, True, False, True, True, False, False, False, False, False, False, True, False, True, False, False, True, False, True, False, False, False, False, False, False, False, True, False, False, False, False, False, False, True, False, False, False, False, False, False, False, True, False, False, True, True, False, True, False, False, False, True, True, True, False, False, False, True, False, False, False, True, False, True, True, True, True, False, False, True, True, False, False, False, False, True, False, True, True, True, False, True, True, True, False, False, True, False, False, False, True, True, False, False, False, True, False, False, True, False, False, True, True, False, False, True, True, False, True, True, True, False, False, True, True, False, False, True, False, False, False, False, False, True, False, False, False, False, False, True, True, True, True, False, False, False, True, True, False, True, False, True, True, True, True, False, False, False, True, False, True, False, True, True, True, True, True, True, True, True, False, False, False, False, True, True, False, False, True, True, True, False, True, False, False, False, True, True, False, False, False, False, False, False, False, False, False, False, False, True, False, False, False, False, False, False, True, False, True, False, False, True, True, False, True, True, False, False, False, False, False, True, False, False, True, False, True, True, True, True, False, True, False, False, True, True, False, True, False, False, False, False, True, True, True, False, True, False, True, False, False, False, True, False, False, True, True, True, False, True, True, False, True, True, False, True, False, True, True, True, True, False, False, True, False, True, False, False, False, True, True, False, False, False, False, True, True, True, True, False, False, False, False, True, False, False, False, True, True, False, False, True, True, False, True, False, False, False, True, True, False, False, True, False, False, True, True, False, True, True, False, False, False, True, False, True, True, False, False, False, False, False, True, False, False, False, False, True, False, False, False, False, False, False, True, True, False, False, True, True, False, False, False, False, False, False, True, True, False, False, True, False, True, False, True, True, True, False, True, True, True, False, False, True, False, False, False, False, False, True, False, True, True, False, False, True, True, False, False, True, False, True, True, False, False, False, True, False, True, True, True, False, True, True, True, False, False, False, False, False, False, True, True, True, True, False, True, True, True, True, False, True, True, True, True, False, True, True, False, False, True, True, False, False, False, True, True, False, True, False, False, False, False, False, False, True, True, False, False, False, False, True, False, True, False, False, True, False, False, False, True, True, False, False, True, True, False, True, False, True, False, False, True, True, False, True, False, False, False, True, False, False, False, False, True, False, False, False, True, False, True, True, False, False, False, True, False, True, False, False, False, True, False, False, True, False, False, False, True, False, False, True, False, True, False, True, True, False, True, True, False, False, False, False, False, False, False, True, False, True, True, False, True, False, False, False, False, False, True, True, False, False, True, True, True, False, True, False, False, False, True, True, True, False, False, True, False, False, True, True, False, False, False, False, True, False, False, True, False, False, True, False, False, False, False, False, False, False, False, False, True, False, False, True, False, False, False, True, False, False, False, True, True, False, False, True, False, True, False, True, True, True, True, True, False, False, True, True, False, True, True, True, False, True, False, True, True, False, True, False, True, False, True, False, False, True, False]\n"
          ]
        }
      ],
      "source": [
        "predictions= []\n",
        "model = pipe_gb\n",
        "\n",
        "for values, tweet in samples_test:\n",
        "    X= values['Close'].values[-10:].reshape(1,-1)\n",
        "    y_pred = model.predict(X)\n",
        "    predictions.extend(y_pred)\n",
        "\n",
        "pred_grand = (np.array(predictions) > 0).tolist()\n",
        "\n",
        "print(pred_grand)"
      ]
    },
    {
      "cell_type": "markdown",
      "metadata": {
        "collapsed": false,
        "id": "nhQvoq82KjdP"
      },
      "source": [
        "### With Twitter Sentiment (85.1%)"
      ]
    },
    {
      "cell_type": "code",
      "execution_count": null,
      "metadata": {
        "id": "tr9HtauAKjdP"
      },
      "outputs": [],
      "source": [
        "#for using twitter sentiment\n",
        "with open('test_samples (4).pkl', 'rb') as f:\n",
        "    samples_test = pickle.load(f)"
      ]
    },
    {
      "cell_type": "code",
      "execution_count": null,
      "metadata": {
        "id": "f-rt6PqjKjdP",
        "outputId": "11a63596-3944-411e-b183-8508d64e77dd"
      },
      "outputs": [
        {
          "name": "stdout",
          "output_type": "stream",
          "text": [
            "[True, False, False, False, False, True, True, True, False, False, True, False, True, False, False, True, True, False, False, True, False, False, False, True, False, False, False, False, True, True, True, False, False, False, False, False, False, False, False, False, False, False, True, True, True, True, False, False, False, False, True, False, False, False, False, True, True, True, False, True, True, False, True, False, True, True, False, True, False, True, True, False, True, True, True, False, False, False, False, False, False, False, True, True, False, False, False, True, True, True, True, False, False, False, False, True, False, False, False, False, False, False, True, False, True, True, False, True, True, False, True, True, False, False, False, False, False, False, True, False, True, False, False, True, False, False, False, False, False, False, False, False, True, False, True, False, False, True, True, False, True, False, False, False, True, False, False, False, False, True, True, False, False, True, True, False, False, True, True, False, True, True, False, True, False, False, False, True, True, False, True, True, True, False, False, False, False, True, True, True, True, True, False, True, True, False, False, True, False, False, False, False, False, False, False, False, True, True, False, False, True, False, False, False, True, True, False, True, True, False, True, False, False, False, True, True, False, False, False, True, False, False, False, True, False, True, False, False, True, False, True, False, True, False, False, False, True, False, True, True, False, False, False, True, True, True, False, False, True, True, True, False, False, True, False, True, True, False, False, False, False, False, False, True, False, False, True, False, False, True, True, True, False, True, False, True, True, False, True, False, False, False, True, False, False, True, True, False, False, True, False, True, True, False, False, False, False, True, True, False, True, False, False, True, True, False, True, False, False, False, False, False, False, False, False, False, False, False, False, False, False, True, False, False, True, False, True, False, True, True, False, False, True, False, True, False, True, False, True, True, True, True, True, False, False, True, False, True, False, True, True, False, True, True, True, True, False, False, True, True, False, False, False, True, True, True, False, False, True, True, False, False, False, True, False, False, True, False, False, True, False, True, True, False, True, False, False, True, False, True, False, False, False, True, True, False, True, False, False, True, False, True, False, False, True, False, False, False, False, True, False, False, False, False, True, False, False, False, False, False, False, True, False, False, False, False, False, True, False, False, True, False, False, True, True, True, True, False, False, True, True, False, False, False, True, False, True, True, True, False, True, False, True, True, False, False, True, False, True, False, True, True, True, False, True, True, True, False, False, True, False, False, False, True, True, False, False, False, True, False, False, True, False, False, True, True, False, False, True, True, False, True, False, True, False, False, True, True, False, False, True, False, False, False, False, False, True, False, False, False, False, True, True, False, False, True, False, True, False, True, True, False, True, True, False, True, False, True, False, False, False, False, False, True, False, True, True, False, True, False, True, True, True, False, False, False, False, True, True, False, False, True, True, True, False, True, False, False, False, True, False, False, False, False, False, False, False, False, False, False, False, False, True, False, False, False, False, False, False, True, False, True, True, False, False, True, False, True, True, False, False, False, False, False, True, False, False, False, False, True, False, True, True, True, True, False, False, False, True, False, True, False, False, False, False, True, True, True, True, True, False, True, False, False, False, True, False, False, False, True, True, False, True, True, False, True, True, False, False, False, True, True, True, True, False, True, False, True, False, False, False, True, False, True, False, False, False, False, True, False, True, True, False, False, False, True, True, False, False, False, False, True, False, False, True, True, False, True, False, False, False, True, False, True, False, False, False, False, True, False, False, True, True, False, False, False, True, False, True, True, True, False, False, True, False, True, False, False, False, False, True, False, False, False, False, False, False, True, True, False, False, True, False, True, True, False, False, False, True, False, True, True, False, False, True, False, False, True, True, False, False, True, True, False, True, False, True, False, True, True, False, False, True, False, True, True, False, False, True, False, False, False, True, False, True, False, True, False, False, True, False, False, True, True, False, False, False, True, False, False, False, False, False, False, True, True, True, True, False, True, False, False, True, False, True, True, True, True, True, True, True, False, False, True, True, False, False, False, True, True, False, False, False, True, True, False, True, True, True, True, False, True, False, False, True, False, True, True, False, True, False, False, False, True, True, False, False, False, True, True, True, True, True, False, False, False, False, False, True, False, False, False, True, False, False, False, False, True, False, True, False, True, True, False, True, True, False, False, True, False, True, False, False, False, True, False, False, True, False, True, False, True, False, False, False, False, True, False, True, True, True, True, True, False, True, False, False, False, False, False, True, True, True, True, True, True, False, True, False, False, True, True, True, False, False, True, True, True, False, True, False, False, False, True, True, False, False, False, True, False, False, True, True, False, False, False, False, True, False, False, False, False, False, True, False, False, False, False, False, False, True, True, False, True, False, True, True, False, False, False, True, False, False, False, False, True, False, False, True, False, True, True, True, False, True, True, True, False, False, True, True, False, True, True, True, False, True, False, True, True, False, True, False, True, False, True, False, True, True, False]\n"
          ]
        }
      ],
      "source": [
        "#when using also twitter sentiment\n",
        "model = pipe_gb\n",
        "pred_grand = extracting_test_vector(samples_test)\n",
        "\n",
        "print(pred_grand)\n"
      ]
    },
    {
      "cell_type": "markdown",
      "metadata": {
        "collapsed": false,
        "id": "skPa5pSmKjdP"
      },
      "source": [
        "## Xgboost"
      ]
    },
    {
      "cell_type": "markdown",
      "metadata": {
        "collapsed": false,
        "id": "umnP5UM5KjdQ"
      },
      "source": [
        "### Just closing values (81.4%)"
      ]
    },
    {
      "cell_type": "code",
      "execution_count": null,
      "metadata": {
        "ExecuteTime": {
          "end_time": "2023-06-14T14:30:44.559807200Z",
          "start_time": "2023-06-14T14:30:44.365827300Z"
        },
        "id": "mCj83K6SKjdQ"
      },
      "outputs": [],
      "source": [
        "with open('test_samples_raw.pkl','rb') as f:\n",
        "    samples_test = pickle.load(f)"
      ]
    },
    {
      "cell_type": "code",
      "execution_count": null,
      "metadata": {
        "ExecuteTime": {
          "end_time": "2023-06-14T14:30:45.755577100Z",
          "start_time": "2023-06-14T14:30:44.559807200Z"
        },
        "id": "HTOIXiBaKjdQ",
        "outputId": "940fffab-c852-4b8e-c45a-2243d80b3f06"
      },
      "outputs": [
        {
          "name": "stdout",
          "output_type": "stream",
          "text": [
            "[True, False, False, False, False, True, True, True, False, False, True, False, True, False, False, True, True, False, True, False, False, False, False, True, True, False, False, True, True, False, False, False, False, False, False, False, False, False, False, False, False, False, True, True, True, True, True, False, False, False, True, False, False, True, True, True, True, False, False, False, False, True, False, False, False, True, False, True, False, True, True, False, True, True, True, False, False, False, True, False, False, False, True, True, False, False, False, True, True, True, True, False, False, False, True, True, False, False, False, False, False, False, False, True, True, True, False, True, True, False, True, True, False, False, False, True, False, False, True, False, True, False, False, True, False, False, False, False, False, False, False, False, True, False, True, False, False, True, False, False, True, False, False, False, True, True, False, True, True, True, True, True, False, True, True, False, True, True, True, False, False, False, False, True, False, False, False, True, True, True, False, False, True, False, False, True, False, True, True, False, True, True, False, False, False, False, False, True, False, False, False, True, True, True, False, False, True, False, False, True, True, False, True, False, True, True, False, True, True, False, True, False, False, False, True, True, False, False, False, False, False, False, False, True, False, True, False, False, False, False, True, True, True, False, False, True, False, False, False, False, False, True, False, True, True, True, False, True, True, True, True, False, False, True, False, True, True, False, False, False, False, False, False, False, False, False, True, False, False, True, True, True, False, True, False, True, True, False, True, False, False, True, True, False, True, True, True, False, False, False, False, True, True, False, True, False, True, True, True, False, True, False, False, True, True, False, True, False, False, False, False, True, False, False, True, True, False, False, False, False, False, False, True, False, True, False, True, False, True, True, False, False, True, True, False, False, True, False, False, True, True, True, True, False, False, True, False, True, False, True, True, False, True, True, True, False, False, False, True, True, False, False, True, True, False, False, True, False, True, True, False, False, False, True, False, False, True, False, False, True, False, True, True, True, True, False, False, False, False, False, False, False, False, False, True, True, True, False, False, True, False, True, False, False, False, False, False, False, False, True, False, False, False, False, False, False, True, False, False, False, False, False, False, False, True, True, False, True, True, False, True, False, False, False, True, True, True, False, False, True, False, False, False, False, True, False, True, True, True, True, False, False, True, True, False, False, False, False, True, False, True, True, True, False, True, True, True, False, False, True, False, False, False, True, True, False, False, False, True, False, False, True, False, False, True, True, False, False, True, True, False, True, True, True, False, False, True, True, False, False, True, False, False, False, False, False, True, False, False, False, False, False, True, True, True, True, False, False, False, True, True, False, True, False, False, True, True, True, False, True, False, True, False, True, False, True, True, True, True, True, True, True, True, False, False, False, False, True, True, False, False, True, True, False, False, True, False, False, False, True, True, False, True, False, True, False, False, False, False, False, False, False, True, False, False, False, False, False, False, False, False, True, False, False, True, True, False, True, True, False, False, False, False, False, True, False, False, True, False, True, False, True, True, False, True, False, False, True, True, False, True, False, False, False, False, True, True, True, False, False, False, True, False, False, False, True, False, False, True, True, True, False, True, True, False, True, True, False, True, False, True, True, True, False, False, False, True, False, True, False, False, False, True, True, False, False, False, False, True, False, True, True, False, False, False, False, True, False, False, False, True, True, False, False, True, True, False, True, False, False, True, True, True, False, False, True, False, False, True, True, False, True, True, False, False, False, True, False, True, True, False, False, False, True, False, True, False, True, False, False, True, False, False, False, False, False, False, True, True, False, False, True, True, True, False, False, False, False, False, True, True, False, True, False, False, True, False, True, True, True, False, True, True, True, False, False, True, False, False, False, False, False, True, False, True, True, False, False, True, True, False, False, True, False, True, True, False, False, False, True, False, True, True, False, False, True, True, True, False, False, False, False, False, True, True, True, True, True, False, True, True, True, True, False, True, True, True, True, False, True, True, False, False, True, True, False, False, False, True, True, False, True, False, True, False, False, False, False, True, True, False, False, False, False, False, False, True, False, False, True, False, False, False, True, True, True, False, True, True, False, True, False, True, False, False, False, True, False, False, False, False, False, True, False, False, False, False, True, False, False, False, True, False, True, True, False, False, False, False, False, False, False, False, False, True, False, False, True, False, False, False, True, False, False, True, False, True, False, True, True, False, True, True, False, False, False, False, False, False, False, True, False, True, False, False, True, False, False, False, False, False, True, True, False, False, True, True, True, False, True, True, False, False, True, True, True, False, False, True, False, False, True, True, False, False, False, False, True, False, False, True, True, False, True, False, False, False, False, False, False, False, False, False, True, False, False, False, False, False, False, True, False, False, False, True, True, False, False, True, False, False, False, True, True, True, True, False, False, False, True, True, False, True, True, True, False, True, False, True, True, False, True, False, True, False, True, False, False, True, False]\n"
          ]
        }
      ],
      "source": [
        "predictions= []\n",
        "model = pipe_xgb\n",
        "for values, tweet in samples_test:\n",
        "\n",
        "    X= values['Close'].values[-10:].reshape(1,-1)\n",
        "    y_pred = model.predict(X)\n",
        "    predictions.extend(y_pred)\n",
        "\n",
        "pred_xgb = (np.array(predictions) > 0).tolist()\n",
        "\n",
        "print(pred_xgb)"
      ]
    },
    {
      "cell_type": "markdown",
      "metadata": {
        "collapsed": false,
        "id": "avQSvCVCKjdQ"
      },
      "source": [
        "### With twitter sentiment (83.9%)"
      ]
    },
    {
      "cell_type": "code",
      "execution_count": null,
      "metadata": {
        "id": "Npig9rNXKjdQ"
      },
      "outputs": [],
      "source": [
        "#for using twitter sentiment\n",
        "with open('test_samples (4).pkl', 'rb') as f:\n",
        "    samples_test = pickle.load(f)"
      ]
    },
    {
      "cell_type": "code",
      "execution_count": null,
      "metadata": {
        "id": "M0sOZ5WQKjdQ",
        "outputId": "cba338ba-2aae-4081-c955-c92b2ebbee91"
      },
      "outputs": [
        {
          "name": "stdout",
          "output_type": "stream",
          "text": [
            "[True, True, False, False, False, True, True, True, False, False, True, False, True, False, False, True, True, True, True, True, False, False, False, True, False, False, False, True, True, True, True, False, False, False, False, False, False, False, False, False, False, False, True, True, True, True, False, False, False, False, True, False, False, False, False, True, False, True, False, False, True, False, True, True, True, True, False, True, False, False, True, False, True, True, True, False, False, False, False, False, False, False, True, True, False, False, False, True, True, True, True, True, False, False, False, True, False, False, False, False, True, False, False, False, True, True, False, True, True, False, True, True, False, False, False, False, False, True, True, False, True, False, False, True, False, False, False, False, False, False, False, False, True, False, True, False, False, True, True, False, True, False, False, False, True, False, False, False, False, True, True, False, False, True, True, True, False, True, True, False, False, True, False, True, False, False, False, False, True, True, True, True, True, False, False, True, False, True, True, True, True, True, False, True, True, False, False, True, False, True, False, False, False, False, True, False, True, True, False, False, True, False, True, True, True, True, True, True, True, False, True, False, False, False, True, True, False, False, False, False, False, False, False, True, False, True, False, False, True, False, True, False, True, False, False, False, True, False, True, True, False, False, False, True, True, True, False, False, True, True, True, False, False, True, False, True, True, False, False, False, False, False, False, True, False, False, True, False, True, False, True, True, False, True, False, True, True, False, True, False, False, False, True, False, True, True, True, False, False, True, False, True, True, False, False, False, False, True, True, False, True, False, False, True, True, False, True, False, False, False, False, False, False, False, False, True, False, False, False, False, False, True, True, True, True, False, True, False, True, True, False, False, True, False, True, True, True, False, True, True, True, True, True, False, False, False, False, True, False, True, True, False, True, True, True, True, False, False, True, True, False, False, False, True, True, True, True, False, True, True, False, False, False, True, False, False, True, False, True, True, False, True, True, False, True, False, False, True, True, True, False, False, False, False, True, True, True, False, True, True, False, True, False, False, True, False, False, False, False, True, False, False, True, False, True, False, False, False, False, False, False, True, False, False, False, False, False, True, True, False, False, False, False, True, True, True, True, False, False, True, True, False, False, False, True, False, True, True, True, False, True, False, False, True, False, False, True, False, True, False, True, True, True, False, True, False, True, False, False, True, False, False, False, True, True, False, False, False, True, False, False, True, False, False, True, True, False, False, True, True, False, False, False, True, False, False, True, True, False, False, True, False, False, False, False, False, True, False, False, False, False, False, True, False, False, True, False, True, False, True, True, False, False, True, False, True, False, True, False, False, True, False, False, True, False, True, True, False, True, False, True, True, True, False, False, False, False, True, True, False, False, True, True, True, False, True, False, True, False, True, False, False, False, False, False, False, False, False, False, False, False, False, True, False, False, False, True, False, False, True, False, True, True, False, False, True, False, True, True, False, False, False, False, False, True, False, False, False, False, True, False, True, False, True, True, False, False, False, True, False, False, False, False, False, False, True, True, True, True, True, False, True, False, False, False, True, False, False, False, True, True, False, True, True, False, True, True, False, False, False, True, True, True, True, False, True, False, True, False, False, False, True, False, True, False, False, False, False, True, False, True, True, False, False, False, True, True, False, False, False, False, True, False, False, True, True, False, True, False, False, False, True, True, True, False, False, False, False, False, False, False, True, True, False, False, False, True, False, True, True, True, False, False, True, False, True, False, True, False, False, True, False, False, False, False, False, False, False, True, False, False, True, False, True, True, False, False, False, False, False, True, True, False, True, True, False, False, True, True, False, False, True, True, False, True, False, True, False, False, True, False, False, True, False, True, True, False, False, True, False, False, False, True, False, True, False, True, False, False, True, False, False, True, True, False, False, False, True, False, False, False, False, False, False, True, True, True, True, False, True, False, False, True, False, True, True, True, True, True, True, True, False, False, True, True, True, False, False, True, True, False, False, False, True, True, False, False, True, False, True, False, False, False, False, True, True, True, True, False, True, False, False, False, True, True, False, False, True, True, True, True, True, True, False, False, False, True, False, True, False, False, False, True, False, False, False, False, True, False, True, False, True, True, True, True, True, False, False, True, False, True, False, False, False, True, False, False, True, False, False, False, True, False, False, False, False, True, False, True, True, True, True, True, False, True, False, False, False, False, False, True, True, True, True, True, True, False, True, False, False, True, True, True, False, False, True, False, True, False, True, False, False, False, True, True, True, False, False, True, False, False, True, True, False, False, False, False, True, False, False, False, False, False, True, False, False, False, True, True, False, True, True, False, True, False, True, True, False, False, False, True, False, False, False, False, True, False, True, True, False, False, True, True, False, True, True, True, False, False, True, True, False, True, True, True, False, True, False, True, True, False, True, False, True, False, True, False, True, True, False]\n"
          ]
        }
      ],
      "source": [
        "#when using also twitter sentiment\n",
        "model = pipe_xgb\n",
        "pred_xgb = extracting_test_vector(samples_test)\n",
        "\n",
        "print(pred_xgb)\n"
      ]
    },
    {
      "cell_type": "markdown",
      "metadata": {
        "collapsed": false,
        "id": "4EsoSq1fKjdR"
      },
      "source": [
        "## Logistic Regression\n"
      ]
    },
    {
      "cell_type": "markdown",
      "metadata": {
        "collapsed": false,
        "id": "6JMHGx0XKjdR"
      },
      "source": [
        "### Just closing values (71.7%)"
      ]
    },
    {
      "cell_type": "code",
      "execution_count": null,
      "metadata": {
        "ExecuteTime": {
          "end_time": "2023-06-14T14:30:45.910268600Z",
          "start_time": "2023-06-14T14:30:45.755577100Z"
        },
        "id": "7SoCOs4ZKjdS"
      },
      "outputs": [],
      "source": [
        "#for using closing values\n",
        "with open('test_samples_raw.pkl','rb') as f:\n",
        "    samples_test = pickle.load(f)"
      ]
    },
    {
      "cell_type": "code",
      "execution_count": null,
      "metadata": {
        "ExecuteTime": {
          "end_time": "2023-06-14T14:30:46.493059400Z",
          "start_time": "2023-06-14T14:30:45.903229800Z"
        },
        "id": "q1hCnr8yKjdS",
        "outputId": "ab23d339-27a8-46b8-9059-2c57ea5a9382"
      },
      "outputs": [
        {
          "name": "stdout",
          "output_type": "stream",
          "text": [
            "[True, True, True, True, True, True, True, True, False, False, True, False, True, False, False, True, True, True, False, True, False, False, False, True, True, False, False, True, True, True, True, False, False, False, False, False, False, False, True, False, False, False, False, True, True, True, False, False, False, True, True, False, False, False, False, True, True, False, True, False, True, True, True, True, True, True, False, False, False, False, True, False, False, True, True, False, False, False, False, False, False, False, True, True, False, True, True, True, False, True, False, True, True, False, False, False, False, False, False, False, True, False, False, True, True, True, True, True, True, False, False, True, False, False, True, False, False, False, False, False, True, False, False, True, True, False, False, True, False, False, True, False, False, False, True, False, False, True, True, False, False, False, True, False, True, False, False, False, False, True, True, False, True, True, True, True, False, False, True, False, True, True, False, True, False, False, False, False, True, True, True, False, True, False, False, False, False, False, True, True, True, True, False, False, True, False, False, True, False, False, False, False, False, False, True, False, False, True, False, False, True, False, False, False, False, True, True, True, False, False, True, False, False, True, False, True, False, False, True, True, False, False, True, True, False, True, False, False, True, False, True, True, True, False, False, False, True, False, True, True, False, False, False, True, True, True, False, False, True, True, True, False, False, True, False, True, True, True, False, False, False, True, False, True, False, False, True, False, False, True, True, True, False, True, False, False, True, False, True, False, False, False, True, False, True, True, True, True, True, True, False, False, True, False, False, False, True, False, True, False, True, False, False, True, False, False, True, False, False, False, False, False, True, False, False, True, False, False, False, False, False, True, False, True, True, False, False, False, True, True, False, False, False, True, True, True, True, True, True, True, False, False, True, False, False, True, True, True, False, False, True, False, True, True, True, False, False, False, True, True, False, False, False, False, True, True, False, True, True, True, False, False, False, True, False, False, True, False, True, True, False, False, True, False, True, False, False, False, False, True, False, False, False, True, True, False, True, True, True, True, True, True, False, False, True, False, False, False, False, True, False, False, False, True, True, False, False, False, False, True, True, True, False, False, True, False, False, True, False, False, False, False, False, True, True, False, True, True, True, True, True, False, False, False, True, True, True, True, True, False, True, False, True, True, True, False, True, False, False, False, True, True, False, False, True, False, True, False, True, False, False, True, False, True, True, False, False, False, False, False, False, False, False, False, False, False, False, False, True, False, False, False, False, True, False, False, False, True, True, False, True, False, False, False, False, False, True, False, False, False, True, True, True, False, True, True, True, True, False, True, True, False, True, True, True, True, True, True, False, False, True, False, False, True, False, True, False, False, True, False, True, True, True, False, True, False, True, True, True, False, False, True, True, True, False, True, False, False, False, True, False, False, True, False, True, False, False, False, False, False, False, False, True, False, False, False, False, False, False, True, False, True, True, False, False, False, False, True, True, False, False, False, False, True, True, True, False, False, False, True, True, True, True, True, True, False, False, False, True, False, True, True, False, True, False, True, True, True, True, False, False, True, False, True, False, True, False, False, False, True, True, False, False, True, False, True, True, False, False, False, True, True, True, True, True, True, True, True, False, False, False, True, False, True, False, False, False, False, True, False, True, True, True, False, False, True, True, False, True, False, False, False, True, False, True, True, False, False, False, True, True, True, False, True, False, False, False, False, False, True, False, True, True, False, True, False, True, False, True, True, True, False, True, True, False, True, True, True, False, False, True, False, False, True, False, False, False, True, True, False, False, True, False, True, True, False, False, False, False, False, False, True, True, False, True, True, False, True, True, False, False, True, True, True, True, False, True, False, True, True, False, True, True, False, True, True, False, False, True, False, False, False, True, False, False, False, True, False, False, True, False, False, False, True, False, False, False, False, False, False, False, False, False, False, True, True, False, True, False, True, True, False, True, True, True, True, True, False, True, True, False, False, False, False, False, False, False, False, True, False, False, False, False, True, False, False, True, True, False, True, False, True, False, False, True, False, True, True, False, True, False, False, False, True, True, False, False, False, True, True, True, True, True, True, False, False, True, True, True, True, True, False, True, True, False, False, False, False, False, True, False, True, True, True, False, False, False, False, True, False, False, False, False, False, True, False, False, True, False, True, False, True, True, False, True, False, True, False, True, True, False, True, True, False, True, False, False, False, False, False, True, False, True, False, True, True, False, True, False, False, True, True, True, False, False, True, False, True, False, True, True, False, False, True, True, True, False, False, True, False, False, True, True, False, False, False, False, True, False, False, False, True, False, True, False, False, False, True, False, False, True, True, True, True, True, True, False, True, False, False, True, False, True, False, False, True, False, True, True, False, True, False, True, True, True, True, True, True, False, False, True, False, True, False, True, False, True, False, True, True, False, True, False, True, False, False, False, True, False, False]\n"
          ]
        }
      ],
      "source": [
        "# to test with just closing values\n",
        "predictions= []\n",
        "model = pipe_logit\n",
        "for values, tweet in samples_test:\n",
        "\n",
        "    X= values['Close'].values[-10:].reshape(1,-1)\n",
        "    y_pred = model.predict(X)\n",
        "    predictions.extend(y_pred)\n",
        "\n",
        "pred_logit = (np.array(predictions) > 0).tolist()\n",
        "\n",
        "print(pred_logit)"
      ]
    },
    {
      "cell_type": "markdown",
      "metadata": {
        "collapsed": false,
        "id": "i0PaC4HlKjdT"
      },
      "source": [
        "### With Twitter sentiment (71.5%)"
      ]
    },
    {
      "cell_type": "code",
      "execution_count": null,
      "metadata": {
        "id": "jj01Xp9EKjdT"
      },
      "outputs": [],
      "source": [
        "#for using twitter sentiment\n",
        "with open('test_samples (4).pkl','rb') as f:\n",
        "    samples_test = pickle.load(f)"
      ]
    },
    {
      "cell_type": "code",
      "execution_count": null,
      "metadata": {
        "id": "AIReIxsrKjdT",
        "outputId": "a7cf39bc-4a8f-46d2-9be9-64a2579d941c"
      },
      "outputs": [
        {
          "name": "stdout",
          "output_type": "stream",
          "text": [
            "[True, True, True, False, True, True, True, True, True, False, True, False, True, False, False, True, True, True, False, True, False, False, False, True, True, False, False, True, True, True, True, False, False, False, False, False, False, False, True, False, False, False, False, True, True, True, False, False, False, True, True, False, False, False, False, True, True, False, False, True, True, True, True, True, True, True, False, False, False, False, True, False, False, True, True, False, False, False, False, False, False, False, True, True, False, True, True, True, False, True, False, True, True, False, False, False, False, False, True, False, True, False, False, True, True, True, True, True, True, False, True, True, False, False, True, False, False, True, True, False, True, False, False, True, True, False, False, False, False, False, True, False, False, False, True, False, True, True, True, False, True, False, True, False, True, False, False, False, False, True, True, False, True, True, True, True, False, False, True, False, True, True, False, True, False, False, False, False, True, True, True, False, True, False, False, False, False, False, True, True, True, True, False, False, True, False, False, True, False, False, False, False, False, False, True, False, False, True, False, False, True, False, False, False, True, True, True, True, False, False, True, False, False, True, True, True, False, False, True, True, False, False, True, True, False, True, False, False, True, False, True, True, True, False, False, False, True, False, True, True, False, False, False, True, True, True, False, False, True, True, True, False, False, True, False, True, True, True, False, False, False, True, False, True, False, False, True, False, False, True, True, True, False, True, False, False, True, False, True, False, False, False, True, False, True, True, True, False, True, True, False, False, True, False, False, False, True, False, True, False, True, False, False, True, False, False, True, False, False, False, False, False, True, False, False, True, False, False, False, False, True, True, False, True, True, False, False, False, True, True, False, False, False, True, True, True, True, True, True, True, False, False, True, False, False, True, True, True, False, False, True, False, True, True, True, False, False, False, True, True, False, False, False, False, True, True, True, True, True, True, False, False, False, True, False, False, True, False, True, True, False, False, True, False, True, False, False, False, False, True, False, True, False, True, True, False, True, True, True, False, True, True, False, False, True, False, False, False, False, True, True, False, False, True, True, False, False, False, False, True, True, True, False, False, True, False, False, True, False, False, False, False, False, True, True, False, True, True, False, True, True, False, False, False, True, True, True, True, True, False, True, False, True, True, True, False, True, False, False, False, True, True, False, False, True, False, True, False, True, False, False, True, False, True, True, False, False, False, False, False, False, False, False, False, True, False, False, False, True, True, False, False, False, True, False, False, False, True, True, False, True, False, False, False, False, False, True, False, False, False, True, False, True, False, True, True, True, True, False, True, True, False, True, True, True, True, True, True, False, False, True, False, False, True, False, True, False, False, True, False, True, True, True, False, False, False, True, True, True, False, False, True, True, True, False, True, False, False, False, True, False, False, True, False, True, False, False, False, False, False, False, False, True, False, False, False, False, False, False, True, False, True, True, False, False, False, False, True, True, False, False, False, False, True, True, False, False, False, False, True, True, True, True, True, True, False, False, True, True, True, True, True, False, True, False, True, True, True, True, False, False, True, True, True, False, True, False, False, False, True, True, False, False, True, False, True, True, False, False, False, True, True, True, True, True, True, True, True, False, False, False, True, False, True, False, False, False, False, True, False, True, True, True, False, False, True, True, False, True, False, False, False, True, False, True, True, False, False, False, True, True, True, False, True, False, False, False, False, True, True, False, True, True, False, True, False, True, False, True, True, True, False, True, True, False, True, False, True, False, False, True, False, False, True, False, False, False, True, True, False, False, True, False, True, True, False, False, False, True, False, False, True, True, False, True, True, False, True, True, False, False, True, True, True, True, False, False, False, True, True, False, True, True, False, True, True, False, False, True, False, False, False, True, False, False, False, True, False, False, True, False, False, False, True, False, False, False, False, False, False, False, True, True, False, True, True, False, True, False, True, True, False, True, True, True, True, True, False, True, True, False, False, False, False, False, False, False, False, True, False, False, False, False, True, True, False, True, True, False, True, False, True, False, False, True, False, True, True, False, True, False, False, False, True, True, False, False, False, True, True, True, True, True, True, False, True, True, False, True, True, True, False, True, True, False, False, False, False, True, True, False, True, True, True, False, False, False, False, True, False, False, False, False, False, True, False, False, False, False, True, False, True, False, False, True, False, True, True, True, True, False, False, True, False, True, True, False, False, False, False, True, False, True, False, True, True, False, True, False, False, True, True, True, False, False, True, False, True, False, True, True, False, False, True, True, True, False, False, True, False, False, True, True, False, False, False, False, True, False, False, False, True, False, True, False, False, False, True, False, False, True, True, True, True, True, True, False, True, False, False, True, False, True, False, False, True, False, True, True, False, True, False, True, True, True, True, True, True, False, False, True, False, True, True, True, False, True, False, True, True, False, True, False, True, False, False, False, True, False, False]\n"
          ]
        }
      ],
      "source": [
        "#when using also twitter sentiment\n",
        "model = pipe_logit\n",
        "pred_logit = extracting_test_vector(samples_test)\n",
        "\n",
        "print(pred_logit)"
      ]
    },
    {
      "cell_type": "markdown",
      "metadata": {
        "collapsed": false,
        "id": "0pYJ-5b-KjdT"
      },
      "source": [
        "## SVM"
      ]
    },
    {
      "cell_type": "markdown",
      "metadata": {
        "collapsed": false,
        "id": "T2njK-LuKjdT"
      },
      "source": [
        "### Just closing values (72%)"
      ]
    },
    {
      "cell_type": "code",
      "execution_count": null,
      "metadata": {
        "id": "-FZhqFISKjdU"
      },
      "outputs": [],
      "source": [
        "with open('test_samples_raw.pkl','rb') as f:\n",
        "    samples_test = pickle.load(f)"
      ]
    },
    {
      "cell_type": "code",
      "execution_count": null,
      "metadata": {
        "id": "Tg1VE2ZjKjdU",
        "outputId": "da45a805-f3e6-49df-a47d-2f8d2f55eb34"
      },
      "outputs": [
        {
          "name": "stdout",
          "output_type": "stream",
          "text": [
            "[True, True, True, False, True, True, True, True, False, False, True, False, True, False, False, True, True, False, False, True, False, False, False, True, True, False, False, True, True, True, True, False, False, False, False, False, False, False, False, False, False, False, False, True, True, True, False, False, False, False, True, False, False, False, False, True, True, False, False, False, True, True, True, True, False, True, False, False, False, False, True, False, False, True, True, False, False, False, False, False, False, False, True, True, False, True, True, True, False, True, False, True, True, False, False, False, False, False, False, False, False, False, False, False, True, True, True, True, True, False, False, True, False, False, True, False, False, False, False, False, False, False, False, True, True, False, False, False, False, False, False, False, False, False, True, False, False, False, False, False, False, False, False, False, True, False, False, False, False, True, True, False, True, True, True, False, False, False, True, False, True, True, False, True, False, False, False, False, True, True, True, False, True, False, False, False, False, False, True, True, True, True, False, False, True, False, False, True, False, False, False, False, False, False, True, False, False, True, False, False, True, False, False, False, False, True, True, True, False, False, True, False, False, False, True, True, False, False, True, True, False, False, True, True, False, True, False, False, True, False, True, False, True, False, False, False, True, False, True, False, False, False, False, True, True, True, False, False, True, True, True, False, False, True, True, True, True, True, False, False, True, True, False, False, False, False, True, False, False, False, True, True, False, False, False, False, True, False, True, False, False, False, True, False, True, True, True, False, True, True, False, False, True, False, False, False, False, False, True, False, True, False, False, True, False, False, True, False, False, False, False, False, True, False, False, True, False, False, False, False, False, True, False, True, True, False, False, False, True, True, False, False, False, True, True, True, True, True, True, True, False, False, True, False, False, True, True, True, False, True, True, False, True, True, False, False, False, False, True, True, False, False, False, False, True, False, False, True, True, True, False, False, False, False, False, False, True, False, True, True, False, False, True, False, True, False, False, False, False, True, False, False, False, True, True, False, True, True, True, False, False, True, False, False, True, False, False, False, False, False, False, False, False, False, True, False, False, False, False, True, False, True, False, False, True, False, False, True, False, False, False, False, False, True, True, False, True, True, True, True, True, False, False, False, True, True, True, True, True, False, True, False, True, True, True, False, True, False, False, False, True, True, False, False, True, False, True, False, True, False, False, True, False, True, True, False, False, False, False, False, False, False, False, False, False, False, False, False, True, False, False, False, False, True, False, False, False, True, False, False, True, False, False, False, False, False, True, False, False, False, False, False, True, False, True, True, True, True, False, False, True, False, True, True, True, True, True, True, False, False, True, False, False, False, False, True, False, False, True, False, True, True, True, False, True, False, True, True, True, False, False, True, True, False, False, True, False, False, False, True, False, False, False, False, True, False, False, False, False, False, False, False, True, False, False, False, False, False, False, True, False, True, True, False, False, False, False, True, True, False, False, False, False, True, True, False, False, False, False, True, False, True, True, True, True, False, False, False, False, False, True, False, False, False, False, True, True, True, True, False, False, True, False, False, False, True, False, False, False, True, True, False, False, True, False, True, True, False, False, False, True, True, True, True, True, True, True, True, False, False, False, True, False, True, False, False, False, False, True, False, True, True, True, False, False, True, True, False, True, False, False, False, True, False, True, True, False, False, False, True, True, True, False, True, False, False, False, False, False, False, False, True, True, False, True, False, True, False, True, True, True, False, True, True, False, True, False, True, False, False, True, False, False, True, False, False, False, True, True, False, False, False, False, True, False, False, False, False, False, False, False, True, False, False, False, False, False, True, True, False, False, True, True, False, True, False, True, False, False, False, False, True, True, False, True, True, False, False, True, False, False, False, True, False, False, False, True, False, False, True, False, False, False, True, False, False, False, False, False, False, False, False, False, False, True, True, False, True, False, True, True, False, True, True, True, True, True, False, True, True, False, False, False, False, False, False, False, False, True, False, False, False, False, True, False, False, True, True, False, True, False, True, False, False, True, False, True, True, False, True, False, False, False, True, True, False, False, False, True, True, True, True, True, True, False, False, True, False, True, True, True, False, True, True, False, False, False, False, False, True, False, True, True, True, False, False, False, False, True, False, False, False, False, False, True, False, False, False, False, True, False, True, True, False, False, False, True, False, False, True, False, True, True, False, True, True, False, False, False, False, True, False, True, False, True, True, False, True, False, False, True, True, True, False, False, True, False, True, False, True, True, False, False, True, True, True, False, False, True, False, False, True, True, False, False, False, False, True, False, False, False, True, False, True, False, False, False, True, False, False, True, False, False, True, True, True, False, True, False, False, True, False, True, False, False, True, False, True, True, False, True, False, True, True, True, True, True, True, False, False, True, False, True, False, True, False, True, False, True, True, False, True, False, True, False, False, False, True, False, False]\n"
          ]
        }
      ],
      "source": [
        "#when using just closing values\n",
        "predictions= []\n",
        "model = pipe_svm\n",
        "for values, tweet in samples_test:\n",
        "\n",
        "    X= values['Close'].values[-10:].reshape(1,-1)\n",
        "    y_pred = model.predict(X)\n",
        "    predictions.extend(y_pred)\n",
        "\n",
        "pred_SVM = (np.array(predictions) > 0).tolist()\n",
        "print(pred_SVM)"
      ]
    },
    {
      "cell_type": "markdown",
      "metadata": {
        "collapsed": false,
        "id": "0DaN9a8oKjdU"
      },
      "source": [
        "### With twitter sentiment (72.3%)"
      ]
    },
    {
      "cell_type": "code",
      "execution_count": null,
      "metadata": {
        "id": "LsL8PBxkKjdU"
      },
      "outputs": [],
      "source": [
        "#for using twitter sentiment\n",
        "with open('test_samples (4).pkl', 'rb') as f:\n",
        "    samples_test = pickle.load(f)"
      ]
    },
    {
      "cell_type": "code",
      "execution_count": null,
      "metadata": {
        "id": "qLQTYzamKjdU",
        "outputId": "27bb4034-4160-4b6b-92bd-1a1708b1c223"
      },
      "outputs": [
        {
          "name": "stdout",
          "output_type": "stream",
          "text": [
            "[True, True, True, False, True, True, True, True, True, False, True, False, True, False, False, True, True, True, True, True, False, False, False, True, True, False, False, True, True, True, True, False, False, False, False, False, False, False, True, False, False, False, False, True, True, True, False, False, False, True, True, False, False, False, False, True, True, False, False, True, True, True, True, True, True, True, False, False, False, False, True, False, False, True, True, False, False, False, False, False, False, False, True, True, False, True, True, True, False, True, False, True, True, False, False, False, False, False, True, False, True, False, False, True, True, True, True, True, True, False, True, True, False, False, True, False, False, True, True, False, True, False, False, True, True, False, False, False, False, False, True, False, False, False, True, False, False, True, True, False, True, False, True, False, True, False, False, False, False, True, True, False, True, True, True, True, False, False, True, False, True, True, False, True, False, False, False, False, True, True, True, False, True, False, False, False, False, False, True, True, True, True, False, False, True, False, False, True, False, False, False, False, False, False, True, False, False, True, False, False, True, False, False, False, True, True, True, True, False, False, True, False, False, False, True, True, False, False, True, True, False, False, True, True, False, True, False, False, True, False, True, True, True, False, False, False, True, False, True, True, False, False, False, True, True, True, False, False, True, True, True, False, False, True, False, True, True, True, False, False, False, True, False, True, False, False, True, False, False, True, True, True, False, True, False, True, True, False, True, False, False, False, True, False, True, True, True, False, True, True, False, False, True, False, False, False, True, False, True, False, True, False, False, True, False, False, True, False, False, False, False, False, True, False, False, True, False, False, False, False, True, True, False, True, True, False, False, False, True, True, False, False, False, True, True, True, True, True, True, True, False, False, True, False, False, True, True, True, False, False, True, False, True, True, True, False, False, False, True, True, False, False, False, False, True, True, True, True, True, False, False, False, False, True, False, True, True, False, True, True, False, False, True, False, True, False, False, False, False, True, False, True, False, True, True, False, True, True, True, False, True, True, False, False, True, False, True, False, False, True, True, False, False, True, True, False, False, False, False, True, True, True, False, False, True, False, False, True, False, False, True, True, False, True, True, False, True, True, False, True, True, False, False, False, True, True, True, True, True, False, True, False, True, True, True, False, True, False, False, False, True, True, False, False, True, False, True, False, True, False, False, True, False, True, True, False, False, False, False, False, False, False, True, False, True, False, False, False, True, True, False, False, False, True, False, False, False, True, True, False, True, False, False, False, False, False, True, False, False, False, True, False, True, False, True, True, True, True, False, True, True, False, True, True, True, True, True, True, False, False, True, False, False, True, False, True, False, False, True, False, True, True, True, False, False, False, False, True, True, False, False, True, True, True, False, True, False, True, True, True, False, False, True, False, True, False, False, True, False, False, False, False, True, False, False, False, True, False, False, True, False, True, True, False, False, False, False, True, True, False, False, False, False, True, True, False, False, False, False, True, True, True, True, True, True, False, False, True, True, False, True, True, False, False, False, True, True, True, True, False, False, True, True, True, False, True, False, False, False, True, True, False, False, True, False, True, True, False, False, False, True, True, True, True, True, True, True, True, False, False, False, True, False, True, False, False, False, False, True, False, True, True, True, False, False, True, True, False, True, False, False, False, True, False, True, True, False, False, False, True, True, True, False, True, False, False, False, False, True, True, False, True, True, False, True, False, True, False, True, True, True, False, True, True, False, True, True, True, False, False, True, False, False, True, False, False, False, True, True, True, False, True, True, True, True, False, False, False, True, False, False, True, True, False, True, True, False, True, True, False, False, True, True, True, True, False, True, False, True, False, False, True, True, False, True, True, False, False, True, False, False, False, True, False, False, False, True, False, False, True, False, False, True, True, False, True, False, False, True, False, False, True, True, False, True, True, False, True, False, True, True, False, True, True, True, True, True, False, True, True, False, False, False, False, False, False, False, False, True, False, False, False, False, True, True, False, True, True, False, True, False, True, False, False, True, False, True, True, False, True, False, False, False, True, True, False, False, True, True, True, True, True, True, True, False, True, True, False, True, True, True, False, True, True, False, False, False, True, True, True, False, True, True, True, False, False, False, False, True, False, False, False, False, False, True, False, False, False, False, True, False, True, False, False, True, False, True, True, False, True, False, True, True, False, True, True, False, False, False, False, True, False, True, True, True, True, False, True, False, False, True, True, True, False, False, True, False, True, False, True, True, False, False, True, True, True, False, False, True, False, False, True, True, False, False, False, False, True, False, False, False, True, False, True, True, False, False, True, False, False, True, True, True, True, True, True, False, True, False, False, True, False, True, False, True, True, False, True, True, False, True, False, True, True, True, True, True, True, False, False, True, False, True, True, True, True, True, False, True, True, False, True, False, True, False, False, True, True, False, False]\n"
          ]
        }
      ],
      "source": [
        "#when using also twitter sentiment\n",
        "model = pipe_svm\n",
        "pred_svm = extracting_test_vector(samples_test)\n",
        "\n",
        "print(pred_svm)"
      ]
    },
    {
      "cell_type": "markdown",
      "metadata": {
        "collapsed": false,
        "id": "w8bsJTwiKjdU"
      },
      "source": [
        "## Naive Bayes Classifiers"
      ]
    },
    {
      "cell_type": "markdown",
      "metadata": {
        "collapsed": false,
        "id": "g-3iWU6NKjdU"
      },
      "source": [
        "### Just Closing values (61.11%)"
      ]
    },
    {
      "cell_type": "code",
      "execution_count": null,
      "metadata": {
        "ExecuteTime": {
          "end_time": "2023-06-14T14:30:46.694651300Z",
          "start_time": "2023-06-14T14:30:46.493059400Z"
        },
        "id": "tb3kNBIjKjdV"
      },
      "outputs": [],
      "source": [
        "with open('test_samples_raw.pkl', 'rb') as f:\n",
        "    samples_test = pickle.load(f)"
      ]
    },
    {
      "cell_type": "code",
      "execution_count": null,
      "metadata": {
        "ExecuteTime": {
          "end_time": "2023-06-14T14:30:47.213910Z",
          "start_time": "2023-06-14T14:30:46.694651300Z"
        },
        "id": "8WZtnQbUKjdV",
        "outputId": "bd57c6b7-48e9-4508-c9fa-acf4cd27f243"
      },
      "outputs": [
        {
          "name": "stdout",
          "output_type": "stream",
          "text": [
            "[True, True, True, False, False, False, True, True, True, True, True, False, True, False, True, True, True, True, True, False, False, False, True, True, True, True, False, True, True, False, True, False, False, False, False, False, False, False, False, False, True, False, False, False, True, True, False, False, False, True, True, False, False, False, False, True, True, False, True, False, False, True, False, False, False, True, False, True, True, False, True, False, False, True, True, True, True, False, False, False, False, False, False, False, False, False, True, True, True, True, False, True, True, False, False, False, False, False, False, True, True, True, False, True, True, True, False, True, True, False, True, True, False, False, True, False, False, False, True, False, True, False, True, True, True, False, False, True, False, False, False, False, False, False, True, False, False, True, True, False, True, False, False, False, False, False, False, False, False, True, True, False, True, True, False, False, True, True, True, False, True, True, False, True, False, False, False, False, True, True, True, False, False, False, False, False, False, False, False, False, False, True, True, False, False, True, False, True, False, False, False, False, False, True, True, True, False, False, True, True, True, False, True, False, True, True, True, True, False, True, True, False, False, False, True, True, False, False, False, True, True, False, True, False, False, True, False, True, True, False, True, True, True, True, False, False, False, True, False, False, True, False, True, False, True, True, False, False, True, True, False, True, False, True, True, False, True, True, False, True, False, False, False, False, False, True, True, False, False, True, False, False, True, False, False, True, False, False, True, True, False, False, False, False, True, True, True, False, True, False, True, False, True, False, True, True, True, True, True, False, False, False, False, True, True, True, True, True, False, False, True, False, True, False, False, True, True, False, False, False, True, True, True, True, True, False, False, True, False, False, False, True, False, True, False, True, False, False, True, True, True, False, True, False, False, True, True, False, True, True, False, True, False, False, False, False, False, False, True, False, False, False, False, False, False, False, True, False, True, False, False, True, False, False, False, True, True, False, True, True, False, False, True, False, False, False, True, True, False, True, False, True, True, True, False, False, True, True, True, True, False, True, True, False, True, False, True, False, False, True, True, False, False, True, True, False, True, False, False, True, False, True, False, False, True, True, False, True, False, False, False, False, True, False, False, True, True, True, True, True, True, False, False, False, True, True, False, True, True, False, True, False, True, True, False, False, False, False, False, False, False, True, False, False, True, False, True, False, True, True, False, False, False, True, True, True, False, True, False, False, True, False, True, True, True, True, False, False, True, False, False, False, False, True, False, True, False, False, True, False, True, True, False, False, False, False, True, True, True, False, True, False, True, False, False, True, True, True, False, False, True, False, True, True, False, True, True, True, False, False, False, False, False, False, False, False, True, False, True, True, True, True, True, False, False, False, False, False, True, False, True, False, True, True, False, True, False, True, True, True, True, True, True, True, True, False, False, True, False, False, False, False, True, True, False, False, True, False, False, False, False, True, False, True, False, False, True, True, True, True, True, False, False, True, True, True, False, False, True, True, False, True, False, True, True, False, False, True, True, False, True, False, False, False, False, True, True, True, True, False, False, False, True, False, False, False, False, False, False, False, True, True, True, False, False, False, True, True, False, False, False, False, True, True, False, True, True, True, True, False, True, True, True, True, False, True, True, False, True, False, False, True, True, True, True, True, False, False, False, False, False, False, False, False, True, True, True, True, False, False, True, True, False, False, False, False, True, False, True, False, False, True, True, False, True, True, True, False, True, True, False, False, False, False, False, True, True, False, False, False, True, False, True, True, False, False, False, False, True, True, False, False, True, True, False, True, False, True, False, False, False, True, False, False, False, False, True, True, True, True, False, True, True, True, True, True, True, False, True, True, True, False, True, True, True, True, False, True, False, True, False, False, False, False, True, True, True, False, False, False, True, True, True, True, False, True, False, False, True, False, False, True, True, True, False, True, False, True, True, True, True, False, True, True, True, True, True, False, False, True, False, False, True, False, False, False, False, False, True, True, False, False, False, False, True, False, False, True, False, True, True, True, False, False, True, False, True, True, False, True, False, True, False, True, True, True, False, True, False, True, True, True, False, False, False, True, True, True, False, True, False, True, False, True, False, True, False, True, False, True, True, True, True, False, False, False, False, False, True, False, False, False, True, False, True, True, True, False, False, True, False, True, True, False, True, False, True, False, True, True, False, True, True, False, True, False, False, False, False, False, True, False, False, True, False, False, False, True, False, False, True, True, True, False, False, False, True, True, False, True, False, False, True, True, True, True, False, True, True, False, True, True, False, False, True, True, True, True, True, False, True, True, False, True, True, False, False, True, True, False, True, True, False, True, False, True, False, False, False, False, True, False, False, False, True, True, True, False, True, True, False, False, False, True, False, True, True, True, False, True, True, False, True, False, True, True, False, False, True, True, True, False, True, False, False, False, True, False, False, True]\n"
          ]
        }
      ],
      "source": [
        "#when using just closing values\n",
        "predictions = []\n",
        "model = pipe_nb\n",
        "\n",
        "for values, tweet in samples_test:\n",
        "    X = values['Close'].values[-10:].reshape(1, -1)\n",
        "    y_pred = model.predict(X)\n",
        "    predictions.extend(y_pred)\n",
        "\n",
        "pred_nb = (np.array(predictions) > 0).tolist()\n",
        "print(pred_nb)"
      ]
    },
    {
      "cell_type": "markdown",
      "metadata": {
        "collapsed": false,
        "id": "wyzvc12KKjdV"
      },
      "source": [
        "### With Twitter sentiment (69%)"
      ]
    },
    {
      "cell_type": "code",
      "execution_count": null,
      "metadata": {
        "id": "Y-3L1qaXKjdV"
      },
      "outputs": [],
      "source": [
        "#for using twitter sentiment\n",
        "with open('test_samples (4).pkl', 'rb') as f:\n",
        "    samples_test = pickle.load(f)"
      ]
    },
    {
      "cell_type": "code",
      "execution_count": null,
      "metadata": {
        "id": "PQgOuGIbKjdV",
        "outputId": "eae5eddd-57d9-491b-9461-3f2634a0e315"
      },
      "outputs": [
        {
          "name": "stdout",
          "output_type": "stream",
          "text": [
            "[True, True, True, True, False, True, True, True, True, False, True, False, True, False, False, True, True, True, True, True, False, False, False, True, True, True, False, True, True, False, True, False, False, False, False, False, False, False, False, False, False, True, False, True, True, True, False, False, False, True, True, False, False, False, False, True, True, False, True, True, True, True, True, True, True, True, False, True, True, False, True, False, False, True, True, False, True, False, False, False, False, False, False, True, False, False, True, True, True, True, False, True, True, False, False, False, False, False, True, True, True, True, False, False, True, True, True, True, True, False, True, True, True, False, True, False, False, False, False, False, True, False, False, True, True, False, False, False, False, True, True, False, False, False, True, False, False, True, False, False, True, False, True, False, True, False, False, False, False, True, True, False, True, True, True, False, False, False, True, False, True, True, False, True, False, False, False, False, True, True, True, False, True, False, False, False, False, False, True, True, True, False, False, False, True, True, False, True, False, False, False, False, False, True, True, True, False, True, False, True, True, False, False, False, True, True, True, True, False, True, True, False, False, False, True, True, False, False, False, True, False, False, True, False, False, True, False, False, True, False, True, True, True, False, False, False, True, False, True, True, False, False, False, True, True, True, False, False, True, True, False, False, False, True, True, True, True, True, False, False, True, True, False, False, False, False, True, False, False, True, True, True, False, False, False, True, True, False, True, False, False, False, True, False, True, True, True, False, True, True, False, False, True, False, True, False, True, False, True, False, True, False, False, True, False, False, True, False, False, False, False, False, True, False, False, True, False, False, False, False, False, True, False, True, True, False, False, False, False, False, False, True, False, True, True, True, True, True, True, True, False, False, True, False, False, True, True, True, True, True, False, False, False, False, False, False, False, False, True, True, False, False, False, False, True, False, True, True, True, False, False, False, False, False, False, True, True, False, True, True, False, False, True, False, False, False, False, False, False, True, False, True, False, True, True, False, True, True, True, True, True, True, False, False, True, False, True, False, False, True, False, False, False, False, True, False, False, False, False, True, False, True, False, False, True, True, False, True, False, False, True, False, True, True, True, False, True, True, False, True, True, False, False, False, True, True, True, True, True, False, True, False, True, True, False, False, True, True, False, False, True, True, False, False, True, False, True, False, True, True, False, True, False, True, True, True, False, True, False, False, True, False, True, False, True, False, False, False, True, False, False, False, False, True, True, False, False, True, False, False, True, False, False, False, False, False, True, True, False, False, True, False, True, False, True, True, True, True, False, True, True, False, True, True, True, True, True, True, False, False, True, False, False, True, False, True, False, False, True, True, True, True, True, False, True, False, True, False, True, False, False, True, True, True, False, True, False, True, True, True, True, False, True, True, True, False, False, True, False, False, False, False, True, True, False, False, True, False, False, False, False, True, True, True, False, False, False, True, True, False, False, False, False, True, True, True, False, False, False, True, False, True, True, True, True, False, False, False, True, False, True, False, False, False, False, True, True, True, True, False, False, True, False, False, False, True, False, False, False, True, True, True, True, True, False, False, True, False, False, False, True, True, True, True, False, True, True, True, True, False, False, True, False, True, False, False, False, False, True, False, True, True, True, False, False, True, True, False, False, False, False, False, True, False, True, True, False, True, False, False, True, True, False, False, False, False, False, False, True, True, False, True, True, False, True, True, True, False, True, True, True, False, False, False, False, True, True, True, False, False, True, False, True, False, False, False, False, False, True, True, False, False, True, True, True, False, False, True, True, False, False, True, False, False, False, True, True, True, True, False, False, True, True, True, True, False, True, False, True, False, True, True, True, False, True, True, False, False, True, False, False, False, True, False, False, True, True, False, False, True, False, True, True, True, False, True, False, False, True, False, False, False, True, False, True, True, False, True, False, True, True, False, True, True, True, True, True, False, True, True, False, False, True, False, False, False, False, False, True, False, False, False, False, True, True, False, True, True, False, True, True, True, False, False, True, False, True, True, False, True, False, True, False, True, True, True, False, True, True, False, True, True, True, True, False, True, True, False, True, False, True, False, False, True, False, False, False, True, False, True, False, True, True, True, False, False, False, False, True, False, False, False, False, False, True, False, False, True, False, True, True, True, True, False, True, False, True, False, True, True, False, True, True, False, True, False, False, False, False, False, True, False, False, False, True, True, False, True, False, False, True, True, True, False, False, True, True, True, False, True, True, False, False, True, True, True, False, True, True, False, True, True, False, False, False, False, True, True, False, False, False, True, False, True, False, False, False, True, True, False, True, True, True, True, True, True, False, True, False, False, True, False, True, False, True, True, False, False, True, True, True, False, True, True, False, True, True, True, False, False, True, False, True, False, True, False, False, False, True, False, False, True, False, True, False, False, False, False, False, False]\n"
          ]
        }
      ],
      "source": [
        "#when using also twitter sentiment\n",
        "model = pipe_nb\n",
        "pred_nb = extracting_test_vector(samples_test)\n",
        "\n",
        "print(pred_nb)"
      ]
    }
  ],
  "metadata": {
    "colab": {
      "provenance": []
    },
    "interpreter": {
      "hash": "31f2aee4e71d21fbe5cf8b01ff0e069b9275f58929596ceb00d14d90e3e16cd6"
    },
    "kernelspec": {
      "display_name": "Python 3.7.3 64-bit",
      "language": "python",
      "name": "python3"
    },
    "language_info": {
      "codemirror_mode": {
        "name": "ipython",
        "version": 3
      },
      "file_extension": ".py",
      "mimetype": "text/x-python",
      "name": "python",
      "nbconvert_exporter": "python",
      "pygments_lexer": "ipython3",
      "version": "3.10.9"
    },
    "orig_nbformat": 4
  },
  "nbformat": 4,
  "nbformat_minor": 0
}
